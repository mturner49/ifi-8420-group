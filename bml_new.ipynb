{
 "cells": [
  {
   "cell_type": "code",
   "execution_count": 1,
   "id": "c1467001",
   "metadata": {},
   "outputs": [],
   "source": [
    "%matplotlib inline\n",
    "from pathlib import Path\n",
    "\n",
    "import pandas as pd\n",
    "from sklearn.model_selection import train_test_split\n",
    "from sklearn.linear_model import LinearRegression, Lasso, Ridge, LassoCV, BayesianRidge\n",
    "import statsmodels.formula.api as sm\n",
    "import matplotlib.pylab as plt\n",
    "import seaborn as sns\n",
    "\n",
    "from dmba import regressionSummary, exhaustive_search\n",
    "from dmba import backward_elimination, forward_selection, stepwise_selection\n",
    "from dmba import adjusted_r2_score, AIC_score, BIC_score"
   ]
  },
  {
   "cell_type": "code",
   "execution_count": 2,
   "id": "2342b065",
   "metadata": {},
   "outputs": [],
   "source": [
    "import numpy as np"
   ]
  },
  {
   "cell_type": "code",
   "execution_count": 3,
   "id": "566d5af8",
   "metadata": {},
   "outputs": [],
   "source": [
    "df = pd.read_csv(\"german_credit_data.csv\")"
   ]
  },
  {
   "cell_type": "code",
   "execution_count": 4,
   "id": "00a70076",
   "metadata": {},
   "outputs": [
    {
     "name": "stdout",
     "output_type": "stream",
     "text": [
      "<class 'pandas.core.frame.DataFrame'>\n",
      "RangeIndex: 1000 entries, 0 to 999\n",
      "Data columns (total 11 columns):\n",
      " #   Column            Non-Null Count  Dtype \n",
      "---  ------            --------------  ----- \n",
      " 0   Unnamed: 0        1000 non-null   int64 \n",
      " 1   Age               1000 non-null   int64 \n",
      " 2   Sex               1000 non-null   object\n",
      " 3   Job               1000 non-null   int64 \n",
      " 4   Housing           1000 non-null   object\n",
      " 5   Saving accounts   817 non-null    object\n",
      " 6   Checking account  606 non-null    object\n",
      " 7   Credit amount     1000 non-null   int64 \n",
      " 8   Duration          1000 non-null   int64 \n",
      " 9   Purpose           1000 non-null   object\n",
      " 10  Risk              1000 non-null   object\n",
      "dtypes: int64(5), object(6)\n",
      "memory usage: 86.1+ KB\n"
     ]
    }
   ],
   "source": [
    "df.info()"
   ]
  },
  {
   "cell_type": "code",
   "execution_count": 5,
   "id": "3213a791",
   "metadata": {},
   "outputs": [],
   "source": [
    "df.rename(columns={\n",
    "    'Saving accounts': 'saving_accounts'\n",
    "    ,'Checking account': 'checking_account'\n",
    "    ,'Credit amount': 'credit_amount'}, inplace=True)"
   ]
  },
  {
   "cell_type": "markdown",
   "id": "a624afce",
   "metadata": {},
   "source": [
    "Features\n",
    "This dataset is available on the kaggle platform. The aim is to determine the risk of a bank credit given to customers. The risk status of the customers for the new credit will be determined by using some machine learning, artificial neural network model with this dataset. The dataset includes the following features:\n",
    "Age: This variable bank contains the age information of the customers.\n",
    "\n",
    "Sex: This variable contains the gender information of the bank customers.\n",
    "\n",
    "Job: This variable contains occupational information of bank customers. Professions are divided into four categories according to skill level. (0 - unskilled and non\u0002resident, 1 - unskilled and resident, 2 - skilled, 3 - highly skilled)\n",
    "\n",
    "Housing: This variable includes the housing status of the bank customers.\n",
    "\n",
    "Saving Accounts: This variable bank contains customers savings information.Customers savings are classified as little, moderate, quite rich, rich.\n",
    "\n",
    "Checking Accounts: This variable show the cash in the accounts of bank customers.\n",
    "\n",
    "Credit Amount: This variable shows how much credit the bank customers get."
   ]
  },
  {
   "cell_type": "markdown",
   "id": "243ee862",
   "metadata": {},
   "source": [
    "### Exploratory data Analysis"
   ]
  },
  {
   "cell_type": "code",
   "execution_count": 6,
   "id": "af1004ea",
   "metadata": {},
   "outputs": [
    {
     "data": {
      "text/plain": [
       "Unnamed: 0            0\n",
       "Age                   0\n",
       "Sex                   0\n",
       "Job                   0\n",
       "Housing               0\n",
       "saving_accounts     183\n",
       "checking_account    394\n",
       "credit_amount         0\n",
       "Duration              0\n",
       "Purpose               0\n",
       "Risk                  0\n",
       "dtype: int64"
      ]
     },
     "execution_count": 6,
     "metadata": {},
     "output_type": "execute_result"
    }
   ],
   "source": [
    "#null values\n",
    "df.isnull().sum()"
   ]
  },
  {
   "cell_type": "code",
   "execution_count": 7,
   "id": "f830f585",
   "metadata": {},
   "outputs": [
    {
     "data": {
      "image/png": "[encoded data removed]",
      "text/plain": [
       "<Figure size 432x288 with 1 Axes>"
      ]
     },
     "metadata": {
      "needs_background": "light"
     },
     "output_type": "display_data"
    }
   ],
   "source": [
    "#how housing varies between male and female\n",
    "sns.countplot(data=df, x='Housing', hue='Sex')\n",
    "plt.show()"
   ]
  },
  {
   "cell_type": "code",
   "execution_count": 8,
   "id": "0eb89a4b",
   "metadata": {},
   "outputs": [
    {
     "data": {
      "image/png": "[encoded data removed]",
      "text/plain": [
       "<Figure size 432x288 with 1 Axes>"
      ]
     },
     "metadata": {
      "needs_background": "light"
     },
     "output_type": "display_data"
    }
   ],
   "source": [
    "#how risk varies between different type of job holders\n",
    "sns.countplot(data=df, x='Job', hue='Risk')\n",
    "plt.show()"
   ]
  },
  {
   "cell_type": "code",
   "execution_count": 9,
   "id": "9c97f6ad",
   "metadata": {},
   "outputs": [
    {
     "data": {
      "image/png": "[encoded data removed]",
      "text/plain": [
       "<Figure size 360x360 with 1 Axes>"
      ]
     },
     "metadata": {
      "needs_background": "light"
     },
     "output_type": "display_data"
    }
   ],
   "source": [
    "# Average age of male of female\n",
    "sns.catplot(data=df, x='Sex', y='Age', kind='box')\n",
    "plt.show()"
   ]
  },
  {
   "cell_type": "code",
   "execution_count": 10,
   "id": "24a2c87a",
   "metadata": {},
   "outputs": [
    {
     "data": {
      "image/png": "[encoded data removed]",
      "text/plain": [
       "<Figure size 720x720 with 4 Axes>"
      ]
     },
     "metadata": {
      "needs_background": "light"
     },
     "output_type": "display_data"
    }
   ],
   "source": [
    "# how risk varies between different age group of male and female\n",
    "sns.displot(data=df, row='Sex', y='Age', col='Risk')\n",
    "plt.show()"
   ]
  },
  {
   "cell_type": "code",
   "execution_count": 11,
   "id": "e6c50211",
   "metadata": {},
   "outputs": [
    {
     "ename": "NameError",
     "evalue": "name 'df1' is not defined",
     "output_type": "error",
     "traceback": [
      "\u001b[1;31m---------------------------------------------------------------------------\u001b[0m",
      "\u001b[1;31mNameError\u001b[0m                                 Traceback (most recent call last)",
      "\u001b[1;32m<ipython-input-11-8825d1584155>\u001b[0m in \u001b[0;36m<module>\u001b[1;34m\u001b[0m\n\u001b[0;32m      1\u001b[0m \u001b[1;32mimport\u001b[0m \u001b[0mseaborn\u001b[0m \u001b[1;32mas\u001b[0m \u001b[0msns\u001b[0m\u001b[1;33m\u001b[0m\u001b[1;33m\u001b[0m\u001b[0m\n\u001b[0;32m      2\u001b[0m \u001b[1;31m#uniform_data = np.random.rand(10, 12)\u001b[0m\u001b[1;33m\u001b[0m\u001b[1;33m\u001b[0m\u001b[1;33m\u001b[0m\u001b[0m\n\u001b[1;32m----> 3\u001b[1;33m \u001b[0max\u001b[0m \u001b[1;33m=\u001b[0m \u001b[0msns\u001b[0m\u001b[1;33m.\u001b[0m\u001b[0mheatmap\u001b[0m\u001b[1;33m(\u001b[0m\u001b[0mdf1\u001b[0m\u001b[1;33m)\u001b[0m\u001b[1;33m\u001b[0m\u001b[1;33m\u001b[0m\u001b[0m\n\u001b[0m",
      "\u001b[1;31mNameError\u001b[0m: name 'df1' is not defined"
     ]
    }
   ],
   "source": [
    "import seaborn as sns\n",
    "#uniform_data = np.random.rand(10, 12)\n",
    "ax = sns.heatmap(df1)"
   ]
  },
  {
   "cell_type": "markdown",
   "id": "36d58b36",
   "metadata": {},
   "source": [
    "### Feature Engineering"
   ]
  },
  {
   "cell_type": "code",
   "execution_count": null,
   "id": "6d399ada",
   "metadata": {},
   "outputs": [],
   "source": [
    "# Could Credit Amount be better represented?\n",
    "\n",
    "# Let's see how is credit amount distributed\n",
    "sns.displot(df['credit_amount'])\n",
    "plt.show()\n",
    "\n",
    "# Another way to represent long tail numerical distributions is to transform them\n",
    "# using e.g., a log function\n",
    "sns.displot(np.log10(df['credit_amount']))\n",
    "plt.show()\n",
    "\n",
    "# Apply the new distribution to the dataset\n",
    "df['credit_amount'] = np.log10(df['credit_amount'])"
   ]
  },
  {
   "cell_type": "code",
   "execution_count": null,
   "id": "100f5310",
   "metadata": {},
   "outputs": [],
   "source": [
    "# Could age be better represented?\n",
    "\n",
    "# Let's see how age is distributed\n",
    "sns.displot(df['Age'])\n",
    "plt.show()\n",
    "\n",
    "#Let us split age into categories\n",
    "interval = (18, 25, 35, 60, 120)\n",
    "cats = ['Young Adult', 'Adult', 'Senior', 'Elder']\n",
    "df[\"Age_cat\"] = pd.cut(df['Age'], interval, labels=cats)"
   ]
  },
  {
   "cell_type": "code",
   "execution_count": null,
   "id": "92a7a596",
   "metadata": {},
   "outputs": [],
   "source": [
    "df"
   ]
  },
  {
   "cell_type": "code",
   "execution_count": null,
   "id": "141e3fba",
   "metadata": {},
   "outputs": [],
   "source": [
    "categorical_cols = ['Sex', 'Housing', 'saving_accounts', 'checking_account','Purpose','Risk','Age_cat'] \n",
    "\n",
    "#import pandas as pd\n",
    "df1 = pd.get_dummies(df, columns = categorical_cols)"
   ]
  },
  {
   "cell_type": "code",
   "execution_count": null,
   "id": "f8615b81",
   "metadata": {},
   "outputs": [],
   "source": [
    "df1.columns = df1.columns.str.replace(' ','_')"
   ]
  },
  {
   "cell_type": "code",
   "execution_count": null,
   "id": "50384d1d",
   "metadata": {},
   "outputs": [],
   "source": [
    "df1.columns = df1.columns.str.replace('/','_')"
   ]
  },
  {
   "cell_type": "code",
   "execution_count": null,
   "id": "ba8066f5",
   "metadata": {},
   "outputs": [],
   "source": [
    "df1.columns"
   ]
  },
  {
   "cell_type": "code",
   "execution_count": null,
   "id": "0bb0c339",
   "metadata": {},
   "outputs": [],
   "source": [
    "# # representing categorical values---one hot encoding\n",
    "\n",
    "# df1 = pd.get_dummies(df.Sex, prefix='Sex')\n",
    "# df2 = pd.get_dummies(df.Housing, prefix='Housing')\n",
    "# df3 = pd.get_dummies(df['Saving accounts'], prefix='Saving')\n",
    "# df4 = pd.get_dummies(df['Checking account'], prefix='Checking')\n",
    "# df5 = pd.get_dummies(df.Purpose, prefix='Purp')\n",
    "# df6 = pd.get_dummies(df.Risk, prefix='Risk')\n",
    "# df7 = pd.get_dummies(df.Age_cat, prefix='Age_cat')"
   ]
  },
  {
   "cell_type": "code",
   "execution_count": null,
   "id": "fa6c269c",
   "metadata": {},
   "outputs": [],
   "source": [
    "# df= df1.merge(df2,how ='left').merge(df3,how ='left').merge(df4,how ='left').merge(df5,how ='left').merge(df6,how ='left').merge(df7,how ='left')"
   ]
  },
  {
   "cell_type": "code",
   "execution_count": null,
   "id": "a9db0e6a",
   "metadata": {},
   "outputs": [],
   "source": [
    "df1 = df1.drop(df1.columns[[0,1]], axis=1)"
   ]
  },
  {
   "cell_type": "code",
   "execution_count": null,
   "id": "273ae65f",
   "metadata": {},
   "outputs": [],
   "source": [
    "df1"
   ]
  },
  {
   "cell_type": "code",
   "execution_count": null,
   "id": "268210b6",
   "metadata": {},
   "outputs": [],
   "source": [
    "df.columns"
   ]
  },
  {
   "cell_type": "code",
   "execution_count": null,
   "id": "15038f93",
   "metadata": {},
   "outputs": [],
   "source": [
    "\n",
    "y=df[['credit_amount']]\n",
    "df2=df1.drop(df1.columns[[1]], axis=1)\n"
   ]
  },
  {
   "cell_type": "code",
   "execution_count": null,
   "id": "656f3f4a",
   "metadata": {},
   "outputs": [],
   "source": [
    "df2#df1.drop('Age', axis=1, inplace=True)"
   ]
  },
  {
   "cell_type": "code",
   "execution_count": null,
   "id": "5e3d7697",
   "metadata": {},
   "outputs": [],
   "source": [
    "#colum=list(df1.columns)\n",
    "X=df2\n",
    "y"
   ]
  },
  {
   "cell_type": "markdown",
   "id": "2ed65dfe",
   "metadata": {},
   "source": [
    "### LINEAR REGRESSION"
   ]
  },
  {
   "cell_type": "code",
   "execution_count": null,
   "id": "72d21c2a",
   "metadata": {},
   "outputs": [],
   "source": [
    "X_train, X_test, y_train, y_test = train_test_split(X, y, test_size=0.4, random_state=42)\n",
    "linear_regressor = LinearRegression()  # create object for the class\n",
    "linear_regressor.fit(X_train, y_train)  # perform linear regression\n",
    "Y_pred = linear_regressor.predict(X_test)  # make predictions"
   ]
  },
  {
   "cell_type": "code",
   "execution_count": null,
   "id": "5cb7aa8b",
   "metadata": {},
   "outputs": [],
   "source": [
    "from sklearn.metrics import mean_absolute_error\n",
    "print(\"MAE\",mean_absolute_error(y_test,Y_pred))\n",
    "from sklearn.metrics import mean_squared_error\n",
    "print(\"MSE\",mean_squared_error(y_test,Y_pred))\n",
    "print(\"RMSE\",np.sqrt(mean_squared_error(y_test,Y_pred)))\n",
    "print(\"RMSLE\",np.log(np.sqrt(mean_squared_error(y_test,Y_pred))))\n"
   ]
  },
  {
   "cell_type": "code",
   "execution_count": null,
   "id": "6ec013c4",
   "metadata": {},
   "outputs": [],
   "source": [
    "from sklearn.metrics import r2_score\n",
    "r2 = r2_score(y_test,Y_pred)\n",
    "print(r2)"
   ]
  },
  {
   "cell_type": "markdown",
   "id": "1d07ab89",
   "metadata": {},
   "source": [
    "### Exhaustive search"
   ]
  },
  {
   "cell_type": "code",
   "execution_count": null,
   "id": "71704f42",
   "metadata": {},
   "outputs": [],
   "source": [
    "# def train_model(variables):\n",
    "#     model = LinearRegression()\n",
    "#     model.fit(train_X[list(variables)], train_y)\n",
    "#     return model\n",
    "\n",
    "# def score_model(model, variables):\n",
    "#     pred_y = model.predict(train_X[list(variables)])\n",
    "#     # we negate as score is optimized to be as low as possible\n",
    "#     return -adjusted_r2_score(train_y, pred_y, model)\n",
    "\n",
    "# allVariables = train_X.columns\n",
    "# results = exhaustive_search(allVariables, train_model, score_model)\n",
    "\n",
    "# data = []\n",
    "# for result in results:\n",
    "#     model = result['model']\n",
    "#     variables = result['variables']\n",
    "#     AIC = AIC_score(train_y, model.predict(train_X[variables]), model)\n",
    "    \n",
    "#     d = {'n': result['n'], 'r2adj': -result['score'], 'AIC': AIC}\n",
    "#     d.update({var: var in result['variables'] for var in allVariables})\n",
    "#     data.append(d)\n",
    "# pd.set_option('display.width', 100)\n",
    "# print(pd.DataFrame(data, columns=('n', 'r2adj', 'AIC') + tuple(sorted(allVariables))))\n",
    "# pd.reset_option('display.width')"
   ]
  },
  {
   "cell_type": "markdown",
   "id": "bf9459cb",
   "metadata": {},
   "source": [
    "### Backward Elemination"
   ]
  },
  {
   "cell_type": "code",
   "execution_count": null,
   "id": "56df2f70",
   "metadata": {},
   "outputs": [],
   "source": [
    "def train_model(variables):\n",
    "  model = LinearRegression()\n",
    "  model.fit(X_train[variables], y_train)\n",
    "  return model\n",
    "\n",
    "def score_model(model, variables):\n",
    "  return AIC_score(y_train, model.predict(X_train[variables]), model)\n",
    "\n",
    "allVariables = X_train.columns\n",
    "best_model, best_variables = backward_elimination(allVariables, train_model, score_model, verbose=True)\n",
    "print(best_variables)\n"
   ]
  },
  {
   "cell_type": "code",
   "execution_count": null,
   "id": "7ff771f8",
   "metadata": {},
   "outputs": [],
   "source": [
    "from sklearn.metrics import mean_absolute_error\n",
    "print(\"MAE\",mean_absolute_error(y_test,Y_pred))\n",
    "from sklearn.metrics import mean_squared_error\n",
    "print(\"MSE\",mean_squared_error(y_test,Y_pred))\n",
    "print(\"RMSE\",np.sqrt(mean_squared_error(y_test,Y_pred)))\n",
    "print(\"RMSLE\",np.log(np.sqrt(mean_squared_error(y_test,Y_pred))))"
   ]
  },
  {
   "cell_type": "code",
   "execution_count": null,
   "id": "657fe613",
   "metadata": {},
   "outputs": [],
   "source": [
    "from sklearn.metrics import r2_score\n",
    "r2 = r2_score(y_test,Y_pred)\n",
    "print(r2)"
   ]
  },
  {
   "cell_type": "code",
   "execution_count": null,
   "id": "85e99216",
   "metadata": {},
   "outputs": [],
   "source": []
  },
  {
   "cell_type": "markdown",
   "id": "192b0b34",
   "metadata": {},
   "source": [
    "### Forward Elimination"
   ]
  },
  {
   "cell_type": "code",
   "execution_count": null,
   "id": "2e1ca57d",
   "metadata": {},
   "outputs": [],
   "source": [
    "def train_model(variables):\n",
    "    if len(variables) == 0:\n",
    "        return None\n",
    "    model = LinearRegression()\n",
    "    model.fit(X_train[variables], y_train)\n",
    "    return model\n",
    "\n",
    "def score_model(model, variables):\n",
    "    if len(variables) == 0:\n",
    "        return AIC_score(y_train, [y_train.mean()] * len(y_train), model, df=1)\n",
    "    return AIC_score(y_train, model.predict(X_train[variables]), model)\n",
    "\n",
    "best_model, best_variables = forward_selection(X_train.columns, train_model, score_model, verbose=True)\n",
    "\n",
    "print(best_variables)"
   ]
  },
  {
   "cell_type": "code",
   "execution_count": null,
   "id": "bd96b307",
   "metadata": {},
   "outputs": [],
   "source": []
  },
  {
   "cell_type": "markdown",
   "id": "88678e20",
   "metadata": {},
   "source": [
    "### Lasso linear Regression"
   ]
  },
  {
   "cell_type": "code",
   "execution_count": null,
   "id": "c3215fe1",
   "metadata": {},
   "outputs": [],
   "source": [
    "lasso = Lasso(normalize=True, alpha=1)\n",
    "lasso.fit(X_train, y_train)\n",
    "regressionSummary(y_test, lasso.predict(X_test))\n",
    "\n",
    "lasso_cv = LassoCV(normalize=True, cv=5)\n",
    "lasso_cv.fit(X_train, y_train)\n",
    "regressionSummary(y_test, lasso_cv.predict(X_test))\n",
    "print('Lasso-CV chosen regularization: ', lasso_cv.alpha_)\n",
    "print(lasso_cv.coef_)\n"
   ]
  },
  {
   "cell_type": "code",
   "execution_count": null,
   "id": "c1518a51",
   "metadata": {},
   "outputs": [],
   "source": [
    "linearRegression = LinearRegression(normalize=True).fit(X_train, y_train)\n",
    "regressionSummary(y_test, linearRegression.predict(X_test))"
   ]
  },
  {
   "cell_type": "code",
   "execution_count": null,
   "id": "44dc5d0c",
   "metadata": {},
   "outputs": [],
   "source": [
    "X_train.columns\n"
   ]
  },
  {
   "cell_type": "code",
   "execution_count": null,
   "id": "fcbed94e",
   "metadata": {},
   "outputs": [],
   "source": [
    "linearRegression.coef_"
   ]
  },
  {
   "cell_type": "code",
   "execution_count": null,
   "id": "b8731de9",
   "metadata": {},
   "outputs": [],
   "source": [
    "#pd.DataFrame({'features': X_train.columns, 'linear regression': linearRegression.coef_, \n",
    "#              'lassoCV': lasso_cv.coef_})"
   ]
  },
  {
   "cell_type": "code",
   "execution_count": null,
   "id": "fcb03e7a",
   "metadata": {},
   "outputs": [],
   "source": [
    "X_train.columns"
   ]
  },
  {
   "cell_type": "code",
   "execution_count": null,
   "id": "0d088f68",
   "metadata": {},
   "outputs": [],
   "source": [
    "# X_train.columns = X_train.columns.str.replace(' ','_')"
   ]
  },
  {
   "cell_type": "code",
   "execution_count": null,
   "id": "4bc93f2d",
   "metadata": {},
   "outputs": [],
   "source": [
    "# run a linear regression of credit_amount\n",
    "train_df = X_train.join(y_train)\n",
    "\n",
    "predictors = X_train.columns\n",
    "formula = 'credit_amount ~ ' + ' + '.join(predictors)\n",
    "\n",
    "car_lm = sm.ols(formula=formula, data=train_df).fit()\n",
    "print(car_lm.summary())"
   ]
  },
  {
   "cell_type": "code",
   "execution_count": null,
   "id": "71363b47",
   "metadata": {},
   "outputs": [],
   "source": []
  }
 ],
 "metadata": {
  "kernelspec": {
   "display_name": "Python 3",
   "language": "python",
   "name": "python3"
  },
  "language_info": {
   "codemirror_mode": {
    "name": "ipython",
    "version": 3
   },
   "file_extension": ".py",
   "mimetype": "text/x-python",
   "name": "python",
   "nbconvert_exporter": "python",
   "pygments_lexer": "ipython3",
   "version": "3.8.8"
  }
 },
 "nbformat": 4,
 "nbformat_minor": 5
}
