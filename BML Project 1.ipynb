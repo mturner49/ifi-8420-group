{
 "cells": [
  {
   "cell_type": "markdown",
   "id": "96802187",
   "metadata": {},
   "source": [
    "### Data Reading "
   ]
  },
  {
   "cell_type": "code",
   "execution_count": 177,
   "id": "2d6b3f42",
   "metadata": {},
   "outputs": [],
   "source": [
    "%matplotlib inline\n",
    "from pathlib import Path\n",
    "\n",
    "import pandas as pd\n",
    "from sklearn.model_selection import train_test_split\n",
    "from sklearn.linear_model import LinearRegression, Lasso, Ridge, LassoCV, BayesianRidge\n",
    "import statsmodels.formula.api as sm\n",
    "import matplotlib.pylab as plt\n",
    "import seaborn as sns\n",
    "\n",
    "from dmba import regressionSummary, exhaustive_search\n",
    "from dmba import backward_elimination, forward_selection, stepwise_selection\n",
    "from dmba import adjusted_r2_score, AIC_score, BIC_score"
   ]
  },
  {
   "cell_type": "code",
   "execution_count": 140,
   "id": "8da95155",
   "metadata": {},
   "outputs": [],
   "source": [
    "import pandas as pd"
   ]
  },
  {
   "cell_type": "code",
   "execution_count": 141,
   "id": "4b846a19",
   "metadata": {},
   "outputs": [],
   "source": [
    "df = pd.read_csv(\"german_credit_data.csv\")"
   ]
  },
  {
   "cell_type": "code",
   "execution_count": 142,
   "id": "aacec41a",
   "metadata": {},
   "outputs": [
    {
     "data": {
      "text/html": [
       "<div>\n",
       "<style scoped>\n",
       "    .dataframe tbody tr th:only-of-type {\n",
       "        vertical-align: middle;\n",
       "    }\n",
       "\n",
       "    .dataframe tbody tr th {\n",
       "        vertical-align: top;\n",
       "    }\n",
       "\n",
       "    .dataframe thead th {\n",
       "        text-align: right;\n",
       "    }\n",
       "</style>\n",
       "<table border=\"1\" class=\"dataframe\">\n",
       "  <thead>\n",
       "    <tr style=\"text-align: right;\">\n",
       "      <th></th>\n",
       "      <th>Unnamed: 0</th>\n",
       "      <th>Age</th>\n",
       "      <th>Sex</th>\n",
       "      <th>Job</th>\n",
       "      <th>Housing</th>\n",
       "      <th>Saving accounts</th>\n",
       "      <th>Checking account</th>\n",
       "      <th>Credit amount</th>\n",
       "      <th>Duration</th>\n",
       "      <th>Purpose</th>\n",
       "      <th>Risk</th>\n",
       "    </tr>\n",
       "  </thead>\n",
       "  <tbody>\n",
       "    <tr>\n",
       "      <th>0</th>\n",
       "      <td>0</td>\n",
       "      <td>67</td>\n",
       "      <td>male</td>\n",
       "      <td>2</td>\n",
       "      <td>own</td>\n",
       "      <td>NaN</td>\n",
       "      <td>little</td>\n",
       "      <td>1169</td>\n",
       "      <td>6</td>\n",
       "      <td>radio/TV</td>\n",
       "      <td>good</td>\n",
       "    </tr>\n",
       "    <tr>\n",
       "      <th>1</th>\n",
       "      <td>1</td>\n",
       "      <td>22</td>\n",
       "      <td>female</td>\n",
       "      <td>2</td>\n",
       "      <td>own</td>\n",
       "      <td>little</td>\n",
       "      <td>moderate</td>\n",
       "      <td>5951</td>\n",
       "      <td>48</td>\n",
       "      <td>radio/TV</td>\n",
       "      <td>bad</td>\n",
       "    </tr>\n",
       "    <tr>\n",
       "      <th>2</th>\n",
       "      <td>2</td>\n",
       "      <td>49</td>\n",
       "      <td>male</td>\n",
       "      <td>1</td>\n",
       "      <td>own</td>\n",
       "      <td>little</td>\n",
       "      <td>NaN</td>\n",
       "      <td>2096</td>\n",
       "      <td>12</td>\n",
       "      <td>education</td>\n",
       "      <td>good</td>\n",
       "    </tr>\n",
       "    <tr>\n",
       "      <th>3</th>\n",
       "      <td>3</td>\n",
       "      <td>45</td>\n",
       "      <td>male</td>\n",
       "      <td>2</td>\n",
       "      <td>free</td>\n",
       "      <td>little</td>\n",
       "      <td>little</td>\n",
       "      <td>7882</td>\n",
       "      <td>42</td>\n",
       "      <td>furniture/equipment</td>\n",
       "      <td>good</td>\n",
       "    </tr>\n",
       "    <tr>\n",
       "      <th>4</th>\n",
       "      <td>4</td>\n",
       "      <td>53</td>\n",
       "      <td>male</td>\n",
       "      <td>2</td>\n",
       "      <td>free</td>\n",
       "      <td>little</td>\n",
       "      <td>little</td>\n",
       "      <td>4870</td>\n",
       "      <td>24</td>\n",
       "      <td>car</td>\n",
       "      <td>bad</td>\n",
       "    </tr>\n",
       "    <tr>\n",
       "      <th>...</th>\n",
       "      <td>...</td>\n",
       "      <td>...</td>\n",
       "      <td>...</td>\n",
       "      <td>...</td>\n",
       "      <td>...</td>\n",
       "      <td>...</td>\n",
       "      <td>...</td>\n",
       "      <td>...</td>\n",
       "      <td>...</td>\n",
       "      <td>...</td>\n",
       "      <td>...</td>\n",
       "    </tr>\n",
       "    <tr>\n",
       "      <th>995</th>\n",
       "      <td>995</td>\n",
       "      <td>31</td>\n",
       "      <td>female</td>\n",
       "      <td>1</td>\n",
       "      <td>own</td>\n",
       "      <td>little</td>\n",
       "      <td>NaN</td>\n",
       "      <td>1736</td>\n",
       "      <td>12</td>\n",
       "      <td>furniture/equipment</td>\n",
       "      <td>good</td>\n",
       "    </tr>\n",
       "    <tr>\n",
       "      <th>996</th>\n",
       "      <td>996</td>\n",
       "      <td>40</td>\n",
       "      <td>male</td>\n",
       "      <td>3</td>\n",
       "      <td>own</td>\n",
       "      <td>little</td>\n",
       "      <td>little</td>\n",
       "      <td>3857</td>\n",
       "      <td>30</td>\n",
       "      <td>car</td>\n",
       "      <td>good</td>\n",
       "    </tr>\n",
       "    <tr>\n",
       "      <th>997</th>\n",
       "      <td>997</td>\n",
       "      <td>38</td>\n",
       "      <td>male</td>\n",
       "      <td>2</td>\n",
       "      <td>own</td>\n",
       "      <td>little</td>\n",
       "      <td>NaN</td>\n",
       "      <td>804</td>\n",
       "      <td>12</td>\n",
       "      <td>radio/TV</td>\n",
       "      <td>good</td>\n",
       "    </tr>\n",
       "    <tr>\n",
       "      <th>998</th>\n",
       "      <td>998</td>\n",
       "      <td>23</td>\n",
       "      <td>male</td>\n",
       "      <td>2</td>\n",
       "      <td>free</td>\n",
       "      <td>little</td>\n",
       "      <td>little</td>\n",
       "      <td>1845</td>\n",
       "      <td>45</td>\n",
       "      <td>radio/TV</td>\n",
       "      <td>bad</td>\n",
       "    </tr>\n",
       "    <tr>\n",
       "      <th>999</th>\n",
       "      <td>999</td>\n",
       "      <td>27</td>\n",
       "      <td>male</td>\n",
       "      <td>2</td>\n",
       "      <td>own</td>\n",
       "      <td>moderate</td>\n",
       "      <td>moderate</td>\n",
       "      <td>4576</td>\n",
       "      <td>45</td>\n",
       "      <td>car</td>\n",
       "      <td>good</td>\n",
       "    </tr>\n",
       "  </tbody>\n",
       "</table>\n",
       "<p>1000 rows × 11 columns</p>\n",
       "</div>"
      ],
      "text/plain": [
       "     Unnamed: 0  Age     Sex  Job Housing Saving accounts Checking account  \\\n",
       "0             0   67    male    2     own             NaN           little   \n",
       "1             1   22  female    2     own          little         moderate   \n",
       "2             2   49    male    1     own          little              NaN   \n",
       "3             3   45    male    2    free          little           little   \n",
       "4             4   53    male    2    free          little           little   \n",
       "..          ...  ...     ...  ...     ...             ...              ...   \n",
       "995         995   31  female    1     own          little              NaN   \n",
       "996         996   40    male    3     own          little           little   \n",
       "997         997   38    male    2     own          little              NaN   \n",
       "998         998   23    male    2    free          little           little   \n",
       "999         999   27    male    2     own        moderate         moderate   \n",
       "\n",
       "     Credit amount  Duration              Purpose  Risk  \n",
       "0             1169         6             radio/TV  good  \n",
       "1             5951        48             radio/TV   bad  \n",
       "2             2096        12            education  good  \n",
       "3             7882        42  furniture/equipment  good  \n",
       "4             4870        24                  car   bad  \n",
       "..             ...       ...                  ...   ...  \n",
       "995           1736        12  furniture/equipment  good  \n",
       "996           3857        30                  car  good  \n",
       "997            804        12             radio/TV  good  \n",
       "998           1845        45             radio/TV   bad  \n",
       "999           4576        45                  car  good  \n",
       "\n",
       "[1000 rows x 11 columns]"
      ]
     },
     "execution_count": 142,
     "metadata": {},
     "output_type": "execute_result"
    }
   ],
   "source": [
    "df"
   ]
  },
  {
   "cell_type": "markdown",
   "id": "ae21186a",
   "metadata": {},
   "source": [
    "### Data  Preprocessing"
   ]
  },
  {
   "cell_type": "code",
   "execution_count": 143,
   "id": "b14158bb",
   "metadata": {},
   "outputs": [
    {
     "name": "stdout",
     "output_type": "stream",
     "text": [
      "<class 'pandas.core.frame.DataFrame'>\n",
      "RangeIndex: 1000 entries, 0 to 999\n",
      "Data columns (total 11 columns):\n",
      " #   Column            Non-Null Count  Dtype \n",
      "---  ------            --------------  ----- \n",
      " 0   Unnamed: 0        1000 non-null   int64 \n",
      " 1   Age               1000 non-null   int64 \n",
      " 2   Sex               1000 non-null   object\n",
      " 3   Job               1000 non-null   int64 \n",
      " 4   Housing           1000 non-null   object\n",
      " 5   Saving accounts   817 non-null    object\n",
      " 6   Checking account  606 non-null    object\n",
      " 7   Credit amount     1000 non-null   int64 \n",
      " 8   Duration          1000 non-null   int64 \n",
      " 9   Purpose           1000 non-null   object\n",
      " 10  Risk              1000 non-null   object\n",
      "dtypes: int64(5), object(6)\n",
      "memory usage: 86.1+ KB\n"
     ]
    }
   ],
   "source": [
    "df.info()"
   ]
  },
  {
   "cell_type": "code",
   "execution_count": 144,
   "id": "08f6ac95",
   "metadata": {},
   "outputs": [
    {
     "data": {
      "text/plain": [
       "Unnamed: 0            0\n",
       "Age                   0\n",
       "Sex                   0\n",
       "Job                   0\n",
       "Housing               0\n",
       "Saving accounts     183\n",
       "Checking account    394\n",
       "Credit amount         0\n",
       "Duration              0\n",
       "Purpose               0\n",
       "Risk                  0\n",
       "dtype: int64"
      ]
     },
     "execution_count": 144,
     "metadata": {},
     "output_type": "execute_result"
    }
   ],
   "source": [
    "df.isnull().sum()"
   ]
  },
  {
   "cell_type": "code",
   "execution_count": 145,
   "id": "59898491",
   "metadata": {},
   "outputs": [
    {
     "data": {
      "text/plain": [
       "array(['own', 'free', 'rent'], dtype=object)"
      ]
     },
     "execution_count": 145,
     "metadata": {},
     "output_type": "execute_result"
    }
   ],
   "source": [
    "df.Housing.unique()"
   ]
  },
  {
   "cell_type": "code",
   "execution_count": 146,
   "id": "0420f219",
   "metadata": {},
   "outputs": [
    {
     "data": {
      "text/plain": [
       "array([nan, 'little', 'quite rich', 'rich', 'moderate'], dtype=object)"
      ]
     },
     "execution_count": 146,
     "metadata": {},
     "output_type": "execute_result"
    }
   ],
   "source": [
    "df[\"Saving accounts\"].unique()"
   ]
  },
  {
   "cell_type": "code",
   "execution_count": 147,
   "id": "f3574738",
   "metadata": {},
   "outputs": [
    {
     "data": {
      "text/plain": [
       "array(['little', 'moderate', nan, 'rich'], dtype=object)"
      ]
     },
     "execution_count": 147,
     "metadata": {},
     "output_type": "execute_result"
    }
   ],
   "source": [
    "df[\"Checking account\"].unique()"
   ]
  },
  {
   "cell_type": "code",
   "execution_count": 148,
   "id": "c6fdf945",
   "metadata": {},
   "outputs": [
    {
     "data": {
      "text/plain": [
       "array(['radio/TV', 'education', 'furniture/equipment', 'car', 'business',\n",
       "       'domestic appliances', 'repairs', 'vacation/others'], dtype=object)"
      ]
     },
     "execution_count": 148,
     "metadata": {},
     "output_type": "execute_result"
    }
   ],
   "source": [
    "df[\"Purpose\"].unique()"
   ]
  },
  {
   "cell_type": "code",
   "execution_count": 149,
   "id": "86081787",
   "metadata": {},
   "outputs": [
    {
     "data": {
      "text/plain": [
       "array(['male', 'female'], dtype=object)"
      ]
     },
     "execution_count": 149,
     "metadata": {},
     "output_type": "execute_result"
    }
   ],
   "source": [
    "df[\"Sex\"].unique()"
   ]
  },
  {
   "cell_type": "code",
   "execution_count": 150,
   "id": "fb780886",
   "metadata": {},
   "outputs": [
    {
     "data": {
      "text/plain": [
       "array(['good', 'bad'], dtype=object)"
      ]
     },
     "execution_count": 150,
     "metadata": {},
     "output_type": "execute_result"
    }
   ],
   "source": [
    "df[\"Risk\"].unique()"
   ]
  },
  {
   "cell_type": "code",
   "execution_count": 151,
   "id": "52f71301",
   "metadata": {},
   "outputs": [],
   "source": [
    "def house(t):\n",
    "    if t == \"free\":\n",
    "        return 0\n",
    "    elif t == \"rent\":\n",
    "        return 1\n",
    "    elif t == \"own\":\n",
    "        return 2\n",
    "\n",
    "df[\"Housing\"] = df[\"Housing\"].apply(house)"
   ]
  },
  {
   "cell_type": "code",
   "execution_count": 152,
   "id": "4bfce964",
   "metadata": {},
   "outputs": [],
   "source": [
    "def Account(acc):\n",
    "    if acc == \"little\":\n",
    "        return 1\n",
    "    elif acc == \"moderate\":\n",
    "        return 2\n",
    "    elif acc == \"quite rich\":\n",
    "        return 3\n",
    "    elif acc == \"rich\":\n",
    "        return 4\n",
    "    else:\n",
    "        return 0\n",
    "\n",
    "df[\"Saving accounts\"] = df[\"Saving accounts\"].apply(Account)\n",
    "df[\"Checking account\"] = df[\"Checking account\"].apply(Account)"
   ]
  },
  {
   "cell_type": "code",
   "execution_count": 153,
   "id": "51d58bc2",
   "metadata": {},
   "outputs": [],
   "source": [
    "def gender(text):\n",
    "    if text == \"male\":\n",
    "        return 0\n",
    "    elif text == \"female\":\n",
    "        return 1\n",
    "    \n",
    "df[\"Sex\"] = df[\"Sex\"].apply(gender)"
   ]
  },
  {
   "cell_type": "code",
   "execution_count": 154,
   "id": "264c064e",
   "metadata": {},
   "outputs": [],
   "source": [
    "def purpose(data):\n",
    "    if data == \"radio/TV\":\n",
    "        return 1\n",
    "    elif data == \"education\":\n",
    "        return 2\n",
    "    elif data == \"furniture/equipment\":\n",
    "        return 3\n",
    "    elif data == \"business\":\n",
    "        return 4\n",
    "    if data == \"domestic appliances\":\n",
    "        return 5\n",
    "    elif data == \"repairs\":\n",
    "        return 6\n",
    "    elif data == \"vacation/others\":\n",
    "        return 7\n",
    "    else:\n",
    "        return 0\n",
    "\n",
    "df[\"Purpose\"] = df[\"Purpose\"].apply(purpose)"
   ]
  },
  {
   "cell_type": "code",
   "execution_count": 155,
   "id": "159417e7",
   "metadata": {},
   "outputs": [],
   "source": [
    "def risk(d):\n",
    "    if d == \"good\":\n",
    "        return 0\n",
    "    elif d == \"bad\":\n",
    "        return 1\n",
    "    \n",
    "\n",
    "df[\"Risk\"] = df[\"Risk\"].apply(risk)"
   ]
  },
  {
   "cell_type": "code",
   "execution_count": 156,
   "id": "3fc92971",
   "metadata": {},
   "outputs": [],
   "source": [
    "df.rename(columns={\n",
    "    'Saving accounts': 'saving_accounts'\n",
    "    ,'Checking account': 'checking_account'\n",
    "    ,'Credit amount': 'credit_amount'}, inplace=True)"
   ]
  },
  {
   "cell_type": "code",
   "execution_count": 157,
   "id": "d73e2f41",
   "metadata": {},
   "outputs": [
    {
     "data": {
      "text/html": [
       "<div>\n",
       "<style scoped>\n",
       "    .dataframe tbody tr th:only-of-type {\n",
       "        vertical-align: middle;\n",
       "    }\n",
       "\n",
       "    .dataframe tbody tr th {\n",
       "        vertical-align: top;\n",
       "    }\n",
       "\n",
       "    .dataframe thead th {\n",
       "        text-align: right;\n",
       "    }\n",
       "</style>\n",
       "<table border=\"1\" class=\"dataframe\">\n",
       "  <thead>\n",
       "    <tr style=\"text-align: right;\">\n",
       "      <th></th>\n",
       "      <th>Unnamed: 0</th>\n",
       "      <th>Age</th>\n",
       "      <th>Sex</th>\n",
       "      <th>Job</th>\n",
       "      <th>Housing</th>\n",
       "      <th>saving_accounts</th>\n",
       "      <th>checking_account</th>\n",
       "      <th>credit_amount</th>\n",
       "      <th>Duration</th>\n",
       "      <th>Purpose</th>\n",
       "      <th>Risk</th>\n",
       "    </tr>\n",
       "  </thead>\n",
       "  <tbody>\n",
       "    <tr>\n",
       "      <th>0</th>\n",
       "      <td>0</td>\n",
       "      <td>67</td>\n",
       "      <td>0</td>\n",
       "      <td>2</td>\n",
       "      <td>2</td>\n",
       "      <td>0</td>\n",
       "      <td>1</td>\n",
       "      <td>1169</td>\n",
       "      <td>6</td>\n",
       "      <td>1</td>\n",
       "      <td>0</td>\n",
       "    </tr>\n",
       "    <tr>\n",
       "      <th>1</th>\n",
       "      <td>1</td>\n",
       "      <td>22</td>\n",
       "      <td>1</td>\n",
       "      <td>2</td>\n",
       "      <td>2</td>\n",
       "      <td>1</td>\n",
       "      <td>2</td>\n",
       "      <td>5951</td>\n",
       "      <td>48</td>\n",
       "      <td>1</td>\n",
       "      <td>1</td>\n",
       "    </tr>\n",
       "    <tr>\n",
       "      <th>2</th>\n",
       "      <td>2</td>\n",
       "      <td>49</td>\n",
       "      <td>0</td>\n",
       "      <td>1</td>\n",
       "      <td>2</td>\n",
       "      <td>1</td>\n",
       "      <td>0</td>\n",
       "      <td>2096</td>\n",
       "      <td>12</td>\n",
       "      <td>2</td>\n",
       "      <td>0</td>\n",
       "    </tr>\n",
       "    <tr>\n",
       "      <th>3</th>\n",
       "      <td>3</td>\n",
       "      <td>45</td>\n",
       "      <td>0</td>\n",
       "      <td>2</td>\n",
       "      <td>0</td>\n",
       "      <td>1</td>\n",
       "      <td>1</td>\n",
       "      <td>7882</td>\n",
       "      <td>42</td>\n",
       "      <td>3</td>\n",
       "      <td>0</td>\n",
       "    </tr>\n",
       "    <tr>\n",
       "      <th>4</th>\n",
       "      <td>4</td>\n",
       "      <td>53</td>\n",
       "      <td>0</td>\n",
       "      <td>2</td>\n",
       "      <td>0</td>\n",
       "      <td>1</td>\n",
       "      <td>1</td>\n",
       "      <td>4870</td>\n",
       "      <td>24</td>\n",
       "      <td>0</td>\n",
       "      <td>1</td>\n",
       "    </tr>\n",
       "    <tr>\n",
       "      <th>...</th>\n",
       "      <td>...</td>\n",
       "      <td>...</td>\n",
       "      <td>...</td>\n",
       "      <td>...</td>\n",
       "      <td>...</td>\n",
       "      <td>...</td>\n",
       "      <td>...</td>\n",
       "      <td>...</td>\n",
       "      <td>...</td>\n",
       "      <td>...</td>\n",
       "      <td>...</td>\n",
       "    </tr>\n",
       "    <tr>\n",
       "      <th>995</th>\n",
       "      <td>995</td>\n",
       "      <td>31</td>\n",
       "      <td>1</td>\n",
       "      <td>1</td>\n",
       "      <td>2</td>\n",
       "      <td>1</td>\n",
       "      <td>0</td>\n",
       "      <td>1736</td>\n",
       "      <td>12</td>\n",
       "      <td>3</td>\n",
       "      <td>0</td>\n",
       "    </tr>\n",
       "    <tr>\n",
       "      <th>996</th>\n",
       "      <td>996</td>\n",
       "      <td>40</td>\n",
       "      <td>0</td>\n",
       "      <td>3</td>\n",
       "      <td>2</td>\n",
       "      <td>1</td>\n",
       "      <td>1</td>\n",
       "      <td>3857</td>\n",
       "      <td>30</td>\n",
       "      <td>0</td>\n",
       "      <td>0</td>\n",
       "    </tr>\n",
       "    <tr>\n",
       "      <th>997</th>\n",
       "      <td>997</td>\n",
       "      <td>38</td>\n",
       "      <td>0</td>\n",
       "      <td>2</td>\n",
       "      <td>2</td>\n",
       "      <td>1</td>\n",
       "      <td>0</td>\n",
       "      <td>804</td>\n",
       "      <td>12</td>\n",
       "      <td>1</td>\n",
       "      <td>0</td>\n",
       "    </tr>\n",
       "    <tr>\n",
       "      <th>998</th>\n",
       "      <td>998</td>\n",
       "      <td>23</td>\n",
       "      <td>0</td>\n",
       "      <td>2</td>\n",
       "      <td>0</td>\n",
       "      <td>1</td>\n",
       "      <td>1</td>\n",
       "      <td>1845</td>\n",
       "      <td>45</td>\n",
       "      <td>1</td>\n",
       "      <td>1</td>\n",
       "    </tr>\n",
       "    <tr>\n",
       "      <th>999</th>\n",
       "      <td>999</td>\n",
       "      <td>27</td>\n",
       "      <td>0</td>\n",
       "      <td>2</td>\n",
       "      <td>2</td>\n",
       "      <td>2</td>\n",
       "      <td>2</td>\n",
       "      <td>4576</td>\n",
       "      <td>45</td>\n",
       "      <td>0</td>\n",
       "      <td>0</td>\n",
       "    </tr>\n",
       "  </tbody>\n",
       "</table>\n",
       "<p>1000 rows × 11 columns</p>\n",
       "</div>"
      ],
      "text/plain": [
       "     Unnamed: 0  Age  Sex  Job  Housing  saving_accounts  checking_account  \\\n",
       "0             0   67    0    2        2                0                 1   \n",
       "1             1   22    1    2        2                1                 2   \n",
       "2             2   49    0    1        2                1                 0   \n",
       "3             3   45    0    2        0                1                 1   \n",
       "4             4   53    0    2        0                1                 1   \n",
       "..          ...  ...  ...  ...      ...              ...               ...   \n",
       "995         995   31    1    1        2                1                 0   \n",
       "996         996   40    0    3        2                1                 1   \n",
       "997         997   38    0    2        2                1                 0   \n",
       "998         998   23    0    2        0                1                 1   \n",
       "999         999   27    0    2        2                2                 2   \n",
       "\n",
       "     credit_amount  Duration  Purpose  Risk  \n",
       "0             1169         6        1     0  \n",
       "1             5951        48        1     1  \n",
       "2             2096        12        2     0  \n",
       "3             7882        42        3     0  \n",
       "4             4870        24        0     1  \n",
       "..             ...       ...      ...   ...  \n",
       "995           1736        12        3     0  \n",
       "996           3857        30        0     0  \n",
       "997            804        12        1     0  \n",
       "998           1845        45        1     1  \n",
       "999           4576        45        0     0  \n",
       "\n",
       "[1000 rows x 11 columns]"
      ]
     },
     "execution_count": 157,
     "metadata": {},
     "output_type": "execute_result"
    }
   ],
   "source": [
    "df"
   ]
  },
  {
   "cell_type": "markdown",
   "id": "19c15eab",
   "metadata": {},
   "source": [
    "### Data Visualization "
   ]
  },
  {
   "cell_type": "code",
   "execution_count": 175,
   "id": "59773d60",
   "metadata": {},
   "outputs": [
    {
     "name": "stdout",
     "output_type": "stream",
     "text": [
      "<class 'pandas.core.frame.DataFrame'>\n",
      "RangeIndex: 1000 entries, 0 to 999\n",
      "Data columns (total 11 columns):\n",
      " #   Column            Non-Null Count  Dtype\n",
      "---  ------            --------------  -----\n",
      " 0   Unnamed: 0        1000 non-null   int64\n",
      " 1   Age               1000 non-null   int64\n",
      " 2   Sex               1000 non-null   int64\n",
      " 3   Job               1000 non-null   int64\n",
      " 4   Housing           1000 non-null   int64\n",
      " 5   saving_accounts   1000 non-null   int64\n",
      " 6   checking_account  1000 non-null   int64\n",
      " 7   credit_amount     1000 non-null   int64\n",
      " 8   Duration          1000 non-null   int64\n",
      " 9   Purpose           1000 non-null   int64\n",
      " 10  Risk              1000 non-null   int64\n",
      "dtypes: int64(11)\n",
      "memory usage: 86.1 KB\n"
     ]
    }
   ],
   "source": [
    "df.info()"
   ]
  },
  {
   "cell_type": "code",
   "execution_count": 186,
   "id": "d12ef794",
   "metadata": {},
   "outputs": [
    {
     "data": {
      "image/png": "[encoded data removed]",
      "text/plain": [
       "<Figure size 1080x360 with 2 Axes>"
      ]
     },
     "metadata": {
      "needs_background": "light"
     },
     "output_type": "display_data"
    }
   ],
   "source": [
    "fig, ax = plt.subplots(1,2,figsize=(15,5))\n",
    "sns.histplot(df, x='credit_amount', bins=30, ax=ax[0]).set_title(\"Credit Amount (in Deutsch Mark) Distribution\");\n",
    "sns.histplot(df, x='Duration', bins=30, ax=ax[1]).set_title(\"Duration (in month) Distribution\");"
   ]
  },
  {
   "cell_type": "code",
   "execution_count": 187,
   "id": "c2969962",
   "metadata": {},
   "outputs": [
    {
     "data": {
      "image/png": "[encoded data removed]",
      "text/plain": [
       "<Figure size 1080x360 with 2 Axes>"
      ]
     },
     "metadata": {
      "needs_background": "light"
     },
     "output_type": "display_data"
    }
   ],
   "source": [
    "fig, ax = plt.subplots(1,2, figsize=(15,5))\n",
    "sns.countplot(data=df, x=\"Job\", hue=\"Risk\", ax=ax[0]).set_title(\"Job Distribution with Risk\");\n",
    "sns.countplot(data=df, x=\"Housing\", hue=\"Risk\", ax=ax[1]).set_title(\"Housing Distribution with Risk\");"
   ]
  },
  {
   "cell_type": "code",
   "execution_count": 188,
   "id": "062d847e",
   "metadata": {},
   "outputs": [
    {
     "data": {
      "image/png": "[encoded data removed]",
      "text/plain": [
       "<Figure size 1080x360 with 2 Axes>"
      ]
     },
     "metadata": {
      "needs_background": "light"
     },
     "output_type": "display_data"
    }
   ],
   "source": [
    "fig, ax = plt.subplots(1,2,figsize=(15,5))\n",
    "sns.boxplot(data=df, x='Risk', y='Age', ax=ax[0]).set_title(\"Age Distribution with Risk\");\n",
    "sns.countplot(data=df, x=\"Sex\", hue=\"Risk\", ax=ax[1]).set_title(\"Sex Distribution with Risk\");"
   ]
  },
  {
   "cell_type": "code",
   "execution_count": null,
   "id": "388a9c6e",
   "metadata": {},
   "outputs": [],
   "source": []
  },
  {
   "cell_type": "markdown",
   "id": "16db4fb0",
   "metadata": {},
   "source": [
    "### Linear Regression "
   ]
  },
  {
   "cell_type": "code",
   "execution_count": 158,
   "id": "e256fd4f",
   "metadata": {},
   "outputs": [
    {
     "name": "stdout",
     "output_type": "stream",
     "text": [
      "intercept  -1006.6182569011576\n",
      "          Predictor  coefficient\n",
      "0               Age    13.193068\n",
      "1               Sex  -172.734964\n",
      "2               Job   832.126955\n",
      "3           Housing  -226.243649\n",
      "4   saving_accounts  -176.318484\n",
      "5  checking_account   -34.854619\n",
      "6          Duration   137.054826\n",
      "7           Purpose   -22.940737\n",
      "8              Risk   129.951377\n"
     ]
    }
   ],
   "source": [
    "\n",
    "Features = ['Age', 'Sex', 'Job', 'Housing', 'saving_accounts', \n",
    "   'checking_account', 'Duration', 'Purpose', 'Risk'] \n",
    "Target = 'credit_amount'\n",
    "\n",
    "X = pd.get_dummies(df[Features], drop_first=True)\n",
    "y = df[Target]\n",
    "train_X, valid_X, train_y, valid_y = train_test_split(X, y, test_size=0.4, random_state=1)\n",
    "credit_lm = LinearRegression()\n",
    "credit_lm.fit(train_X, train_y)\n",
    "print('intercept ', credit_lm.intercept_)\n",
    "# print coefficients\n",
    "print(pd.DataFrame({'Predictor': X.columns, \n",
    "                    'coefficient': credit_lm.coef_}))"
   ]
  },
  {
   "cell_type": "code",
   "execution_count": 160,
   "id": "4f8fd938",
   "metadata": {},
   "outputs": [
    {
     "name": "stdout",
     "output_type": "stream",
     "text": [
      "\n",
      "Regression statistics\n",
      "\n",
      "                      Mean Error (ME) : 0.0000\n",
      "       Root Mean Squared Error (RMSE) : 2137.9386\n",
      "            Mean Absolute Error (MAE) : 1503.7095\n",
      "          Mean Percentage Error (MPE) : -35.4846\n",
      "Mean Absolute Percentage Error (MAPE) : 64.1596\n"
     ]
    }
   ],
   "source": [
    "# print performance measures (training data)\n",
    "regressionSummary(train_y, credit_lm.predict(train_X))"
   ]
  },
  {
   "cell_type": "code",
   "execution_count": 161,
   "id": "a952cb9d",
   "metadata": {},
   "outputs": [
    {
     "name": "stdout",
     "output_type": "stream",
     "text": [
      "adjusted r2 :  0.42879406907226425\n",
      "AIC :  10925.843085477585\n",
      "BIC :  10974.209311684963\n"
     ]
    }
   ],
   "source": [
    "pred_y = credit_lm.predict(train_X)\n",
    "\n",
    "print('adjusted r2 : ', adjusted_r2_score(train_y, pred_y, credit_lm))\n",
    "print('AIC : ', AIC_score(train_y, pred_y, credit_lm))\n",
    "print('BIC : ', BIC_score(train_y, pred_y, credit_lm))"
   ]
  },
  {
   "cell_type": "code",
   "execution_count": 162,
   "id": "f6994918",
   "metadata": {},
   "outputs": [
    {
     "name": "stdout",
     "output_type": "stream",
     "text": [
      "       Predicted  Actual     Residual\n",
      "507  3249.267195    6850  3600.732805\n",
      "818  6166.792717   15857  9690.207283\n",
      "452  2053.229896    2759   705.770104\n",
      "368  5543.187018    3446 -2097.187018\n",
      "242  7471.679204    4605 -2866.679204\n",
      "929  1373.808149    1344   -29.808149\n",
      "262  4220.526833    5302  1081.473167\n",
      "810  1306.816070     907  -399.816070\n",
      "318  2049.784496     701 -1348.784496\n",
      "49   1670.899512    2073   402.100488\n",
      "446  5333.729717    1842 -3491.729717\n",
      "142  4859.854612    3416 -1443.854612\n",
      "968  6547.352932    7166   618.647068\n",
      "345  1624.151544    1459  -165.151544\n",
      "971  3053.320677    7393  4339.679323\n",
      "133  3499.556039    1984 -1515.556039\n",
      "104  2419.069693    2445    25.930307\n",
      "6    3595.919138    2835  -760.919138\n",
      "600  1316.516792    2329  1012.483208\n",
      "496  6218.874630    9034  2815.125370\n"
     ]
    }
   ],
   "source": [
    "# Use predict() to make predictions on a new set\n",
    "credit_lm_pred = credit_lm.predict(valid_X)\n",
    "result = pd.DataFrame({'Predicted': credit_lm_pred, \n",
    "                       'Actual': valid_y, \n",
    "                       'Residual': valid_y - credit_lm_pred})\n",
    "print(result.head(20))"
   ]
  },
  {
   "cell_type": "code",
   "execution_count": 163,
   "id": "73f1835d",
   "metadata": {},
   "outputs": [
    {
     "name": "stdout",
     "output_type": "stream",
     "text": [
      "0.595\n"
     ]
    },
    {
     "data": {
      "image/png": "[encoded data removed]",
      "text/plain": [
       "<Figure size 432x288 with 1 Axes>"
      ]
     },
     "metadata": {
      "needs_background": "light"
     },
     "output_type": "display_data"
    }
   ],
   "source": [
    "credit_lm_pred = credit_lm.predict(valid_X)\n",
    "all_residuals = valid_y - credit_lm_pred\n",
    "\n",
    "# Determine the percentage of datapoints with a residual in [-1406, 1406] = approx. 75\\%\n",
    "print(len(all_residuals[(all_residuals > -1406) & (all_residuals < 1406)]) / len(all_residuals))\n",
    "\n",
    "ax = pd.DataFrame({'Residuals': all_residuals}).hist(bins=25)\n",
    "\n",
    "plt.tight_layout()\n",
    "plt.show()"
   ]
  },
  {
   "cell_type": "code",
   "execution_count": 164,
   "id": "4fee40bc",
   "metadata": {},
   "outputs": [
    {
     "name": "stdout",
     "output_type": "stream",
     "text": [
      "   n     r2adj           AIC    Age  Duration  Housing    Job  Purpose   Risk    Sex  \\\n",
      "0  1  0.385469  10961.789511  False      True    False  False    False  False  False   \n",
      "1  2  0.421767  10926.255752  False      True    False   True    False  False  False   \n",
      "2  3  0.425701  10923.154202  False      True     True   True    False  False  False   \n",
      "3  4  0.429046  10920.641448   True      True    False   True    False  False  False   \n",
      "4  5  0.431210  10919.354359   True      True     True   True    False  False  False   \n",
      "5  6  0.430972  10920.594064   True      True     True   True    False  False   True   \n",
      "6  7  0.430340  10922.247663   True      True     True   True    False   True   True   \n",
      "7  8  0.429584  10924.028742   True      True     True   True    False   True   True   \n",
      "8  9  0.428794  10925.843085   True      True     True   True     True   True   True   \n",
      "\n",
      "   checking_account  saving_accounts  \n",
      "0             False            False  \n",
      "1             False            False  \n",
      "2             False            False  \n",
      "3             False             True  \n",
      "4             False             True  \n",
      "5             False             True  \n",
      "6             False             True  \n",
      "7              True             True  \n",
      "8              True             True  \n"
     ]
    }
   ],
   "source": [
    "def train_model(variables):\n",
    "    model = LinearRegression()\n",
    "    model.fit(train_X[list(variables)], train_y)\n",
    "    return model\n",
    "\n",
    "def score_model(model, variables):\n",
    "    pred_y = model.predict(train_X[list(variables)])\n",
    "    # we negate as score is optimized to be as low as possible\n",
    "    return -adjusted_r2_score(train_y, pred_y, model)\n",
    "\n",
    "allVariables = train_X.columns\n",
    "results = exhaustive_search(allVariables, train_model, score_model)\n",
    "\n",
    "data = []\n",
    "for result in results:\n",
    "    model = result['model']\n",
    "    variables = result['variables']\n",
    "    AIC = AIC_score(train_y, model.predict(train_X[variables]), model)\n",
    "    \n",
    "    d = {'n': result['n'], 'r2adj': -result['score'], 'AIC': AIC}\n",
    "    d.update({var: var in result['variables'] for var in allVariables})\n",
    "    data.append(d)\n",
    "pd.set_option('display.width', 100)\n",
    "print(pd.DataFrame(data, columns=('n', 'r2adj', 'AIC') + tuple(sorted(allVariables))))\n",
    "pd.reset_option('display.width')"
   ]
  },
  {
   "cell_type": "markdown",
   "id": "e7290820",
   "metadata": {},
   "source": [
    "### Backward Elimination"
   ]
  },
  {
   "cell_type": "code",
   "execution_count": 165,
   "id": "42d2bb11",
   "metadata": {},
   "outputs": [
    {
     "name": "stdout",
     "output_type": "stream",
     "text": [
      "Variables: Age, Sex, Job, Housing, saving_accounts, checking_account, Duration, Purpose, Risk\n",
      "Start: score=10925.84\n",
      "Step: score=10924.03, remove Purpose\n",
      "Step: score=10922.25, remove checking_account\n",
      "Step: score=10920.59, remove Risk\n",
      "Step: score=10919.35, remove Sex\n",
      "Step: score=10919.35, remove None\n",
      "['Age', 'Job', 'Housing', 'saving_accounts', 'Duration']\n"
     ]
    }
   ],
   "source": [
    "def train_model(variables):\n",
    "  model = LinearRegression()\n",
    "  model.fit(train_X[variables], train_y)\n",
    "  return model\n",
    "\n",
    "def score_model(model, variables):\n",
    "  return AIC_score(train_y, model.predict(train_X[variables]), model)\n",
    "\n",
    "allVariables = train_X.columns\n",
    "best_model, best_variables = backward_elimination(allVariables, train_model, score_model, verbose=True)\n",
    "print(best_variables)\n",
    "\n"
   ]
  },
  {
   "cell_type": "code",
   "execution_count": 166,
   "id": "39a747b1",
   "metadata": {},
   "outputs": [
    {
     "name": "stdout",
     "output_type": "stream",
     "text": [
      "\n",
      "Regression statistics\n",
      "\n",
      "                      Mean Error (ME) : 60.8994\n",
      "       Root Mean Squared Error (RMSE) : 2142.0491\n",
      "            Mean Absolute Error (MAE) : 1484.9243\n",
      "          Mean Percentage Error (MPE) : -29.0982\n",
      "Mean Absolute Percentage Error (MAPE) : 61.1708\n"
     ]
    }
   ],
   "source": [
    "regressionSummary(valid_y, best_model.predict(valid_X[best_variables]))"
   ]
  },
  {
   "cell_type": "markdown",
   "id": "c1466b93",
   "metadata": {},
   "source": [
    "### Forward Selection"
   ]
  },
  {
   "cell_type": "code",
   "execution_count": 167,
   "id": "e90ea500",
   "metadata": {},
   "outputs": [
    {
     "name": "stdout",
     "output_type": "stream",
     "text": [
      "Variables: Age, Sex, Job, Housing, saving_accounts, checking_account, Duration, Purpose, Risk\n",
      "Start: score=11252.93, constant\n",
      "Step: score=10961.79, add Duration\n",
      "Step: score=10926.26, add Job\n",
      "Step: score=10923.15, add Housing\n",
      "Step: score=10920.76, add saving_accounts\n",
      "Step: score=10919.35, add Age\n",
      "Step: score=10919.35, add None\n",
      "['Duration', 'Job', 'Housing', 'saving_accounts', 'Age']\n"
     ]
    }
   ],
   "source": [
    "# The initial model is the constant model - this requires special handling\n",
    "# in train_model and score_model\n",
    "def train_model(variables):\n",
    "    if len(variables) == 0:\n",
    "        return None\n",
    "    model = LinearRegression()\n",
    "    model.fit(train_X[variables], train_y)\n",
    "    return model\n",
    "\n",
    "def score_model(model, variables):\n",
    "    if len(variables) == 0:\n",
    "        return AIC_score(train_y, [train_y.mean()] * len(train_y), model, df=1)\n",
    "    return AIC_score(train_y, model.predict(train_X[variables]), model)\n",
    "\n",
    "best_model, best_variables = forward_selection(train_X.columns, train_model, score_model, verbose=True)\n",
    "\n",
    "print(best_variables)"
   ]
  },
  {
   "cell_type": "markdown",
   "id": "b3b36a78",
   "metadata": {},
   "source": [
    "### lasso Linear Regression "
   ]
  },
  {
   "cell_type": "code",
   "execution_count": 168,
   "id": "d90d8a6b",
   "metadata": {},
   "outputs": [
    {
     "name": "stdout",
     "output_type": "stream",
     "text": [
      "\n",
      "Regression statistics\n",
      "\n",
      "                      Mean Error (ME) : 48.2346\n",
      "       Root Mean Squared Error (RMSE) : 2136.3460\n",
      "            Mean Absolute Error (MAE) : 1484.3829\n",
      "          Mean Percentage Error (MPE) : -30.5998\n",
      "Mean Absolute Percentage Error (MAPE) : 61.4351\n",
      "\n",
      "Regression statistics\n",
      "\n",
      "                      Mean Error (ME) : 42.8151\n",
      "       Root Mean Squared Error (RMSE) : 2132.9477\n",
      "            Mean Absolute Error (MAE) : 1478.4014\n",
      "          Mean Percentage Error (MPE) : -31.7925\n",
      "Mean Absolute Percentage Error (MAPE) : 61.1327\n",
      "Lasso-CV chosen regularization:  2.0602890459647005\n",
      "[   9.50869157  -92.52297291  781.95884755 -190.53600154 -139.07270902\n",
      "   -0.          134.36210237   -0.           10.37797819]\n"
     ]
    },
    {
     "name": "stderr",
     "output_type": "stream",
     "text": [
      "C:\\Users\\shrey\\Anaconda3\\lib\\site-packages\\sklearn\\linear_model\\_base.py:141: FutureWarning: 'normalize' was deprecated in version 1.0 and will be removed in 1.2.\n",
      "If you wish to scale the data, use Pipeline with a StandardScaler in a preprocessing stage. To reproduce the previous behavior:\n",
      "\n",
      "from sklearn.pipeline import make_pipeline\n",
      "\n",
      "model = make_pipeline(StandardScaler(with_mean=False), Lasso())\n",
      "\n",
      "If you wish to pass a sample_weight parameter, you need to pass it as a fit parameter to each step of the pipeline as follows:\n",
      "\n",
      "kwargs = {s[0] + '__sample_weight': sample_weight for s in model.steps}\n",
      "model.fit(X, y, **kwargs)\n",
      "\n",
      "Set parameter alpha to: original_alpha * np.sqrt(n_samples). \n",
      "  warnings.warn(\n",
      "C:\\Users\\shrey\\Anaconda3\\lib\\site-packages\\sklearn\\linear_model\\_base.py:141: FutureWarning: 'normalize' was deprecated in version 1.0 and will be removed in 1.2.\n",
      "If you wish to scale the data, use Pipeline with a StandardScaler in a preprocessing stage. To reproduce the previous behavior:\n",
      "\n",
      "from sklearn.pipeline import make_pipeline\n",
      "\n",
      "model = make_pipeline(StandardScaler(with_mean=False), Lasso())\n",
      "\n",
      "If you wish to pass a sample_weight parameter, you need to pass it as a fit parameter to each step of the pipeline as follows:\n",
      "\n",
      "kwargs = {s[0] + '__sample_weight': sample_weight for s in model.steps}\n",
      "model.fit(X, y, **kwargs)\n",
      "\n",
      "Set parameter alpha to: original_alpha * np.sqrt(n_samples). \n",
      "  warnings.warn(\n"
     ]
    }
   ],
   "source": [
    "lasso = Lasso(normalize=True, alpha=1)\n",
    "lasso.fit(train_X, train_y)\n",
    "regressionSummary(valid_y, lasso.predict(valid_X))\n",
    "\n",
    "lasso_cv = LassoCV(normalize=True, cv=5)\n",
    "lasso_cv.fit(train_X, train_y)\n",
    "regressionSummary(valid_y, lasso_cv.predict(valid_X))\n",
    "print('Lasso-CV chosen regularization: ', lasso_cv.alpha_)\n",
    "print(lasso_cv.coef_)\n"
   ]
  },
  {
   "cell_type": "code",
   "execution_count": 169,
   "id": "c3e4fe21",
   "metadata": {},
   "outputs": [
    {
     "name": "stdout",
     "output_type": "stream",
     "text": [
      "\n",
      "Regression statistics\n",
      "\n",
      "                      Mean Error (ME) : 52.7409\n",
      "       Root Mean Squared Error (RMSE) : 2142.0845\n",
      "            Mean Absolute Error (MAE) : 1491.6791\n",
      "          Mean Percentage Error (MPE) : -29.4304\n",
      "Mean Absolute Percentage Error (MAPE) : 61.8453\n"
     ]
    },
    {
     "name": "stderr",
     "output_type": "stream",
     "text": [
      "C:\\Users\\shrey\\Anaconda3\\lib\\site-packages\\sklearn\\linear_model\\_base.py:141: FutureWarning: 'normalize' was deprecated in version 1.0 and will be removed in 1.2.\n",
      "If you wish to scale the data, use Pipeline with a StandardScaler in a preprocessing stage. To reproduce the previous behavior:\n",
      "\n",
      "from sklearn.pipeline import make_pipeline\n",
      "\n",
      "model = make_pipeline(StandardScaler(with_mean=False), LinearRegression())\n",
      "\n",
      "If you wish to pass a sample_weight parameter, you need to pass it as a fit parameter to each step of the pipeline as follows:\n",
      "\n",
      "kwargs = {s[0] + '__sample_weight': sample_weight for s in model.steps}\n",
      "model.fit(X, y, **kwargs)\n",
      "\n",
      "\n",
      "  warnings.warn(\n"
     ]
    }
   ],
   "source": [
    "linearRegression = LinearRegression(normalize=True).fit(train_X, train_y)\n",
    "regressionSummary(valid_y, linearRegression.predict(valid_X))"
   ]
  },
  {
   "cell_type": "code",
   "execution_count": 170,
   "id": "08f6f143",
   "metadata": {},
   "outputs": [
    {
     "data": {
      "text/html": [
       "<div>\n",
       "<style scoped>\n",
       "    .dataframe tbody tr th:only-of-type {\n",
       "        vertical-align: middle;\n",
       "    }\n",
       "\n",
       "    .dataframe tbody tr th {\n",
       "        vertical-align: top;\n",
       "    }\n",
       "\n",
       "    .dataframe thead th {\n",
       "        text-align: right;\n",
       "    }\n",
       "</style>\n",
       "<table border=\"1\" class=\"dataframe\">\n",
       "  <thead>\n",
       "    <tr style=\"text-align: right;\">\n",
       "      <th></th>\n",
       "      <th>features</th>\n",
       "      <th>linear regression</th>\n",
       "      <th>lassoCV</th>\n",
       "    </tr>\n",
       "  </thead>\n",
       "  <tbody>\n",
       "    <tr>\n",
       "      <th>0</th>\n",
       "      <td>Age</td>\n",
       "      <td>13.193068</td>\n",
       "      <td>9.508692</td>\n",
       "    </tr>\n",
       "    <tr>\n",
       "      <th>1</th>\n",
       "      <td>Sex</td>\n",
       "      <td>-172.734964</td>\n",
       "      <td>-92.522973</td>\n",
       "    </tr>\n",
       "    <tr>\n",
       "      <th>2</th>\n",
       "      <td>Job</td>\n",
       "      <td>832.126955</td>\n",
       "      <td>781.958848</td>\n",
       "    </tr>\n",
       "    <tr>\n",
       "      <th>3</th>\n",
       "      <td>Housing</td>\n",
       "      <td>-226.243649</td>\n",
       "      <td>-190.536002</td>\n",
       "    </tr>\n",
       "    <tr>\n",
       "      <th>4</th>\n",
       "      <td>saving_accounts</td>\n",
       "      <td>-176.318484</td>\n",
       "      <td>-139.072709</td>\n",
       "    </tr>\n",
       "    <tr>\n",
       "      <th>5</th>\n",
       "      <td>checking_account</td>\n",
       "      <td>-34.854619</td>\n",
       "      <td>-0.000000</td>\n",
       "    </tr>\n",
       "    <tr>\n",
       "      <th>6</th>\n",
       "      <td>Duration</td>\n",
       "      <td>137.054826</td>\n",
       "      <td>134.362102</td>\n",
       "    </tr>\n",
       "    <tr>\n",
       "      <th>7</th>\n",
       "      <td>Purpose</td>\n",
       "      <td>-22.940737</td>\n",
       "      <td>-0.000000</td>\n",
       "    </tr>\n",
       "    <tr>\n",
       "      <th>8</th>\n",
       "      <td>Risk</td>\n",
       "      <td>129.951377</td>\n",
       "      <td>10.377978</td>\n",
       "    </tr>\n",
       "  </tbody>\n",
       "</table>\n",
       "</div>"
      ],
      "text/plain": [
       "           features  linear regression     lassoCV\n",
       "0               Age          13.193068    9.508692\n",
       "1               Sex        -172.734964  -92.522973\n",
       "2               Job         832.126955  781.958848\n",
       "3           Housing        -226.243649 -190.536002\n",
       "4   saving_accounts        -176.318484 -139.072709\n",
       "5  checking_account         -34.854619   -0.000000\n",
       "6          Duration         137.054826  134.362102\n",
       "7           Purpose         -22.940737   -0.000000\n",
       "8              Risk         129.951377   10.377978"
      ]
     },
     "execution_count": 170,
     "metadata": {},
     "output_type": "execute_result"
    }
   ],
   "source": [
    "pd.DataFrame({'features': train_X.columns, 'linear regression': linearRegression.coef_, \n",
    "              'lassoCV': lasso_cv.coef_})"
   ]
  },
  {
   "cell_type": "code",
   "execution_count": 173,
   "id": "e15cf69e",
   "metadata": {},
   "outputs": [
    {
     "name": "stdout",
     "output_type": "stream",
     "text": [
      "                            OLS Regression Results                            \n",
      "==============================================================================\n",
      "Dep. Variable:          credit_amount   R-squared:                       0.437\n",
      "Model:                            OLS   Adj. R-squared:                  0.429\n",
      "Method:                 Least Squares   F-statistic:                     50.96\n",
      "Date:                Tue, 01 Feb 2022   Prob (F-statistic):           4.51e-68\n",
      "Time:                        11:52:39   Log-Likelihood:                -5451.9\n",
      "No. Observations:                 600   AIC:                         1.092e+04\n",
      "Df Residuals:                     590   BIC:                         1.097e+04\n",
      "Df Model:                           9                                         \n",
      "Covariance Type:            nonrobust                                         \n",
      "====================================================================================\n",
      "                       coef    std err          t      P>|t|      [0.025      0.975]\n",
      "------------------------------------------------------------------------------------\n",
      "Intercept        -1006.6183    552.014     -1.824      0.069   -2090.770      77.534\n",
      "Age                 13.1931      7.733      1.706      0.089      -1.995      28.382\n",
      "Sex               -172.7350    192.424     -0.898      0.370    -550.653     205.184\n",
      "Job                832.1270    143.491      5.799      0.000     550.311    1113.943\n",
      "Housing           -226.2436    130.747     -1.730      0.084    -483.031      30.543\n",
      "saving_accounts   -176.3185     89.616     -1.967      0.050    -352.324      -0.313\n",
      "checking_account   -34.8546     79.777     -0.437      0.662    -191.536     121.827\n",
      "Duration           137.0548      7.834     17.495      0.000     121.669     152.440\n",
      "Purpose            -22.9407     53.687     -0.427      0.669    -128.381      82.500\n",
      "Risk               129.9514    199.339      0.652      0.515    -261.549     521.451\n",
      "==============================================================================\n",
      "Omnibus:                      202.384   Durbin-Watson:                   2.016\n",
      "Prob(Omnibus):                  0.000   Jarque-Bera (JB):              728.119\n",
      "Skew:                           1.555   Prob(JB):                    7.78e-159\n",
      "Kurtosis:                       7.410   Cond. No.                         279.\n",
      "==============================================================================\n",
      "\n",
      "Notes:\n",
      "[1] Standard Errors assume that the covariance matrix of the errors is correctly specified.\n"
     ]
    }
   ],
   "source": [
    "# run a linear regression of credit_amount\n",
    "train_df = train_X.join(train_y)\n",
    "\n",
    "predictors = train_X.columns\n",
    "formula = 'credit_amount ~ ' + ' + '.join(predictors)\n",
    "\n",
    "car_lm = sm.ols(formula=formula, data=train_df).fit()\n",
    "print(car_lm.summary())"
   ]
  },
  {
   "cell_type": "code",
   "execution_count": null,
   "id": "b71401df",
   "metadata": {},
   "outputs": [],
   "source": []
  }
 ],
 "metadata": {
  "kernelspec": {
   "display_name": "Python 3",
   "language": "python",
   "name": "python3"
  },
  "language_info": {
   "codemirror_mode": {
    "name": "ipython",
    "version": 3
   },
   "file_extension": ".py",
   "mimetype": "text/x-python",
   "name": "python",
   "nbconvert_exporter": "python",
   "pygments_lexer": "ipython3",
   "version": "3.8.8"
  }
 },
 "nbformat": 4,
 "nbformat_minor": 5
}
