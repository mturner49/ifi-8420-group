{
 "cells": [
  {
   "cell_type": "markdown",
   "metadata": {},
   "source": [
    "## Business question: What is the likelihood of a"
   ]
  },
  {
   "cell_type": "code",
   "execution_count": 130,
   "metadata": {},
   "outputs": [],
   "source": [
    "import pandas as pd\n",
    "import matplotlib.pyplot as plt\n",
    "import numpy as np \n",
    "import seaborn as sn\n",
    "import warnings\n",
    "warnings.filterwarnings('ignore')\n"
   ]
  },
  {
   "cell_type": "code",
   "execution_count": 131,
   "metadata": {},
   "outputs": [
    {
     "data": {
      "text/html": [
       "<div>\n",
       "<style scoped>\n",
       "    .dataframe tbody tr th:only-of-type {\n",
       "        vertical-align: middle;\n",
       "    }\n",
       "\n",
       "    .dataframe tbody tr th {\n",
       "        vertical-align: top;\n",
       "    }\n",
       "\n",
       "    .dataframe thead th {\n",
       "        text-align: right;\n",
       "    }\n",
       "</style>\n",
       "<table border=\"1\" class=\"dataframe\">\n",
       "  <thead>\n",
       "    <tr style=\"text-align: right;\">\n",
       "      <th></th>\n",
       "      <th>Unnamed: 0</th>\n",
       "      <th>Age</th>\n",
       "      <th>Sex</th>\n",
       "      <th>Job</th>\n",
       "      <th>Housing</th>\n",
       "      <th>Saving accounts</th>\n",
       "      <th>Checking account</th>\n",
       "      <th>Credit amount</th>\n",
       "      <th>Duration</th>\n",
       "      <th>Purpose</th>\n",
       "      <th>Risk</th>\n",
       "    </tr>\n",
       "  </thead>\n",
       "  <tbody>\n",
       "    <tr>\n",
       "      <th>0</th>\n",
       "      <td>0</td>\n",
       "      <td>67</td>\n",
       "      <td>male</td>\n",
       "      <td>2</td>\n",
       "      <td>own</td>\n",
       "      <td>NaN</td>\n",
       "      <td>little</td>\n",
       "      <td>1169</td>\n",
       "      <td>6</td>\n",
       "      <td>radio/TV</td>\n",
       "      <td>good</td>\n",
       "    </tr>\n",
       "    <tr>\n",
       "      <th>1</th>\n",
       "      <td>1</td>\n",
       "      <td>22</td>\n",
       "      <td>female</td>\n",
       "      <td>2</td>\n",
       "      <td>own</td>\n",
       "      <td>little</td>\n",
       "      <td>moderate</td>\n",
       "      <td>5951</td>\n",
       "      <td>48</td>\n",
       "      <td>radio/TV</td>\n",
       "      <td>bad</td>\n",
       "    </tr>\n",
       "    <tr>\n",
       "      <th>2</th>\n",
       "      <td>2</td>\n",
       "      <td>49</td>\n",
       "      <td>male</td>\n",
       "      <td>1</td>\n",
       "      <td>own</td>\n",
       "      <td>little</td>\n",
       "      <td>NaN</td>\n",
       "      <td>2096</td>\n",
       "      <td>12</td>\n",
       "      <td>education</td>\n",
       "      <td>good</td>\n",
       "    </tr>\n",
       "    <tr>\n",
       "      <th>3</th>\n",
       "      <td>3</td>\n",
       "      <td>45</td>\n",
       "      <td>male</td>\n",
       "      <td>2</td>\n",
       "      <td>free</td>\n",
       "      <td>little</td>\n",
       "      <td>little</td>\n",
       "      <td>7882</td>\n",
       "      <td>42</td>\n",
       "      <td>furniture/equipment</td>\n",
       "      <td>good</td>\n",
       "    </tr>\n",
       "    <tr>\n",
       "      <th>4</th>\n",
       "      <td>4</td>\n",
       "      <td>53</td>\n",
       "      <td>male</td>\n",
       "      <td>2</td>\n",
       "      <td>free</td>\n",
       "      <td>little</td>\n",
       "      <td>little</td>\n",
       "      <td>4870</td>\n",
       "      <td>24</td>\n",
       "      <td>car</td>\n",
       "      <td>bad</td>\n",
       "    </tr>\n",
       "  </tbody>\n",
       "</table>\n",
       "</div>"
      ],
      "text/plain": [
       "   Unnamed: 0  Age     Sex  Job Housing Saving accounts Checking account  \\\n",
       "0           0   67    male    2     own             NaN           little   \n",
       "1           1   22  female    2     own          little         moderate   \n",
       "2           2   49    male    1     own          little              NaN   \n",
       "3           3   45    male    2    free          little           little   \n",
       "4           4   53    male    2    free          little           little   \n",
       "\n",
       "   Credit amount  Duration              Purpose  Risk  \n",
       "0           1169         6             radio/TV  good  \n",
       "1           5951        48             radio/TV   bad  \n",
       "2           2096        12            education  good  \n",
       "3           7882        42  furniture/equipment  good  \n",
       "4           4870        24                  car   bad  "
      ]
     },
     "execution_count": 131,
     "metadata": {},
     "output_type": "execute_result"
    }
   ],
   "source": [
    "# load dataset from github\n",
    "data = pd.read_csv('/Users/WhyattFoster/Downloads/german_credit_data.csv') \n",
    "df = pd.read_csv('https://raw.githubusercontent.com/mturner49/ifi-8420-group/main/datasets/german_credit_data.csv')\n",
    "data.head()"
   ]
  },
  {
   "cell_type": "code",
   "execution_count": 132,
   "metadata": {},
   "outputs": [
    {
     "data": {
      "text/plain": [
       "Checking account    394\n",
       "Saving accounts     183\n",
       "Risk                  0\n",
       "Purpose               0\n",
       "Duration              0\n",
       "Credit amount         0\n",
       "Housing               0\n",
       "Job                   0\n",
       "Sex                   0\n",
       "Age                   0\n",
       "dtype: int64"
      ]
     },
     "execution_count": 132,
     "metadata": {},
     "output_type": "execute_result"
    }
   ],
   "source": [
    "# drop unnamed col\n",
    "data.drop(columns = 'Unnamed: 0', inplace =True)\n",
    "\n",
    "# Check missing values\n",
    "data.isnull().sum().sort_values(ascending=False)"
   ]
  },
  {
   "cell_type": "code",
   "execution_count": 133,
   "metadata": {},
   "outputs": [
    {
     "data": {
      "text/plain": [
       "Risk                0\n",
       "Purpose             0\n",
       "Duration            0\n",
       "Credit amount       0\n",
       "Checking account    0\n",
       "Saving accounts     0\n",
       "Housing             0\n",
       "Job                 0\n",
       "Sex                 0\n",
       "Age                 0\n",
       "dtype: int64"
      ]
     },
     "execution_count": 133,
     "metadata": {},
     "output_type": "execute_result"
    }
   ],
   "source": [
    "#We wll do mode imputer since this is a dicrete data \n",
    "from sklearn.impute import SimpleImputer\n",
    "\n",
    "#mode imputer\n",
    "mode_imputer = SimpleImputer(missing_values = np.nan, strategy = 'most_frequent')\n",
    "\n",
    "data['Checking account'] = mode_imputer.fit_transform(data[['Checking account']])\n",
    "data['Saving accounts'] = mode_imputer.fit_transform(data[['Saving accounts']])\n",
    "\n",
    "data.isnull().sum().sort_values(ascending=False)"
   ]
  },
  {
   "cell_type": "code",
   "execution_count": 134,
   "metadata": {},
   "outputs": [
    {
     "data": {
      "image/png": "[encoded data removed]",
      "text/plain": [
       "<Figure size 432x288 with 1 Axes>"
      ]
     },
     "metadata": {},
     "output_type": "display_data"
    }
   ],
   "source": [
    "data[\"Sex\"].value_counts()\n",
    "\n",
    "#plotting bar graph\n",
    "sn.set_theme(style=\"darkgrid\")\n",
    "ax = sn.countplot(data.Sex, palette=\"Set2\")"
   ]
  },
  {
   "cell_type": "code",
   "execution_count": 135,
   "metadata": {},
   "outputs": [],
   "source": [
    "# from plotly import tools\n",
    "# import plotly.graph_objs as go\n",
    "\n",
    "\n",
    "# by_age = data['Age'].values.tolist()\n",
    "# male_age = data['Age'].loc[data['Sex'] == 'male'].values.tolist()\n",
    "# female_age = data['Age'].loc[data['Sex'] == 'female'].values.tolist()\n",
    "\n",
    "# trace0 = go.Histogram(\n",
    "#     x=male_age,\n",
    "#     histnorm='probability',\n",
    "#     name=\"German Male\",\n",
    "#     marker = dict(\n",
    "#         color = 'rgba(100, 149, 237, 0.6)',\n",
    "#     )\n",
    "# )\n",
    "# trace1 = go.Histogram(\n",
    "#     x=female_age,\n",
    "#     histnorm='probability',\n",
    "#     name=\"German Female\",\n",
    "#     marker = dict(\n",
    "#         color = 'rgba(255, 182, 193, 0.6)',\n",
    "#     )\n",
    "# )\n",
    "# trace2 = go.Histogram(\n",
    "#     x=by_age,\n",
    "#     histnorm='probability',\n",
    "#     name=\"Overall Gender\",\n",
    "#      marker = dict(\n",
    "#         color = 'rgba(169, 169, 169, 0.6)',\n",
    "#     )\n",
    "# )\n",
    "# fig = tools.make_subplots(rows=2, cols=2, specs=[[{}, {}], [{'colspan': 2}, None]],\n",
    "#                           subplot_titles=('Males','Female', 'All Genders'))\n",
    "\n",
    "# fig.append_trace(trace0, 1, 1)\n",
    "# fig.append_trace(trace1, 1, 2)\n",
    "# fig.append_trace(trace2, 2, 1)\n",
    "\n",
    "# fig['layout'].update(showlegend=True, title='Distribution of Gender', bargap=0.05)\n"
   ]
  },
  {
   "cell_type": "code",
   "execution_count": 136,
   "metadata": {},
   "outputs": [
    {
     "data": {
      "text/html": [
       "<div>\n",
       "<style scoped>\n",
       "    .dataframe tbody tr th:only-of-type {\n",
       "        vertical-align: middle;\n",
       "    }\n",
       "\n",
       "    .dataframe tbody tr th {\n",
       "        vertical-align: top;\n",
       "    }\n",
       "\n",
       "    .dataframe thead th {\n",
       "        text-align: right;\n",
       "    }\n",
       "</style>\n",
       "<table border=\"1\" class=\"dataframe\">\n",
       "  <thead>\n",
       "    <tr style=\"text-align: right;\">\n",
       "      <th>Sex</th>\n",
       "      <th>female</th>\n",
       "      <th>male</th>\n",
       "    </tr>\n",
       "    <tr>\n",
       "      <th>Purpose</th>\n",
       "      <th></th>\n",
       "      <th></th>\n",
       "    </tr>\n",
       "  </thead>\n",
       "  <tbody>\n",
       "    <tr>\n",
       "      <th>business</th>\n",
       "      <td>6.129032</td>\n",
       "      <td>11.304348</td>\n",
       "    </tr>\n",
       "    <tr>\n",
       "      <th>car</th>\n",
       "      <td>30.322581</td>\n",
       "      <td>35.217391</td>\n",
       "    </tr>\n",
       "    <tr>\n",
       "      <th>domestic appliances</th>\n",
       "      <td>1.935484</td>\n",
       "      <td>0.869565</td>\n",
       "    </tr>\n",
       "    <tr>\n",
       "      <th>education</th>\n",
       "      <td>7.741935</td>\n",
       "      <td>5.072464</td>\n",
       "    </tr>\n",
       "    <tr>\n",
       "      <th>furniture/equipment</th>\n",
       "      <td>23.870968</td>\n",
       "      <td>15.507246</td>\n",
       "    </tr>\n",
       "    <tr>\n",
       "      <th>radio/TV</th>\n",
       "      <td>27.419355</td>\n",
       "      <td>28.260870</td>\n",
       "    </tr>\n",
       "    <tr>\n",
       "      <th>repairs</th>\n",
       "      <td>1.612903</td>\n",
       "      <td>2.463768</td>\n",
       "    </tr>\n",
       "    <tr>\n",
       "      <th>vacation/others</th>\n",
       "      <td>0.967742</td>\n",
       "      <td>1.304348</td>\n",
       "    </tr>\n",
       "  </tbody>\n",
       "</table>\n",
       "</div>"
      ],
      "text/plain": [
       "Sex                     female       male\n",
       "Purpose                                  \n",
       "business              6.129032  11.304348\n",
       "car                  30.322581  35.217391\n",
       "domestic appliances   1.935484   0.869565\n",
       "education             7.741935   5.072464\n",
       "furniture/equipment  23.870968  15.507246\n",
       "radio/TV             27.419355  28.260870\n",
       "repairs               1.612903   2.463768\n",
       "vacation/others       0.967742   1.304348"
      ]
     },
     "execution_count": 136,
     "metadata": {},
     "output_type": "execute_result"
    }
   ],
   "source": [
    "data[\"Purpose\"].unique()\n",
    "sex_purpose = pd.crosstab(data['Purpose'], data['Sex']).apply(lambda x: x/x.sum() * 100)\n",
    "sex_purpose"
   ]
  },
  {
   "cell_type": "code",
   "execution_count": 137,
   "metadata": {},
   "outputs": [
    {
     "data": {
      "text/html": [
       "<div>\n",
       "<style scoped>\n",
       "    .dataframe tbody tr th:only-of-type {\n",
       "        vertical-align: middle;\n",
       "    }\n",
       "\n",
       "    .dataframe tbody tr th {\n",
       "        vertical-align: top;\n",
       "    }\n",
       "\n",
       "    .dataframe thead th {\n",
       "        text-align: right;\n",
       "    }\n",
       "</style>\n",
       "<table border=\"1\" class=\"dataframe\">\n",
       "  <thead>\n",
       "    <tr style=\"text-align: right;\">\n",
       "      <th></th>\n",
       "      <th>Age</th>\n",
       "      <th>Sex</th>\n",
       "      <th>Job</th>\n",
       "      <th>Housing</th>\n",
       "      <th>Saving accounts</th>\n",
       "      <th>Checking account</th>\n",
       "      <th>Credit amount</th>\n",
       "      <th>Duration</th>\n",
       "      <th>Purpose</th>\n",
       "      <th>Risk</th>\n",
       "      <th>Age_Group</th>\n",
       "    </tr>\n",
       "  </thead>\n",
       "  <tbody>\n",
       "    <tr>\n",
       "      <th>0</th>\n",
       "      <td>67</td>\n",
       "      <td>male</td>\n",
       "      <td>2</td>\n",
       "      <td>own</td>\n",
       "      <td>little</td>\n",
       "      <td>little</td>\n",
       "      <td>1169</td>\n",
       "      <td>6</td>\n",
       "      <td>radio/TV</td>\n",
       "      <td>good</td>\n",
       "      <td>Elder</td>\n",
       "    </tr>\n",
       "    <tr>\n",
       "      <th>1</th>\n",
       "      <td>22</td>\n",
       "      <td>female</td>\n",
       "      <td>2</td>\n",
       "      <td>own</td>\n",
       "      <td>little</td>\n",
       "      <td>moderate</td>\n",
       "      <td>5951</td>\n",
       "      <td>48</td>\n",
       "      <td>radio/TV</td>\n",
       "      <td>bad</td>\n",
       "      <td>Young</td>\n",
       "    </tr>\n",
       "    <tr>\n",
       "      <th>2</th>\n",
       "      <td>49</td>\n",
       "      <td>male</td>\n",
       "      <td>1</td>\n",
       "      <td>own</td>\n",
       "      <td>little</td>\n",
       "      <td>little</td>\n",
       "      <td>2096</td>\n",
       "      <td>12</td>\n",
       "      <td>education</td>\n",
       "      <td>good</td>\n",
       "      <td>Senior</td>\n",
       "    </tr>\n",
       "    <tr>\n",
       "      <th>3</th>\n",
       "      <td>45</td>\n",
       "      <td>male</td>\n",
       "      <td>2</td>\n",
       "      <td>free</td>\n",
       "      <td>little</td>\n",
       "      <td>little</td>\n",
       "      <td>7882</td>\n",
       "      <td>42</td>\n",
       "      <td>furniture/equipment</td>\n",
       "      <td>good</td>\n",
       "      <td>Senior</td>\n",
       "    </tr>\n",
       "    <tr>\n",
       "      <th>4</th>\n",
       "      <td>53</td>\n",
       "      <td>male</td>\n",
       "      <td>2</td>\n",
       "      <td>free</td>\n",
       "      <td>little</td>\n",
       "      <td>little</td>\n",
       "      <td>4870</td>\n",
       "      <td>24</td>\n",
       "      <td>car</td>\n",
       "      <td>bad</td>\n",
       "      <td>Senior</td>\n",
       "    </tr>\n",
       "  </tbody>\n",
       "</table>\n",
       "</div>"
      ],
      "text/plain": [
       "   Age     Sex  Job Housing Saving accounts Checking account  Credit amount  \\\n",
       "0   67    male    2     own          little           little           1169   \n",
       "1   22  female    2     own          little         moderate           5951   \n",
       "2   49    male    1     own          little           little           2096   \n",
       "3   45    male    2    free          little           little           7882   \n",
       "4   53    male    2    free          little           little           4870   \n",
       "\n",
       "   Duration              Purpose  Risk Age_Group  \n",
       "0         6             radio/TV  good     Elder  \n",
       "1        48             radio/TV   bad     Young  \n",
       "2        12            education  good    Senior  \n",
       "3        42  furniture/equipment  good    Senior  \n",
       "4        24                  car   bad    Senior  "
      ]
     },
     "execution_count": 137,
     "metadata": {},
     "output_type": "execute_result"
    }
   ],
   "source": [
    "# group risky and non-risky loans.\n",
    "data['Age_Group'] = np.nan\n",
    "\n",
    "a = [data]\n",
    "\n",
    "for col in a:\n",
    "    col.loc[(col['Age'] > 18) & (col['Age'] <= 29), 'Age_Group'] = 'Young'\n",
    "    col.loc[(col['Age'] > 29) & (col['Age'] <= 40), 'Age_Group'] = 'Young Adults'\n",
    "    col.loc[(col['Age'] > 40) & (col['Age'] <= 55), 'Age_Group'] = 'Senior'\n",
    "    col.loc[col['Age'] > 55, 'Age_Group'] = 'Elder' \n",
    "    \n",
    "data.head()"
   ]
  },
  {
   "cell_type": "code",
   "execution_count": 138,
   "metadata": {},
   "outputs": [
    {
     "data": {
      "text/plain": [
       "<AxesSubplot:xlabel='Age', ylabel='Count'>"
      ]
     },
     "execution_count": 138,
     "metadata": {},
     "output_type": "execute_result"
    },
    {
     "data": {
      "image/png": "[encoded data removed]",
      "text/plain": [
       "<Figure size 432x288 with 1 Axes>"
      ]
     },
     "metadata": {},
     "output_type": "display_data"
    }
   ],
   "source": [
    "# plot histogram, \n",
    "import seaborn as sn\n",
    "sn.histplot(data.Age)"
   ]
  },
  {
   "cell_type": "code",
   "execution_count": 139,
   "metadata": {},
   "outputs": [
    {
     "data": {
      "text/plain": [
       "<AxesSubplot:xlabel='Age'>"
      ]
     },
     "execution_count": 139,
     "metadata": {},
     "output_type": "execute_result"
    },
    {
     "data": {
      "image/png": "[encoded data removed]",
      "text/plain": [
       "<Figure size 432x288 with 1 Axes>"
      ]
     },
     "metadata": {},
     "output_type": "display_data"
    }
   ],
   "source": [
    "sn.boxplot(data.Age)"
   ]
  },
  {
   "cell_type": "code",
   "execution_count": 161,
   "metadata": {},
   "outputs": [
    {
     "name": "stdout",
     "output_type": "stream",
     "text": [
      "2    630\n",
      "1    200\n",
      "3    148\n",
      "0     22\n",
      "Name: Job, dtype: int64\n",
      "own     713\n",
      "rent    179\n",
      "free    108\n",
      "Name: Housing, dtype: int64\n"
     ]
    },
    {
     "data": {
      "image/png": "[encoded data removed]",
      "text/plain": [
       "<Figure size 432x288 with 1 Axes>"
      ]
     },
     "metadata": {},
     "output_type": "display_data"
    }
   ],
   "source": [
    "def count_plots(data):\n",
    "    #Jobs\n",
    "    data.Job.value_counts()\n",
    "    print(job_counts)\n",
    "    #plotting bar graph\n",
    "    sn.set_theme(style=\"darkgrid\")\n",
    "    ax = sn.countplot(data.Job, palette=\"Set1\")\n",
    "    \n",
    "    #Housing\n",
    "    data.Housing.value_counts()\n",
    "    print(housing_counts)\n",
    "    #plotting bar graph\n",
    "    sn.set_theme(style=\"darkgrid\")\n",
    "    ax = sn.countplot(data.Housing, palette=\"Set1\")\n",
    "count_plots(data)"
   ]
  },
  {
   "cell_type": "code",
   "execution_count": 140,
   "metadata": {},
   "outputs": [
    {
     "name": "stdout",
     "output_type": "stream",
     "text": [
      "2    630\n",
      "1    200\n",
      "3    148\n",
      "0     22\n",
      "Name: Job, dtype: int64\n"
     ]
    },
    {
     "data": {
      "image/png": "[encoded data removed]",
      "text/plain": [
       "<Figure size 432x288 with 1 Axes>"
      ]
     },
     "metadata": {},
     "output_type": "display_data"
    }
   ],
   "source": []
  },
  {
   "cell_type": "code",
   "execution_count": 141,
   "metadata": {},
   "outputs": [
    {
     "name": "stdout",
     "output_type": "stream",
     "text": [
      "own     713\n",
      "rent    179\n",
      "free    108\n",
      "Name: Housing, dtype: int64\n"
     ]
    },
    {
     "data": {
      "image/png": "[encoded data removed]",
      "text/plain": [
       "<Figure size 432x288 with 1 Axes>"
      ]
     },
     "metadata": {},
     "output_type": "display_data"
    }
   ],
   "source": [
    "#We will analyse Housing column now.\n",
    "housing_counts = data.Housing.value_counts()\n",
    "print(housing_counts)\n",
    "\n",
    "#plotting bar graph\n",
    "sn.set_theme(style=\"darkgrid\")\n",
    "ax = sn.countplot(data.Housing, palette=\"Set1\")"
   ]
  },
  {
   "cell_type": "code",
   "execution_count": 142,
   "metadata": {},
   "outputs": [
    {
     "name": "stdout",
     "output_type": "stream",
     "text": [
      "little        786\n",
      "moderate      103\n",
      "quite rich     63\n",
      "rich           48\n",
      "Name: Saving accounts, dtype: int64\n"
     ]
    },
    {
     "data": {
      "image/png": "[encoded data removed]",
      "text/plain": [
       "<Figure size 432x288 with 1 Axes>"
      ]
     },
     "metadata": {},
     "output_type": "display_data"
    }
   ],
   "source": [
    "#We will analyse Saving accounts column now.\n",
    "savings_count = data['Saving accounts'].value_counts()\n",
    "print(savings_count)\n",
    "#plotting bar graph\n",
    "sn.set_theme(style=\"darkgrid\")\n",
    "ax = sn.countplot(data['Saving accounts'], palette=\"Set1\")"
   ]
  },
  {
   "cell_type": "code",
   "execution_count": 143,
   "metadata": {},
   "outputs": [
    {
     "name": "stdout",
     "output_type": "stream",
     "text": [
      "little      668\n",
      "moderate    269\n",
      "rich         63\n",
      "Name: Checking account, dtype: int64\n"
     ]
    },
    {
     "data": {
      "image/png": "[encoded data removed]",
      "text/plain": [
       "<Figure size 432x288 with 1 Axes>"
      ]
     },
     "metadata": {},
     "output_type": "display_data"
    }
   ],
   "source": [
    "#We will analyse Saving accounts column now.\n",
    "checkings_count = data['Checking account'].value_counts()\n",
    "print(checkings_count)\n",
    "#plotting bar graph\n",
    "sn.set_theme(style=\"darkgrid\")\n",
    "ax = sn.countplot(data['Checking account'], palette=\"Set1\")"
   ]
  },
  {
   "cell_type": "code",
   "execution_count": 144,
   "metadata": {},
   "outputs": [
    {
     "name": "stdout",
     "output_type": "stream",
     "text": [
      "\n",
      "\n",
      "data['Credit amount']_mean 3271.258\n",
      "data['Credit amount']_median 2319.5\n",
      "data['Credit amount']_var 7967843.470906904\n",
      "data['Credit amount']_skew 1.9496276798326209\n",
      "data['Credit amount']_kurt 4.29259030804851\n",
      "data['Credit amount']_mode 0    1258\n",
      "1    1262\n",
      "2    1275\n",
      "3    1393\n",
      "4    1478\n",
      "dtype: int64\n",
      "\n",
      "\n"
     ]
    }
   ],
   "source": []
  },
  {
   "cell_type": "code",
   "execution_count": 145,
   "metadata": {},
   "outputs": [
    {
     "data": {
      "text/plain": [
       "<AxesSubplot:xlabel='Credit amount', ylabel='Count'>"
      ]
     },
     "execution_count": 145,
     "metadata": {},
     "output_type": "execute_result"
    },
    {
     "data": {
      "image/png": "[encoded data removed]",
      "text/plain": [
       "<Figure size 432x288 with 1 Axes>"
      ]
     },
     "metadata": {},
     "output_type": "display_data"
    }
   ],
   "source": [
    "\n",
    "sn.histplot(data['Credit amount'])"
   ]
  },
  {
   "cell_type": "code",
   "execution_count": 146,
   "metadata": {},
   "outputs": [
    {
     "data": {
      "text/plain": [
       "<AxesSubplot:xlabel='Credit amount'>"
      ]
     },
     "execution_count": 146,
     "metadata": {},
     "output_type": "execute_result"
    },
    {
     "data": {
      "image/png": "[encoded data removed]",
      "text/plain": [
       "<Figure size 432x288 with 1 Axes>"
      ]
     },
     "metadata": {},
     "output_type": "display_data"
    }
   ],
   "source": [
    "sn.boxplot(data['Credit amount'])\n"
   ]
  },
  {
   "cell_type": "code",
   "execution_count": 162,
   "metadata": {},
   "outputs": [
    {
     "name": "stdout",
     "output_type": "stream",
     "text": [
      "\n",
      "\n",
      "data['Duration']_mean 20.903\n",
      "data['Duration']_median 18.0\n",
      "data['Duration']_var 145.41500600600645\n",
      "data['Duration']_skew 1.0941841715555418\n",
      "data['Duration']_kurt 0.9197813600546372\n",
      "data['Duration']_mode 0    24\n",
      "dtype: int64\n",
      "\n",
      "\n"
     ]
    }
   ],
   "source": [
    "data.Age.describe()\n",
    "print('\\n')\n",
    "print(\"data['Duration']_mean\", data.Duration.mean())\n",
    "print(\"data['Duration']_median\", data.Duration.median())\n",
    "print(\"data['Duration']_var\", data.Duration.var())\n",
    "print(\"data['Duration']_skew\", data.Duration.skew())\n",
    "print(\"data['Duration']_kurt\", data.Duration.kurt())\n",
    "print(\"data['Duration']_mode\", data.Duration.mode())\n",
    "print('\\n')"
   ]
  },
  {
   "cell_type": "code",
   "execution_count": 148,
   "metadata": {},
   "outputs": [
    {
     "data": {
      "text/plain": [
       "<AxesSubplot:xlabel='Duration', ylabel='Count'>"
      ]
     },
     "execution_count": 148,
     "metadata": {},
     "output_type": "execute_result"
    },
    {
     "data": {
      "image/png": "[encoded data removed]",
      "text/plain": [
       "<Figure size 432x288 with 1 Axes>"
      ]
     },
     "metadata": {},
     "output_type": "display_data"
    }
   ],
   "source": [
    "import seaborn as sn\n",
    "sn.histplot(data.Duration)"
   ]
  },
  {
   "cell_type": "code",
   "execution_count": 149,
   "metadata": {},
   "outputs": [
    {
     "data": {
      "text/plain": [
       "<AxesSubplot:xlabel='Duration'>"
      ]
     },
     "execution_count": 149,
     "metadata": {},
     "output_type": "execute_result"
    },
    {
     "data": {
      "image/png": "[encoded data removed]",
      "text/plain": [
       "<Figure size 432x288 with 1 Axes>"
      ]
     },
     "metadata": {},
     "output_type": "display_data"
    }
   ],
   "source": [
    "#boxplot duration\n",
    "sn.boxplot(data.Duration)"
   ]
  },
  {
   "cell_type": "code",
   "execution_count": 150,
   "metadata": {},
   "outputs": [
    {
     "data": {
      "text/plain": [
       "(array([0, 1, 2, 3, 4, 5, 6, 7]),\n",
       " [Text(0, 0, 'radio/TV'),\n",
       "  Text(1, 0, 'education'),\n",
       "  Text(2, 0, 'furniture/equipment'),\n",
       "  Text(3, 0, 'car'),\n",
       "  Text(4, 0, 'business'),\n",
       "  Text(5, 0, 'domestic appliances'),\n",
       "  Text(6, 0, 'repairs'),\n",
       "  Text(7, 0, 'vacation/others')])"
      ]
     },
     "execution_count": 150,
     "metadata": {},
     "output_type": "execute_result"
    },
    {
     "data": {
      "image/png": "[encoded data removed]",
      "text/plain": [
       "<Figure size 720x720 with 1 Axes>"
      ]
     },
     "metadata": {},
     "output_type": "display_data"
    }
   ],
   "source": [
    "#plotting bar graph Purpose\n",
    "\n",
    "fig, ax = plt.subplots(figsize=(10, 10))\n",
    "sn.set_theme(style=\"darkgrid\")\n",
    "ax = sn.countplot(data['Purpose'], palette=\"Set1\")\n",
    "plt.xticks(rotation=45)"
   ]
  },
  {
   "cell_type": "code",
   "execution_count": 151,
   "metadata": {},
   "outputs": [],
   "source": [
    "# resolve the outlier problem through Wisorization method.\n",
    "# ! pip install feature_engine"
   ]
  },
  {
   "cell_type": "code",
   "execution_count": 152,
   "metadata": {},
   "outputs": [
    {
     "data": {
      "application/vnd.plotly.v1+json": {
       "config": {
        "plotlyServerURL": "https://plot.ly"
       },
       "data": [
        {
         "alignmentgroup": "True",
         "hovertemplate": "Purpose=%{x}<br>Credit amount=%{y}<extra></extra>",
         "legendgroup": "radio/TV",
         "marker": {
          "color": "#636efa"
         },
         "name": "radio/TV",
         "notched": false,
         "offsetgroup": "radio/TV",
         "orientation": "v",
         "quartilemethod": "exclusive",
         "showlegend": true,
         "type": "box",
         "x": [
          "radio/TV",
          "radio/TV",
          "radio/TV",
          "radio/TV",
          "radio/TV",
          "radio/TV",
          "radio/TV",
          "radio/TV",
          "radio/TV",
          "radio/TV",
          "radio/TV",
          "radio/TV",
          "radio/TV",
          "radio/TV",
          "radio/TV",
          "radio/TV",
          "radio/TV",
          "radio/TV",
          "radio/TV",
          "radio/TV",
          "radio/TV",
          "radio/TV",
          "radio/TV",
          "radio/TV",
          "radio/TV",
          "radio/TV",
          "radio/TV",
          "radio/TV",
          "radio/TV",
          "radio/TV",
          "radio/TV",
          "radio/TV",
          "radio/TV",
          "radio/TV",
          "radio/TV",
          "radio/TV",
          "radio/TV",
          "radio/TV",
          "radio/TV",
          "radio/TV",
          "radio/TV",
          "radio/TV",
          "radio/TV",
          "radio/TV",
          "radio/TV",
          "radio/TV",
          "radio/TV",
          "radio/TV",
          "radio/TV",
          "radio/TV",
          "radio/TV",
          "radio/TV",
          "radio/TV",
          "radio/TV",
          "radio/TV",
          "radio/TV",
          "radio/TV",
          "radio/TV",
          "radio/TV",
          "radio/TV",
          "radio/TV",
          "radio/TV",
          "radio/TV",
          "radio/TV",
          "radio/TV",
          "radio/TV",
          "radio/TV",
          "radio/TV",
          "radio/TV",
          "radio/TV",
          "radio/TV",
          "radio/TV",
          "radio/TV",
          "radio/TV",
          "radio/TV",
          "radio/TV",
          "radio/TV",
          "radio/TV",
          "radio/TV",
          "radio/TV",
          "radio/TV",
          "radio/TV",
          "radio/TV",
          "radio/TV",
          "radio/TV",
          "radio/TV",
          "radio/TV",
          "radio/TV",
          "radio/TV",
          "radio/TV",
          "radio/TV",
          "radio/TV",
          "radio/TV",
          "radio/TV",
          "radio/TV",
          "radio/TV",
          "radio/TV",
          "radio/TV",
          "radio/TV",
          "radio/TV",
          "radio/TV",
          "radio/TV",
          "radio/TV",
          "radio/TV",
          "radio/TV",
          "radio/TV",
          "radio/TV",
          "radio/TV",
          "radio/TV",
          "radio/TV",
          "radio/TV",
          "radio/TV",
          "radio/TV",
          "radio/TV",
          "radio/TV",
          "radio/TV",
          "radio/TV",
          "radio/TV",
          "radio/TV",
          "radio/TV",
          "radio/TV",
          "radio/TV",
          "radio/TV",
          "radio/TV",
          "radio/TV",
          "radio/TV",
          "radio/TV",
          "radio/TV",
          "radio/TV",
          "radio/TV",
          "radio/TV",
          "radio/TV",
          "radio/TV",
          "radio/TV",
          "radio/TV",
          "radio/TV",
          "radio/TV",
          "radio/TV",
          "radio/TV",
          "radio/TV",
          "radio/TV",
          "radio/TV",
          "radio/TV",
          "radio/TV",
          "radio/TV",
          "radio/TV",
          "radio/TV",
          "radio/TV",
          "radio/TV",
          "radio/TV",
          "radio/TV",
          "radio/TV",
          "radio/TV",
          "radio/TV",
          "radio/TV",
          "radio/TV",
          "radio/TV",
          "radio/TV",
          "radio/TV",
          "radio/TV",
          "radio/TV",
          "radio/TV",
          "radio/TV",
          "radio/TV",
          "radio/TV",
          "radio/TV",
          "radio/TV",
          "radio/TV",
          "radio/TV",
          "radio/TV",
          "radio/TV",
          "radio/TV",
          "radio/TV",
          "radio/TV",
          "radio/TV",
          "radio/TV",
          "radio/TV",
          "radio/TV",
          "radio/TV",
          "radio/TV",
          "radio/TV",
          "radio/TV",
          "radio/TV",
          "radio/TV",
          "radio/TV",
          "radio/TV",
          "radio/TV",
          "radio/TV",
          "radio/TV",
          "radio/TV",
          "radio/TV",
          "radio/TV",
          "radio/TV",
          "radio/TV",
          "radio/TV",
          "radio/TV",
          "radio/TV",
          "radio/TV",
          "radio/TV",
          "radio/TV",
          "radio/TV",
          "radio/TV",
          "radio/TV",
          "radio/TV",
          "radio/TV",
          "radio/TV",
          "radio/TV",
          "radio/TV",
          "radio/TV",
          "radio/TV",
          "radio/TV",
          "radio/TV",
          "radio/TV",
          "radio/TV",
          "radio/TV",
          "radio/TV",
          "radio/TV",
          "radio/TV",
          "radio/TV",
          "radio/TV",
          "radio/TV",
          "radio/TV",
          "radio/TV",
          "radio/TV",
          "radio/TV",
          "radio/TV",
          "radio/TV",
          "radio/TV",
          "radio/TV",
          "radio/TV",
          "radio/TV",
          "radio/TV",
          "radio/TV",
          "radio/TV",
          "radio/TV",
          "radio/TV",
          "radio/TV",
          "radio/TV",
          "radio/TV",
          "radio/TV",
          "radio/TV",
          "radio/TV",
          "radio/TV",
          "radio/TV",
          "radio/TV",
          "radio/TV",
          "radio/TV",
          "radio/TV",
          "radio/TV",
          "radio/TV",
          "radio/TV",
          "radio/TV",
          "radio/TV",
          "radio/TV",
          "radio/TV",
          "radio/TV",
          "radio/TV",
          "radio/TV",
          "radio/TV",
          "radio/TV",
          "radio/TV",
          "radio/TV",
          "radio/TV",
          "radio/TV",
          "radio/TV",
          "radio/TV",
          "radio/TV",
          "radio/TV",
          "radio/TV",
          "radio/TV",
          "radio/TV",
          "radio/TV",
          "radio/TV",
          "radio/TV",
          "radio/TV",
          "radio/TV",
          "radio/TV",
          "radio/TV",
          "radio/TV",
          "radio/TV"
         ],
         "x0": " ",
         "xaxis": "x",
         "y": [
          1169,
          5951,
          3059,
          1567,
          1282,
          2424,
          3430,
          2647,
          426,
          409,
          2415,
          4746,
          2100,
          458,
          2333,
          1158,
          2299,
          2073,
          1262,
          6468,
          9566,
          1537,
          3181,
          2171,
          2394,
          730,
          3965,
          4771,
          5943,
          1213,
          2315,
          618,
          797,
          2337,
          2323,
          932,
          1680,
          3578,
          7174,
          1835,
          701,
          10144,
          1240,
          766,
          2728,
          1881,
          4795,
          3416,
          1582,
          1346,
          1924,
          5848,
          1898,
          2872,
          1414,
          338,
          1963,
          1360,
          674,
          2108,
          3031,
          1382,
          3074,
          3835,
          3342,
          3913,
          625,
          707,
          10961,
          1478,
          4210,
          2141,
          866,
          1544,
          1823,
          1291,
          2522,
          1595,
          717,
          433,
          7418,
          2684,
          2149,
          1154,
          1603,
          802,
          1533,
          999,
          3060,
          2697,
          2404,
          1901,
          1445,
          1092,
          1024,
          3804,
          727,
          1938,
          4473,
          1068,
          2101,
          3213,
          1459,
          882,
          3758,
          6199,
          2331,
          4463,
          776,
          3399,
          6070,
          2320,
          846,
          2238,
          1126,
          1957,
          1516,
          1473,
          2039,
          1053,
          3235,
          1967,
          2743,
          1149,
          1484,
          2576,
          518,
          4594,
          1659,
          7238,
          3092,
          1245,
          5152,
          3573,
          3077,
          1934,
          1237,
          368,
          1301,
          1126,
          1216,
          1413,
          585,
          700,
          3190,
          1113,
          1503,
          2302,
          1311,
          3105,
          1534,
          1552,
          626,
          1750,
          6999,
          1331,
          1546,
          683,
          1553,
          2578,
          3979,
          6758,
          5954,
          1082,
          2930,
          385,
          2329,
          2671,
          2051,
          3357,
          9157,
          2600,
          1979,
          3660,
          1444,
          1376,
          15653,
          1493,
          4370,
          1851,
          1880,
          10222,
          1297,
          3017,
          4530,
          5595,
          2384,
          1453,
          2279,
          1478,
          5103,
          1347,
          2753,
          2896,
          2284,
          1103,
          1800,
          1377,
          1206,
          2118,
          629,
          1138,
          3077,
          1505,
          3148,
          1337,
          790,
          1316,
          1882,
          6403,
          1987,
          760,
          1048,
          3160,
          5771,
          1271,
          2214,
          1155,
          1655,
          2223,
          3509,
          4933,
          2675,
          1795,
          976,
          590,
          930,
          484,
          1554,
          1345,
          3016,
          5084,
          2327,
          886,
          2611,
          1364,
          709,
          1471,
          2439,
          2389,
          1940,
          3595,
          6742,
          1098,
          1829,
          1169,
          2606,
          1386,
          1278,
          1107,
          4454,
          2991,
          12749,
          1366,
          1867,
          1670,
          522,
          1498,
          1919,
          745,
          2063,
          3621,
          1231,
          3656,
          1154,
          1740,
          2397,
          1715,
          2520,
          3568,
          7166,
          2831,
          1258,
          753,
          1409,
          1743,
          1569,
          1936,
          804,
          1845
         ],
         "y0": " ",
         "yaxis": "y"
        },
        {
         "alignmentgroup": "True",
         "hovertemplate": "Purpose=%{x}<br>Credit amount=%{y}<extra></extra>",
         "legendgroup": "education",
         "marker": {
          "color": "#EF553B"
         },
         "name": "education",
         "notched": false,
         "offsetgroup": "education",
         "orientation": "v",
         "quartilemethod": "exclusive",
         "showlegend": true,
         "type": "box",
         "x": [
          "education",
          "education",
          "education",
          "education",
          "education",
          "education",
          "education",
          "education",
          "education",
          "education",
          "education",
          "education",
          "education",
          "education",
          "education",
          "education",
          "education",
          "education",
          "education",
          "education",
          "education",
          "education",
          "education",
          "education",
          "education",
          "education",
          "education",
          "education",
          "education",
          "education",
          "education",
          "education",
          "education",
          "education",
          "education",
          "education",
          "education",
          "education",
          "education",
          "education",
          "education",
          "education",
          "education",
          "education",
          "education",
          "education",
          "education",
          "education",
          "education",
          "education",
          "education",
          "education",
          "education",
          "education",
          "education",
          "education",
          "education",
          "education",
          "education"
         ],
         "x0": " ",
         "xaxis": "x",
         "y": [
          2096,
          9055,
          6110,
          1819,
          1977,
          12612,
          2012,
          392,
          6887,
          339,
          3414,
          1501,
          936,
          902,
          932,
          1200,
          3447,
          2748,
          701,
          1864,
          5743,
          1136,
          727,
          1239,
          11760,
          8471,
          719,
          1244,
          754,
          448,
          1238,
          1532,
          2273,
          2319,
          1199,
          1927,
          937,
          1837,
          3832,
          1393,
          750,
          4623,
          684,
          7476,
          1047,
          1538,
          1905,
          1198,
          433,
          8065,
          1410,
          6224,
          5998,
          1597,
          894,
          795,
          3711,
          6288,
          3565
         ],
         "y0": " ",
         "yaxis": "y"
        },
        {
         "alignmentgroup": "True",
         "hovertemplate": "Purpose=%{x}<br>Credit amount=%{y}<extra></extra>",
         "legendgroup": "furniture/equipment",
         "marker": {
          "color": "#00cc96"
         },
         "name": "furniture/equipment",
         "notched": false,
         "offsetgroup": "furniture/equipment",
         "orientation": "v",
         "quartilemethod": "exclusive",
         "showlegend": true,
         "type": "box",
         "x": [
          "furniture/equipment",
          "furniture/equipment",
          "furniture/equipment",
          "furniture/equipment",
          "furniture/equipment",
          "furniture/equipment",
          "furniture/equipment",
          "furniture/equipment",
          "furniture/equipment",
          "furniture/equipment",
          "furniture/equipment",
          "furniture/equipment",
          "furniture/equipment",
          "furniture/equipment",
          "furniture/equipment",
          "furniture/equipment",
          "furniture/equipment",
          "furniture/equipment",
          "furniture/equipment",
          "furniture/equipment",
          "furniture/equipment",
          "furniture/equipment",
          "furniture/equipment",
          "furniture/equipment",
          "furniture/equipment",
          "furniture/equipment",
          "furniture/equipment",
          "furniture/equipment",
          "furniture/equipment",
          "furniture/equipment",
          "furniture/equipment",
          "furniture/equipment",
          "furniture/equipment",
          "furniture/equipment",
          "furniture/equipment",
          "furniture/equipment",
          "furniture/equipment",
          "furniture/equipment",
          "furniture/equipment",
          "furniture/equipment",
          "furniture/equipment",
          "furniture/equipment",
          "furniture/equipment",
          "furniture/equipment",
          "furniture/equipment",
          "furniture/equipment",
          "furniture/equipment",
          "furniture/equipment",
          "furniture/equipment",
          "furniture/equipment",
          "furniture/equipment",
          "furniture/equipment",
          "furniture/equipment",
          "furniture/equipment",
          "furniture/equipment",
          "furniture/equipment",
          "furniture/equipment",
          "furniture/equipment",
          "furniture/equipment",
          "furniture/equipment",
          "furniture/equipment",
          "furniture/equipment",
          "furniture/equipment",
          "furniture/equipment",
          "furniture/equipment",
          "furniture/equipment",
          "furniture/equipment",
          "furniture/equipment",
          "furniture/equipment",
          "furniture/equipment",
          "furniture/equipment",
          "furniture/equipment",
          "furniture/equipment",
          "furniture/equipment",
          "furniture/equipment",
          "furniture/equipment",
          "furniture/equipment",
          "furniture/equipment",
          "furniture/equipment",
          "furniture/equipment",
          "furniture/equipment",
          "furniture/equipment",
          "furniture/equipment",
          "furniture/equipment",
          "furniture/equipment",
          "furniture/equipment",
          "furniture/equipment",
          "furniture/equipment",
          "furniture/equipment",
          "furniture/equipment",
          "furniture/equipment",
          "furniture/equipment",
          "furniture/equipment",
          "furniture/equipment",
          "furniture/equipment",
          "furniture/equipment",
          "furniture/equipment",
          "furniture/equipment",
          "furniture/equipment",
          "furniture/equipment",
          "furniture/equipment",
          "furniture/equipment",
          "furniture/equipment",
          "furniture/equipment",
          "furniture/equipment",
          "furniture/equipment",
          "furniture/equipment",
          "furniture/equipment",
          "furniture/equipment",
          "furniture/equipment",
          "furniture/equipment",
          "furniture/equipment",
          "furniture/equipment",
          "furniture/equipment",
          "furniture/equipment",
          "furniture/equipment",
          "furniture/equipment",
          "furniture/equipment",
          "furniture/equipment",
          "furniture/equipment",
          "furniture/equipment",
          "furniture/equipment",
          "furniture/equipment",
          "furniture/equipment",
          "furniture/equipment",
          "furniture/equipment",
          "furniture/equipment",
          "furniture/equipment",
          "furniture/equipment",
          "furniture/equipment",
          "furniture/equipment",
          "furniture/equipment",
          "furniture/equipment",
          "furniture/equipment",
          "furniture/equipment",
          "furniture/equipment",
          "furniture/equipment",
          "furniture/equipment",
          "furniture/equipment",
          "furniture/equipment",
          "furniture/equipment",
          "furniture/equipment",
          "furniture/equipment",
          "furniture/equipment",
          "furniture/equipment",
          "furniture/equipment",
          "furniture/equipment",
          "furniture/equipment",
          "furniture/equipment",
          "furniture/equipment",
          "furniture/equipment",
          "furniture/equipment",
          "furniture/equipment",
          "furniture/equipment",
          "furniture/equipment",
          "furniture/equipment",
          "furniture/equipment",
          "furniture/equipment",
          "furniture/equipment",
          "furniture/equipment",
          "furniture/equipment",
          "furniture/equipment",
          "furniture/equipment",
          "furniture/equipment",
          "furniture/equipment",
          "furniture/equipment",
          "furniture/equipment",
          "furniture/equipment",
          "furniture/equipment",
          "furniture/equipment",
          "furniture/equipment",
          "furniture/equipment",
          "furniture/equipment",
          "furniture/equipment",
          "furniture/equipment",
          "furniture/equipment",
          "furniture/equipment",
          "furniture/equipment",
          "furniture/equipment",
          "furniture/equipment",
          "furniture/equipment"
         ],
         "x0": " ",
         "xaxis": "x",
         "y": [
          7882,
          2835,
          2069,
          1374,
          4020,
          1474,
          2333,
          6229,
          3832,
          1295,
          3617,
          1919,
          7721,
          2132,
          4281,
          1768,
          1924,
          2708,
          1984,
          2462,
          2288,
          5371,
          1282,
          2978,
          1131,
          1577,
          3972,
          763,
          2064,
          2577,
          3777,
          3244,
          951,
          4297,
          1935,
          3021,
          7865,
          3149,
          1925,
          2251,
          4151,
          2030,
          1657,
          1402,
          1262,
          4611,
          1574,
          1520,
          9960,
          2515,
          2745,
          1543,
          1237,
          5511,
          3749,
          2746,
          708,
          4351,
          3643,
          2659,
          5801,
          4110,
          3384,
          4169,
          1521,
          3599,
          959,
          2406,
          1766,
          2473,
          3650,
          3446,
          3001,
          2146,
          2212,
          7374,
          983,
          2406,
          2578,
          2348,
          1591,
          2762,
          1313,
          1872,
          2136,
          1620,
          5096,
          1424,
          2759,
          3620,
          3017,
          3114,
          1478,
          3622,
          960,
          2996,
          9034,
          1585,
          7127,
          7119,
          3612,
          3049,
          6350,
          2864,
          3552,
          1928,
          3234,
          2788,
          1388,
          2039,
          1289,
          2246,
          918,
          3349,
          1275,
          2828,
          1808,
          3441,
          1858,
          2116,
          4042,
          1553,
          1980,
          4583,
          1922,
          6361,
          2241,
          1050,
          3496,
          5150,
          975,
          1123,
          2969,
          2483,
          14179,
          428,
          2124,
          3108,
          3617,
          1221,
          2892,
          3062,
          2301,
          1258,
          4272,
          2712,
          3780,
          601,
          5179,
          3422,
          3976,
          3343,
          4526,
          2210,
          2221,
          3331,
          652,
          7678,
          3590,
          4057,
          1592,
          2186,
          4153,
          4736,
          2359,
          3345,
          1817,
          6872,
          1049,
          1747,
          929,
          1845,
          3349,
          1533,
          10974,
          3069,
          8386,
          2028,
          1433,
          3959,
          1736
         ],
         "y0": " ",
         "yaxis": "y"
        },
        {
         "alignmentgroup": "True",
         "hovertemplate": "Purpose=%{x}<br>Credit amount=%{y}<extra></extra>",
         "legendgroup": "car",
         "marker": {
          "color": "#ab63fa"
         },
         "name": "car",
         "notched": false,
         "offsetgroup": "car",
         "orientation": "v",
         "quartilemethod": "exclusive",
         "showlegend": true,
         "type": "box",
         "x": [
          "car",
          "car",
          "car",
          "car",
          "car",
          "car",
          "car",
          "car",
          "car",
          "car",
          "car",
          "car",
          "car",
          "car",
          "car",
          "car",
          "car",
          "car",
          "car",
          "car",
          "car",
          "car",
          "car",
          "car",
          "car",
          "car",
          "car",
          "car",
          "car",
          "car",
          "car",
          "car",
          "car",
          "car",
          "car",
          "car",
          "car",
          "car",
          "car",
          "car",
          "car",
          "car",
          "car",
          "car",
          "car",
          "car",
          "car",
          "car",
          "car",
          "car",
          "car",
          "car",
          "car",
          "car",
          "car",
          "car",
          "car",
          "car",
          "car",
          "car",
          "car",
          "car",
          "car",
          "car",
          "car",
          "car",
          "car",
          "car",
          "car",
          "car",
          "car",
          "car",
          "car",
          "car",
          "car",
          "car",
          "car",
          "car",
          "car",
          "car",
          "car",
          "car",
          "car",
          "car",
          "car",
          "car",
          "car",
          "car",
          "car",
          "car",
          "car",
          "car",
          "car",
          "car",
          "car",
          "car",
          "car",
          "car",
          "car",
          "car",
          "car",
          "car",
          "car",
          "car",
          "car",
          "car",
          "car",
          "car",
          "car",
          "car",
          "car",
          "car",
          "car",
          "car",
          "car",
          "car",
          "car",
          "car",
          "car",
          "car",
          "car",
          "car",
          "car",
          "car",
          "car",
          "car",
          "car",
          "car",
          "car",
          "car",
          "car",
          "car",
          "car",
          "car",
          "car",
          "car",
          "car",
          "car",
          "car",
          "car",
          "car",
          "car",
          "car",
          "car",
          "car",
          "car",
          "car",
          "car",
          "car",
          "car",
          "car",
          "car",
          "car",
          "car",
          "car",
          "car",
          "car",
          "car",
          "car",
          "car",
          "car",
          "car",
          "car",
          "car",
          "car",
          "car",
          "car",
          "car",
          "car",
          "car",
          "car",
          "car",
          "car",
          "car",
          "car",
          "car",
          "car",
          "car",
          "car",
          "car",
          "car",
          "car",
          "car",
          "car",
          "car",
          "car",
          "car",
          "car",
          "car",
          "car",
          "car",
          "car",
          "car",
          "car",
          "car",
          "car",
          "car",
          "car",
          "car",
          "car",
          "car",
          "car",
          "car",
          "car",
          "car",
          "car",
          "car",
          "car",
          "car",
          "car",
          "car",
          "car",
          "car",
          "car",
          "car",
          "car",
          "car",
          "car",
          "car",
          "car",
          "car",
          "car",
          "car",
          "car",
          "car",
          "car",
          "car",
          "car",
          "car",
          "car",
          "car",
          "car",
          "car",
          "car",
          "car",
          "car",
          "car",
          "car",
          "car",
          "car",
          "car",
          "car",
          "car",
          "car",
          "car",
          "car",
          "car",
          "car",
          "car",
          "car",
          "car",
          "car",
          "car",
          "car",
          "car",
          "car",
          "car",
          "car",
          "car",
          "car",
          "car",
          "car",
          "car",
          "car",
          "car",
          "car",
          "car",
          "car",
          "car",
          "car",
          "car",
          "car",
          "car",
          "car",
          "car",
          "car",
          "car",
          "car",
          "car",
          "car",
          "car",
          "car",
          "car",
          "car",
          "car",
          "car",
          "car",
          "car",
          "car",
          "car",
          "car",
          "car",
          "car",
          "car",
          "car",
          "car",
          "car",
          "car",
          "car",
          "car",
          "car",
          "car",
          "car",
          "car",
          "car",
          "car",
          "car",
          "car",
          "car",
          "car",
          "car",
          "car",
          "car",
          "car",
          "car",
          "car",
          "car",
          "car",
          "car",
          "car",
          "car",
          "car",
          "car",
          "car",
          "car",
          "car",
          "car",
          "car",
          "car",
          "car",
          "car",
          "car",
          "car",
          "car",
          "car",
          "car",
          "car"
         ],
         "x0": " ",
         "xaxis": "x",
         "y": [
          4870,
          6948,
          5234,
          1295,
          1199,
          1403,
          12579,
          2134,
          2241,
          1804,
          5866,
          6187,
          6143,
          1393,
          1352,
          7228,
          5965,
          3378,
          2225,
          783,
          1961,
          1007,
          8133,
          1526,
          9436,
          2249,
          1409,
          1318,
          7057,
          1469,
          2445,
          6458,
          6078,
          6260,
          7855,
          2366,
          3868,
          781,
          2121,
          1860,
          3499,
          8487,
          8613,
          709,
          860,
          682,
          7758,
          3512,
          1055,
          7308,
          909,
          950,
          7485,
          571,
          1647,
          884,
          5129,
          1175,
          2760,
          1168,
          1495,
          10623,
          1413,
          1364,
          4657,
          2507,
          14555,
          915,
          4605,
          1204,
          666,
          2150,
          3812,
          5302,
          1231,
          8978,
          2662,
          12169,
          3368,
          3878,
          10722,
          4788,
          9398,
          6419,
          4796,
          4675,
          1287,
          672,
          1344,
          1038,
          10127,
          4811,
          276,
          685,
          1494,
          4249,
          2910,
          1028,
          3398,
          1525,
          6615,
          7408,
          11590,
          3949,
          3229,
          1246,
          2247,
          3850,
          3079,
          13756,
          14318,
          362,
          12976,
          1283,
          1330,
          1820,
          3249,
          1223,
          802,
          2899,
          2197,
          939,
          7253,
          1597,
          1381,
          5842,
          2579,
          2782,
          1042,
          3186,
          2028,
          958,
          2779,
          1287,
          1884,
          1842,
          11054,
          2670,
          4817,
          2679,
          3905,
          3386,
          1721,
          2924,
          4679,
          654,
          2569,
          1201,
          1163,
          1209,
          3757,
          1418,
          3518,
          2122,
          1323,
          3123,
          5493,
          1207,
          1309,
          2360,
          6850,
          8588,
          759,
          4686,
          2255,
          609,
          1361,
          1203,
          3488,
          7966,
          662,
          2631,
          1503,
          1374,
          7763,
          2032,
          1255,
          1333,
          2022,
          8858,
          1995,
          2278,
          5003,
          2964,
          12389,
          1372,
          5433,
          2820,
          1056,
          3124,
          2133,
          2799,
          1965,
          2718,
          931,
          1442,
          2775,
          1300,
          1240,
          3632,
          3676,
          640,
          1530,
          1437,
          1355,
          1386,
          947,
          2303,
          8086,
          2346,
          3973,
          888,
          900,
          4843,
          10366,
          2080,
          6527,
          2862,
          3651,
          4716,
          1236,
          926,
          6331,
          5324,
          6560,
          2476,
          14027,
          7596,
          6148,
          1228,
          2570,
          250,
          2603,
          3380,
          11560,
          4380,
          6761,
          2325,
          2511,
          1274,
          5248,
          3029,
          976,
          1285,
          1299,
          1393,
          691,
          5045,
          12680,
          2463,
          2901,
          2812,
          3275,
          1480,
          1371,
          3535,
          5711,
          1940,
          836,
          6468,
          2751,
          6313,
          7511,
          717,
          1549,
          7472,
          9271,
          9283,
          1778,
          9629,
          3931,
          7432,
          1101,
          731,
          1602,
          3966,
          8335,
          1216,
          1082,
          2957,
          2993,
          6761,
          1249,
          2235,
          4042,
          1442,
          10875,
          1474,
          3959,
          3577,
          5804,
          1343,
          1322,
          1422,
          7814,
          9277,
          2181,
          6614,
          7824,
          2171,
          5800,
          8947,
          2625,
          3485,
          10477,
          3763,
          3594,
          3195,
          2848,
          14896,
          2002,
          697,
          10297,
          1344,
          1224,
          6842,
          3527,
          1546,
          1455,
          8358,
          2859,
          4113,
          1893,
          4006,
          2353,
          3556,
          3939,
          7393,
          1193,
          2538,
          1264,
          2923,
          8229,
          6579,
          2390,
          3857,
          4576
         ],
         "y0": " ",
         "yaxis": "y"
        },
        {
         "alignmentgroup": "True",
         "hovertemplate": "Purpose=%{x}<br>Credit amount=%{y}<extra></extra>",
         "legendgroup": "business",
         "marker": {
          "color": "#FFA15A"
         },
         "name": "business",
         "notched": false,
         "offsetgroup": "business",
         "orientation": "v",
         "quartilemethod": "exclusive",
         "showlegend": true,
         "type": "box",
         "x": [
          "business",
          "business",
          "business",
          "business",
          "business",
          "business",
          "business",
          "business",
          "business",
          "business",
          "business",
          "business",
          "business",
          "business",
          "business",
          "business",
          "business",
          "business",
          "business",
          "business",
          "business",
          "business",
          "business",
          "business",
          "business",
          "business",
          "business",
          "business",
          "business",
          "business",
          "business",
          "business",
          "business",
          "business",
          "business",
          "business",
          "business",
          "business",
          "business",
          "business",
          "business",
          "business",
          "business",
          "business",
          "business",
          "business",
          "business",
          "business",
          "business",
          "business",
          "business",
          "business",
          "business",
          "business",
          "business",
          "business",
          "business",
          "business",
          "business",
          "business",
          "business",
          "business",
          "business",
          "business",
          "business",
          "business",
          "business",
          "business",
          "business",
          "business",
          "business",
          "business",
          "business",
          "business",
          "business",
          "business",
          "business",
          "business",
          "business",
          "business",
          "business",
          "business",
          "business",
          "business",
          "business",
          "business",
          "business",
          "business",
          "business",
          "business",
          "business",
          "business",
          "business",
          "business",
          "business",
          "business",
          "business"
         ],
         "x0": " ",
         "xaxis": "x",
         "y": [
          4308,
          8072,
          6836,
          1913,
          1264,
          1391,
          1953,
          14421,
          5954,
          1568,
          1412,
          15945,
          2622,
          1410,
          1449,
          3566,
          6967,
          1935,
          9572,
          4455,
          4591,
          3844,
          3915,
          5117,
          6568,
          5293,
          1908,
          3104,
          2978,
          2767,
          1185,
          1258,
          6304,
          1076,
          7629,
          4439,
          1743,
          1542,
          7685,
          4272,
          2326,
          1449,
          1887,
          8648,
          2292,
          3448,
          609,
          1950,
          2764,
          1037,
          8318,
          2687,
          4712,
          806,
          1572,
          4241,
          3863,
          4526,
          12204,
          3652,
          3914,
          7980,
          4221,
          3609,
          4139,
          5742,
          2580,
          9857,
          2503,
          2528,
          6416,
          1275,
          4280,
          1797,
          841,
          1941,
          1188,
          907,
          4165,
          6681,
          2375,
          11816,
          1559,
          2169,
          7409,
          1382,
          2825,
          15672,
          2442,
          2142,
          3161,
          3590,
          2145,
          7297,
          2427,
          4844,
          6289
         ],
         "y0": " ",
         "yaxis": "y"
        },
        {
         "alignmentgroup": "True",
         "hovertemplate": "Purpose=%{x}<br>Credit amount=%{y}<extra></extra>",
         "legendgroup": "domestic appliances",
         "marker": {
          "color": "#19d3f3"
         },
         "name": "domestic appliances",
         "notched": false,
         "offsetgroup": "domestic appliances",
         "orientation": "v",
         "quartilemethod": "exclusive",
         "showlegend": true,
         "type": "box",
         "x": [
          "domestic appliances",
          "domestic appliances",
          "domestic appliances",
          "domestic appliances",
          "domestic appliances",
          "domestic appliances",
          "domestic appliances",
          "domestic appliances",
          "domestic appliances",
          "domestic appliances",
          "domestic appliances",
          "domestic appliances"
         ],
         "x0": " ",
         "xaxis": "x",
         "y": [
          1225,
          1262,
          1424,
          1275,
          1236,
          343,
          1217,
          741,
          3990,
          3051,
          1338,
          874
         ],
         "y0": " ",
         "yaxis": "y"
        },
        {
         "alignmentgroup": "True",
         "hovertemplate": "Purpose=%{x}<br>Credit amount=%{y}<extra></extra>",
         "legendgroup": "repairs",
         "marker": {
          "color": "#FF6692"
         },
         "name": "repairs",
         "notched": false,
         "offsetgroup": "repairs",
         "orientation": "v",
         "quartilemethod": "exclusive",
         "showlegend": true,
         "type": "box",
         "x": [
          "repairs",
          "repairs",
          "repairs",
          "repairs",
          "repairs",
          "repairs",
          "repairs",
          "repairs",
          "repairs",
          "repairs",
          "repairs",
          "repairs",
          "repairs",
          "repairs",
          "repairs",
          "repairs",
          "repairs",
          "repairs",
          "repairs",
          "repairs",
          "repairs",
          "repairs"
         ],
         "x0": " ",
         "xaxis": "x",
         "y": [
          6204,
          5190,
          1108,
          639,
          1288,
          2613,
          11998,
          1190,
          2058,
          660,
          3394,
          1512,
          5507,
          996,
          2384,
          1308,
          2631,
          1555,
          3872,
          1943,
          454,
          1514
         ],
         "y0": " ",
         "yaxis": "y"
        },
        {
         "alignmentgroup": "True",
         "hovertemplate": "Purpose=%{x}<br>Credit amount=%{y}<extra></extra>",
         "legendgroup": "vacation/others",
         "marker": {
          "color": "#B6E880"
         },
         "name": "vacation/others",
         "notched": false,
         "offsetgroup": "vacation/others",
         "orientation": "v",
         "quartilemethod": "exclusive",
         "showlegend": true,
         "type": "box",
         "x": [
          "vacation/others",
          "vacation/others",
          "vacation/others",
          "vacation/others",
          "vacation/others",
          "vacation/others",
          "vacation/others",
          "vacation/others",
          "vacation/others",
          "vacation/others",
          "vacation/others",
          "vacation/others"
         ],
         "x0": " ",
         "xaxis": "x",
         "y": [
          1164,
          1755,
          11938,
          7582,
          5381,
          14782,
          11328,
          2629,
          1358,
          6314,
          15857,
          18424
         ],
         "y0": " ",
         "yaxis": "y"
        }
       ],
       "layout": {
        "boxmode": "overlay",
        "legend": {
         "title": {
          "text": "Purpose"
         },
         "tracegroupgap": 0
        },
        "margin": {
         "t": 60
        },
        "template": {
         "data": {
          "bar": [
           {
            "error_x": {
             "color": "#2a3f5f"
            },
            "error_y": {
             "color": "#2a3f5f"
            },
            "marker": {
             "line": {
              "color": "#E5ECF6",
              "width": 0.5
             }
            },
            "type": "bar"
           }
          ],
          "barpolar": [
           {
            "marker": {
             "line": {
              "color": "#E5ECF6",
              "width": 0.5
             }
            },
            "type": "barpolar"
           }
          ],
          "carpet": [
           {
            "aaxis": {
             "endlinecolor": "#2a3f5f",
             "gridcolor": "white",
             "linecolor": "white",
             "minorgridcolor": "white",
             "startlinecolor": "#2a3f5f"
            },
            "baxis": {
             "endlinecolor": "#2a3f5f",
             "gridcolor": "white",
             "linecolor": "white",
             "minorgridcolor": "white",
             "startlinecolor": "#2a3f5f"
            },
            "type": "carpet"
           }
          ],
          "choropleth": [
           {
            "colorbar": {
             "outlinewidth": 0,
             "ticks": ""
            },
            "type": "choropleth"
           }
          ],
          "contour": [
           {
            "colorbar": {
             "outlinewidth": 0,
             "ticks": ""
            },
            "colorscale": [
             [
              0,
              "#0d0887"
             ],
             [
              0.1111111111111111,
              "#46039f"
             ],
             [
              0.2222222222222222,
              "#7201a8"
             ],
             [
              0.3333333333333333,
              "#9c179e"
             ],
             [
              0.4444444444444444,
              "#bd3786"
             ],
             [
              0.5555555555555556,
              "#d8576b"
             ],
             [
              0.6666666666666666,
              "#ed7953"
             ],
             [
              0.7777777777777778,
              "#fb9f3a"
             ],
             [
              0.8888888888888888,
              "#fdca26"
             ],
             [
              1,
              "#f0f921"
             ]
            ],
            "type": "contour"
           }
          ],
          "contourcarpet": [
           {
            "colorbar": {
             "outlinewidth": 0,
             "ticks": ""
            },
            "type": "contourcarpet"
           }
          ],
          "heatmap": [
           {
            "colorbar": {
             "outlinewidth": 0,
             "ticks": ""
            },
            "colorscale": [
             [
              0,
              "#0d0887"
             ],
             [
              0.1111111111111111,
              "#46039f"
             ],
             [
              0.2222222222222222,
              "#7201a8"
             ],
             [
              0.3333333333333333,
              "#9c179e"
             ],
             [
              0.4444444444444444,
              "#bd3786"
             ],
             [
              0.5555555555555556,
              "#d8576b"
             ],
             [
              0.6666666666666666,
              "#ed7953"
             ],
             [
              0.7777777777777778,
              "#fb9f3a"
             ],
             [
              0.8888888888888888,
              "#fdca26"
             ],
             [
              1,
              "#f0f921"
             ]
            ],
            "type": "heatmap"
           }
          ],
          "heatmapgl": [
           {
            "colorbar": {
             "outlinewidth": 0,
             "ticks": ""
            },
            "colorscale": [
             [
              0,
              "#0d0887"
             ],
             [
              0.1111111111111111,
              "#46039f"
             ],
             [
              0.2222222222222222,
              "#7201a8"
             ],
             [
              0.3333333333333333,
              "#9c179e"
             ],
             [
              0.4444444444444444,
              "#bd3786"
             ],
             [
              0.5555555555555556,
              "#d8576b"
             ],
             [
              0.6666666666666666,
              "#ed7953"
             ],
             [
              0.7777777777777778,
              "#fb9f3a"
             ],
             [
              0.8888888888888888,
              "#fdca26"
             ],
             [
              1,
              "#f0f921"
             ]
            ],
            "type": "heatmapgl"
           }
          ],
          "histogram": [
           {
            "marker": {
             "colorbar": {
              "outlinewidth": 0,
              "ticks": ""
             }
            },
            "type": "histogram"
           }
          ],
          "histogram2d": [
           {
            "colorbar": {
             "outlinewidth": 0,
             "ticks": ""
            },
            "colorscale": [
             [
              0,
              "#0d0887"
             ],
             [
              0.1111111111111111,
              "#46039f"
             ],
             [
              0.2222222222222222,
              "#7201a8"
             ],
             [
              0.3333333333333333,
              "#9c179e"
             ],
             [
              0.4444444444444444,
              "#bd3786"
             ],
             [
              0.5555555555555556,
              "#d8576b"
             ],
             [
              0.6666666666666666,
              "#ed7953"
             ],
             [
              0.7777777777777778,
              "#fb9f3a"
             ],
             [
              0.8888888888888888,
              "#fdca26"
             ],
             [
              1,
              "#f0f921"
             ]
            ],
            "type": "histogram2d"
           }
          ],
          "histogram2dcontour": [
           {
            "colorbar": {
             "outlinewidth": 0,
             "ticks": ""
            },
            "colorscale": [
             [
              0,
              "#0d0887"
             ],
             [
              0.1111111111111111,
              "#46039f"
             ],
             [
              0.2222222222222222,
              "#7201a8"
             ],
             [
              0.3333333333333333,
              "#9c179e"
             ],
             [
              0.4444444444444444,
              "#bd3786"
             ],
             [
              0.5555555555555556,
              "#d8576b"
             ],
             [
              0.6666666666666666,
              "#ed7953"
             ],
             [
              0.7777777777777778,
              "#fb9f3a"
             ],
             [
              0.8888888888888888,
              "#fdca26"
             ],
             [
              1,
              "#f0f921"
             ]
            ],
            "type": "histogram2dcontour"
           }
          ],
          "mesh3d": [
           {
            "colorbar": {
             "outlinewidth": 0,
             "ticks": ""
            },
            "type": "mesh3d"
           }
          ],
          "parcoords": [
           {
            "line": {
             "colorbar": {
              "outlinewidth": 0,
              "ticks": ""
             }
            },
            "type": "parcoords"
           }
          ],
          "pie": [
           {
            "automargin": true,
            "type": "pie"
           }
          ],
          "scatter": [
           {
            "marker": {
             "colorbar": {
              "outlinewidth": 0,
              "ticks": ""
             }
            },
            "type": "scatter"
           }
          ],
          "scatter3d": [
           {
            "line": {
             "colorbar": {
              "outlinewidth": 0,
              "ticks": ""
             }
            },
            "marker": {
             "colorbar": {
              "outlinewidth": 0,
              "ticks": ""
             }
            },
            "type": "scatter3d"
           }
          ],
          "scattercarpet": [
           {
            "marker": {
             "colorbar": {
              "outlinewidth": 0,
              "ticks": ""
             }
            },
            "type": "scattercarpet"
           }
          ],
          "scattergeo": [
           {
            "marker": {
             "colorbar": {
              "outlinewidth": 0,
              "ticks": ""
             }
            },
            "type": "scattergeo"
           }
          ],
          "scattergl": [
           {
            "marker": {
             "colorbar": {
              "outlinewidth": 0,
              "ticks": ""
             }
            },
            "type": "scattergl"
           }
          ],
          "scattermapbox": [
           {
            "marker": {
             "colorbar": {
              "outlinewidth": 0,
              "ticks": ""
             }
            },
            "type": "scattermapbox"
           }
          ],
          "scatterpolar": [
           {
            "marker": {
             "colorbar": {
              "outlinewidth": 0,
              "ticks": ""
             }
            },
            "type": "scatterpolar"
           }
          ],
          "scatterpolargl": [
           {
            "marker": {
             "colorbar": {
              "outlinewidth": 0,
              "ticks": ""
             }
            },
            "type": "scatterpolargl"
           }
          ],
          "scatterternary": [
           {
            "marker": {
             "colorbar": {
              "outlinewidth": 0,
              "ticks": ""
             }
            },
            "type": "scatterternary"
           }
          ],
          "surface": [
           {
            "colorbar": {
             "outlinewidth": 0,
             "ticks": ""
            },
            "colorscale": [
             [
              0,
              "#0d0887"
             ],
             [
              0.1111111111111111,
              "#46039f"
             ],
             [
              0.2222222222222222,
              "#7201a8"
             ],
             [
              0.3333333333333333,
              "#9c179e"
             ],
             [
              0.4444444444444444,
              "#bd3786"
             ],
             [
              0.5555555555555556,
              "#d8576b"
             ],
             [
              0.6666666666666666,
              "#ed7953"
             ],
             [
              0.7777777777777778,
              "#fb9f3a"
             ],
             [
              0.8888888888888888,
              "#fdca26"
             ],
             [
              1,
              "#f0f921"
             ]
            ],
            "type": "surface"
           }
          ],
          "table": [
           {
            "cells": {
             "fill": {
              "color": "#EBF0F8"
             },
             "line": {
              "color": "white"
             }
            },
            "header": {
             "fill": {
              "color": "#C8D4E3"
             },
             "line": {
              "color": "white"
             }
            },
            "type": "table"
           }
          ]
         },
         "layout": {
          "annotationdefaults": {
           "arrowcolor": "#2a3f5f",
           "arrowhead": 0,
           "arrowwidth": 1
          },
          "autotypenumbers": "strict",
          "coloraxis": {
           "colorbar": {
            "outlinewidth": 0,
            "ticks": ""
           }
          },
          "colorscale": {
           "diverging": [
            [
             0,
             "#8e0152"
            ],
            [
             0.1,
             "#c51b7d"
            ],
            [
             0.2,
             "#de77ae"
            ],
            [
             0.3,
             "#f1b6da"
            ],
            [
             0.4,
             "#fde0ef"
            ],
            [
             0.5,
             "#f7f7f7"
            ],
            [
             0.6,
             "#e6f5d0"
            ],
            [
             0.7,
             "#b8e186"
            ],
            [
             0.8,
             "#7fbc41"
            ],
            [
             0.9,
             "#4d9221"
            ],
            [
             1,
             "#276419"
            ]
           ],
           "sequential": [
            [
             0,
             "#0d0887"
            ],
            [
             0.1111111111111111,
             "#46039f"
            ],
            [
             0.2222222222222222,
             "#7201a8"
            ],
            [
             0.3333333333333333,
             "#9c179e"
            ],
            [
             0.4444444444444444,
             "#bd3786"
            ],
            [
             0.5555555555555556,
             "#d8576b"
            ],
            [
             0.6666666666666666,
             "#ed7953"
            ],
            [
             0.7777777777777778,
             "#fb9f3a"
            ],
            [
             0.8888888888888888,
             "#fdca26"
            ],
            [
             1,
             "#f0f921"
            ]
           ],
           "sequentialminus": [
            [
             0,
             "#0d0887"
            ],
            [
             0.1111111111111111,
             "#46039f"
            ],
            [
             0.2222222222222222,
             "#7201a8"
            ],
            [
             0.3333333333333333,
             "#9c179e"
            ],
            [
             0.4444444444444444,
             "#bd3786"
            ],
            [
             0.5555555555555556,
             "#d8576b"
            ],
            [
             0.6666666666666666,
             "#ed7953"
            ],
            [
             0.7777777777777778,
             "#fb9f3a"
            ],
            [
             0.8888888888888888,
             "#fdca26"
            ],
            [
             1,
             "#f0f921"
            ]
           ]
          },
          "colorway": [
           "#636efa",
           "#EF553B",
           "#00cc96",
           "#ab63fa",
           "#FFA15A",
           "#19d3f3",
           "#FF6692",
           "#B6E880",
           "#FF97FF",
           "#FECB52"
          ],
          "font": {
           "color": "#2a3f5f"
          },
          "geo": {
           "bgcolor": "white",
           "lakecolor": "white",
           "landcolor": "#E5ECF6",
           "showlakes": true,
           "showland": true,
           "subunitcolor": "white"
          },
          "hoverlabel": {
           "align": "left"
          },
          "hovermode": "closest",
          "mapbox": {
           "style": "light"
          },
          "paper_bgcolor": "white",
          "plot_bgcolor": "#E5ECF6",
          "polar": {
           "angularaxis": {
            "gridcolor": "white",
            "linecolor": "white",
            "ticks": ""
           },
           "bgcolor": "#E5ECF6",
           "radialaxis": {
            "gridcolor": "white",
            "linecolor": "white",
            "ticks": ""
           }
          },
          "scene": {
           "xaxis": {
            "backgroundcolor": "#E5ECF6",
            "gridcolor": "white",
            "gridwidth": 2,
            "linecolor": "white",
            "showbackground": true,
            "ticks": "",
            "zerolinecolor": "white"
           },
           "yaxis": {
            "backgroundcolor": "#E5ECF6",
            "gridcolor": "white",
            "gridwidth": 2,
            "linecolor": "white",
            "showbackground": true,
            "ticks": "",
            "zerolinecolor": "white"
           },
           "zaxis": {
            "backgroundcolor": "#E5ECF6",
            "gridcolor": "white",
            "gridwidth": 2,
            "linecolor": "white",
            "showbackground": true,
            "ticks": "",
            "zerolinecolor": "white"
           }
          },
          "shapedefaults": {
           "line": {
            "color": "#2a3f5f"
           }
          },
          "ternary": {
           "aaxis": {
            "gridcolor": "white",
            "linecolor": "white",
            "ticks": ""
           },
           "baxis": {
            "gridcolor": "white",
            "linecolor": "white",
            "ticks": ""
           },
           "bgcolor": "#E5ECF6",
           "caxis": {
            "gridcolor": "white",
            "linecolor": "white",
            "ticks": ""
           }
          },
          "title": {
           "x": 0.05
          },
          "xaxis": {
           "automargin": true,
           "gridcolor": "white",
           "linecolor": "white",
           "ticks": "",
           "title": {
            "standoff": 15
           },
           "zerolinecolor": "white",
           "zerolinewidth": 2
          },
          "yaxis": {
           "automargin": true,
           "gridcolor": "white",
           "linecolor": "white",
           "ticks": "",
           "title": {
            "standoff": 15
           },
           "zerolinecolor": "white",
           "zerolinewidth": 2
          }
         }
        },
        "title": {
         "text": "Purpose Vs Credit Amount Cross tabulation",
         "x": 0.5,
         "xanchor": "center",
         "y": 0.95,
         "yanchor": "top"
        },
        "xaxis": {
         "anchor": "y",
         "categoryarray": [
          "radio/TV",
          "education",
          "furniture/equipment",
          "car",
          "business",
          "domestic appliances",
          "repairs",
          "vacation/others"
         ],
         "categoryorder": "array",
         "domain": [
          0,
          1
         ],
         "title": {
          "text": "Purpose"
         }
        },
        "yaxis": {
         "anchor": "x",
         "domain": [
          0,
          1
         ],
         "title": {
          "text": "Credit amount"
         }
        }
       }
      },
      "text/html": [
       "<div>                            <div id=\"58216f02-7079-4a6e-951f-2e617ab12412\" class=\"plotly-graph-div\" style=\"height:525px; width:100%;\"></div>            <script type=\"text/javascript\">                require([\"plotly\"], function(Plotly) {                    window.PLOTLYENV=window.PLOTLYENV || {};                                    if (document.getElementById(\"58216f02-7079-4a6e-951f-2e617ab12412\")) {                    Plotly.newPlot(                        \"58216f02-7079-4a6e-951f-2e617ab12412\",                        [{\"alignmentgroup\": \"True\", \"hovertemplate\": \"Purpose=%{x}<br>Credit amount=%{y}<extra></extra>\", \"legendgroup\": \"radio/TV\", \"marker\": {\"color\": \"#636efa\"}, \"name\": \"radio/TV\", \"notched\": false, \"offsetgroup\": \"radio/TV\", \"orientation\": \"v\", \"quartilemethod\": \"exclusive\", \"showlegend\": true, \"type\": \"box\", \"x\": [\"radio/TV\", \"radio/TV\", \"radio/TV\", \"radio/TV\", \"radio/TV\", \"radio/TV\", \"radio/TV\", \"radio/TV\", \"radio/TV\", \"radio/TV\", \"radio/TV\", \"radio/TV\", \"radio/TV\", \"radio/TV\", \"radio/TV\", \"radio/TV\", \"radio/TV\", \"radio/TV\", \"radio/TV\", \"radio/TV\", \"radio/TV\", \"radio/TV\", \"radio/TV\", \"radio/TV\", \"radio/TV\", \"radio/TV\", \"radio/TV\", \"radio/TV\", \"radio/TV\", \"radio/TV\", \"radio/TV\", \"radio/TV\", \"radio/TV\", \"radio/TV\", \"radio/TV\", \"radio/TV\", \"radio/TV\", \"radio/TV\", \"radio/TV\", \"radio/TV\", \"radio/TV\", \"radio/TV\", \"radio/TV\", \"radio/TV\", \"radio/TV\", \"radio/TV\", \"radio/TV\", \"radio/TV\", \"radio/TV\", \"radio/TV\", \"radio/TV\", \"radio/TV\", \"radio/TV\", \"radio/TV\", \"radio/TV\", \"radio/TV\", \"radio/TV\", \"radio/TV\", \"radio/TV\", \"radio/TV\", \"radio/TV\", \"radio/TV\", \"radio/TV\", \"radio/TV\", \"radio/TV\", \"radio/TV\", \"radio/TV\", \"radio/TV\", \"radio/TV\", \"radio/TV\", \"radio/TV\", \"radio/TV\", \"radio/TV\", \"radio/TV\", \"radio/TV\", \"radio/TV\", \"radio/TV\", \"radio/TV\", \"radio/TV\", \"radio/TV\", \"radio/TV\", \"radio/TV\", \"radio/TV\", \"radio/TV\", \"radio/TV\", \"radio/TV\", \"radio/TV\", \"radio/TV\", \"radio/TV\", \"radio/TV\", \"radio/TV\", \"radio/TV\", \"radio/TV\", \"radio/TV\", \"radio/TV\", \"radio/TV\", \"radio/TV\", \"radio/TV\", \"radio/TV\", \"radio/TV\", \"radio/TV\", \"radio/TV\", \"radio/TV\", \"radio/TV\", \"radio/TV\", \"radio/TV\", \"radio/TV\", \"radio/TV\", \"radio/TV\", \"radio/TV\", \"radio/TV\", \"radio/TV\", \"radio/TV\", \"radio/TV\", \"radio/TV\", \"radio/TV\", \"radio/TV\", \"radio/TV\", \"radio/TV\", \"radio/TV\", \"radio/TV\", \"radio/TV\", \"radio/TV\", \"radio/TV\", \"radio/TV\", \"radio/TV\", \"radio/TV\", \"radio/TV\", \"radio/TV\", \"radio/TV\", \"radio/TV\", \"radio/TV\", \"radio/TV\", \"radio/TV\", \"radio/TV\", \"radio/TV\", \"radio/TV\", \"radio/TV\", \"radio/TV\", \"radio/TV\", \"radio/TV\", \"radio/TV\", \"radio/TV\", \"radio/TV\", \"radio/TV\", \"radio/TV\", \"radio/TV\", \"radio/TV\", \"radio/TV\", \"radio/TV\", \"radio/TV\", \"radio/TV\", \"radio/TV\", \"radio/TV\", \"radio/TV\", \"radio/TV\", \"radio/TV\", \"radio/TV\", \"radio/TV\", \"radio/TV\", \"radio/TV\", \"radio/TV\", \"radio/TV\", \"radio/TV\", \"radio/TV\", \"radio/TV\", \"radio/TV\", \"radio/TV\", \"radio/TV\", \"radio/TV\", \"radio/TV\", \"radio/TV\", \"radio/TV\", \"radio/TV\", \"radio/TV\", \"radio/TV\", \"radio/TV\", \"radio/TV\", \"radio/TV\", \"radio/TV\", \"radio/TV\", \"radio/TV\", \"radio/TV\", \"radio/TV\", \"radio/TV\", \"radio/TV\", \"radio/TV\", \"radio/TV\", \"radio/TV\", \"radio/TV\", \"radio/TV\", \"radio/TV\", \"radio/TV\", \"radio/TV\", \"radio/TV\", \"radio/TV\", \"radio/TV\", \"radio/TV\", \"radio/TV\", \"radio/TV\", \"radio/TV\", \"radio/TV\", \"radio/TV\", \"radio/TV\", \"radio/TV\", \"radio/TV\", \"radio/TV\", \"radio/TV\", \"radio/TV\", \"radio/TV\", \"radio/TV\", \"radio/TV\", \"radio/TV\", \"radio/TV\", \"radio/TV\", \"radio/TV\", \"radio/TV\", \"radio/TV\", \"radio/TV\", \"radio/TV\", \"radio/TV\", \"radio/TV\", \"radio/TV\", \"radio/TV\", \"radio/TV\", \"radio/TV\", \"radio/TV\", \"radio/TV\", \"radio/TV\", \"radio/TV\", \"radio/TV\", \"radio/TV\", \"radio/TV\", \"radio/TV\", \"radio/TV\", \"radio/TV\", \"radio/TV\", \"radio/TV\", \"radio/TV\", \"radio/TV\", \"radio/TV\", \"radio/TV\", \"radio/TV\", \"radio/TV\", \"radio/TV\", \"radio/TV\", \"radio/TV\", \"radio/TV\", \"radio/TV\", \"radio/TV\", \"radio/TV\", \"radio/TV\", \"radio/TV\", \"radio/TV\", \"radio/TV\", \"radio/TV\", \"radio/TV\", \"radio/TV\", \"radio/TV\", \"radio/TV\", \"radio/TV\", \"radio/TV\", \"radio/TV\", \"radio/TV\", \"radio/TV\", \"radio/TV\", \"radio/TV\", \"radio/TV\", \"radio/TV\", \"radio/TV\", \"radio/TV\", \"radio/TV\", \"radio/TV\", \"radio/TV\", \"radio/TV\", \"radio/TV\", \"radio/TV\", \"radio/TV\", \"radio/TV\", \"radio/TV\"], \"x0\": \" \", \"xaxis\": \"x\", \"y\": [1169, 5951, 3059, 1567, 1282, 2424, 3430, 2647, 426, 409, 2415, 4746, 2100, 458, 2333, 1158, 2299, 2073, 1262, 6468, 9566, 1537, 3181, 2171, 2394, 730, 3965, 4771, 5943, 1213, 2315, 618, 797, 2337, 2323, 932, 1680, 3578, 7174, 1835, 701, 10144, 1240, 766, 2728, 1881, 4795, 3416, 1582, 1346, 1924, 5848, 1898, 2872, 1414, 338, 1963, 1360, 674, 2108, 3031, 1382, 3074, 3835, 3342, 3913, 625, 707, 10961, 1478, 4210, 2141, 866, 1544, 1823, 1291, 2522, 1595, 717, 433, 7418, 2684, 2149, 1154, 1603, 802, 1533, 999, 3060, 2697, 2404, 1901, 1445, 1092, 1024, 3804, 727, 1938, 4473, 1068, 2101, 3213, 1459, 882, 3758, 6199, 2331, 4463, 776, 3399, 6070, 2320, 846, 2238, 1126, 1957, 1516, 1473, 2039, 1053, 3235, 1967, 2743, 1149, 1484, 2576, 518, 4594, 1659, 7238, 3092, 1245, 5152, 3573, 3077, 1934, 1237, 368, 1301, 1126, 1216, 1413, 585, 700, 3190, 1113, 1503, 2302, 1311, 3105, 1534, 1552, 626, 1750, 6999, 1331, 1546, 683, 1553, 2578, 3979, 6758, 5954, 1082, 2930, 385, 2329, 2671, 2051, 3357, 9157, 2600, 1979, 3660, 1444, 1376, 15653, 1493, 4370, 1851, 1880, 10222, 1297, 3017, 4530, 5595, 2384, 1453, 2279, 1478, 5103, 1347, 2753, 2896, 2284, 1103, 1800, 1377, 1206, 2118, 629, 1138, 3077, 1505, 3148, 1337, 790, 1316, 1882, 6403, 1987, 760, 1048, 3160, 5771, 1271, 2214, 1155, 1655, 2223, 3509, 4933, 2675, 1795, 976, 590, 930, 484, 1554, 1345, 3016, 5084, 2327, 886, 2611, 1364, 709, 1471, 2439, 2389, 1940, 3595, 6742, 1098, 1829, 1169, 2606, 1386, 1278, 1107, 4454, 2991, 12749, 1366, 1867, 1670, 522, 1498, 1919, 745, 2063, 3621, 1231, 3656, 1154, 1740, 2397, 1715, 2520, 3568, 7166, 2831, 1258, 753, 1409, 1743, 1569, 1936, 804, 1845], \"y0\": \" \", \"yaxis\": \"y\"}, {\"alignmentgroup\": \"True\", \"hovertemplate\": \"Purpose=%{x}<br>Credit amount=%{y}<extra></extra>\", \"legendgroup\": \"education\", \"marker\": {\"color\": \"#EF553B\"}, \"name\": \"education\", \"notched\": false, \"offsetgroup\": \"education\", \"orientation\": \"v\", \"quartilemethod\": \"exclusive\", \"showlegend\": true, \"type\": \"box\", \"x\": [\"education\", \"education\", \"education\", \"education\", \"education\", \"education\", \"education\", \"education\", \"education\", \"education\", \"education\", \"education\", \"education\", \"education\", \"education\", \"education\", \"education\", \"education\", \"education\", \"education\", \"education\", \"education\", \"education\", \"education\", \"education\", \"education\", \"education\", \"education\", \"education\", \"education\", \"education\", \"education\", \"education\", \"education\", \"education\", \"education\", \"education\", \"education\", \"education\", \"education\", \"education\", \"education\", \"education\", \"education\", \"education\", \"education\", \"education\", \"education\", \"education\", \"education\", \"education\", \"education\", \"education\", \"education\", \"education\", \"education\", \"education\", \"education\", \"education\"], \"x0\": \" \", \"xaxis\": \"x\", \"y\": [2096, 9055, 6110, 1819, 1977, 12612, 2012, 392, 6887, 339, 3414, 1501, 936, 902, 932, 1200, 3447, 2748, 701, 1864, 5743, 1136, 727, 1239, 11760, 8471, 719, 1244, 754, 448, 1238, 1532, 2273, 2319, 1199, 1927, 937, 1837, 3832, 1393, 750, 4623, 684, 7476, 1047, 1538, 1905, 1198, 433, 8065, 1410, 6224, 5998, 1597, 894, 795, 3711, 6288, 3565], \"y0\": \" \", \"yaxis\": \"y\"}, {\"alignmentgroup\": \"True\", \"hovertemplate\": \"Purpose=%{x}<br>Credit amount=%{y}<extra></extra>\", \"legendgroup\": \"furniture/equipment\", \"marker\": {\"color\": \"#00cc96\"}, \"name\": \"furniture/equipment\", \"notched\": false, \"offsetgroup\": \"furniture/equipment\", \"orientation\": \"v\", \"quartilemethod\": \"exclusive\", \"showlegend\": true, \"type\": \"box\", \"x\": [\"furniture/equipment\", \"furniture/equipment\", \"furniture/equipment\", \"furniture/equipment\", \"furniture/equipment\", \"furniture/equipment\", \"furniture/equipment\", \"furniture/equipment\", \"furniture/equipment\", \"furniture/equipment\", \"furniture/equipment\", \"furniture/equipment\", \"furniture/equipment\", \"furniture/equipment\", \"furniture/equipment\", \"furniture/equipment\", \"furniture/equipment\", \"furniture/equipment\", \"furniture/equipment\", \"furniture/equipment\", \"furniture/equipment\", \"furniture/equipment\", \"furniture/equipment\", \"furniture/equipment\", \"furniture/equipment\", \"furniture/equipment\", \"furniture/equipment\", \"furniture/equipment\", \"furniture/equipment\", \"furniture/equipment\", \"furniture/equipment\", \"furniture/equipment\", \"furniture/equipment\", \"furniture/equipment\", \"furniture/equipment\", \"furniture/equipment\", \"furniture/equipment\", \"furniture/equipment\", \"furniture/equipment\", \"furniture/equipment\", \"furniture/equipment\", \"furniture/equipment\", \"furniture/equipment\", \"furniture/equipment\", \"furniture/equipment\", \"furniture/equipment\", \"furniture/equipment\", \"furniture/equipment\", \"furniture/equipment\", \"furniture/equipment\", \"furniture/equipment\", \"furniture/equipment\", \"furniture/equipment\", \"furniture/equipment\", \"furniture/equipment\", \"furniture/equipment\", \"furniture/equipment\", \"furniture/equipment\", \"furniture/equipment\", \"furniture/equipment\", \"furniture/equipment\", \"furniture/equipment\", \"furniture/equipment\", \"furniture/equipment\", \"furniture/equipment\", \"furniture/equipment\", \"furniture/equipment\", \"furniture/equipment\", \"furniture/equipment\", \"furniture/equipment\", \"furniture/equipment\", \"furniture/equipment\", \"furniture/equipment\", \"furniture/equipment\", \"furniture/equipment\", \"furniture/equipment\", \"furniture/equipment\", \"furniture/equipment\", \"furniture/equipment\", \"furniture/equipment\", \"furniture/equipment\", \"furniture/equipment\", \"furniture/equipment\", \"furniture/equipment\", \"furniture/equipment\", \"furniture/equipment\", \"furniture/equipment\", \"furniture/equipment\", \"furniture/equipment\", \"furniture/equipment\", \"furniture/equipment\", \"furniture/equipment\", \"furniture/equipment\", \"furniture/equipment\", \"furniture/equipment\", \"furniture/equipment\", \"furniture/equipment\", \"furniture/equipment\", \"furniture/equipment\", \"furniture/equipment\", \"furniture/equipment\", \"furniture/equipment\", \"furniture/equipment\", \"furniture/equipment\", \"furniture/equipment\", \"furniture/equipment\", \"furniture/equipment\", \"furniture/equipment\", \"furniture/equipment\", \"furniture/equipment\", \"furniture/equipment\", \"furniture/equipment\", \"furniture/equipment\", \"furniture/equipment\", \"furniture/equipment\", \"furniture/equipment\", \"furniture/equipment\", \"furniture/equipment\", \"furniture/equipment\", \"furniture/equipment\", \"furniture/equipment\", \"furniture/equipment\", \"furniture/equipment\", \"furniture/equipment\", \"furniture/equipment\", \"furniture/equipment\", \"furniture/equipment\", \"furniture/equipment\", \"furniture/equipment\", \"furniture/equipment\", \"furniture/equipment\", \"furniture/equipment\", \"furniture/equipment\", \"furniture/equipment\", \"furniture/equipment\", \"furniture/equipment\", \"furniture/equipment\", \"furniture/equipment\", \"furniture/equipment\", \"furniture/equipment\", \"furniture/equipment\", \"furniture/equipment\", \"furniture/equipment\", \"furniture/equipment\", \"furniture/equipment\", \"furniture/equipment\", \"furniture/equipment\", \"furniture/equipment\", \"furniture/equipment\", \"furniture/equipment\", \"furniture/equipment\", \"furniture/equipment\", \"furniture/equipment\", \"furniture/equipment\", \"furniture/equipment\", \"furniture/equipment\", \"furniture/equipment\", \"furniture/equipment\", \"furniture/equipment\", \"furniture/equipment\", \"furniture/equipment\", \"furniture/equipment\", \"furniture/equipment\", \"furniture/equipment\", \"furniture/equipment\", \"furniture/equipment\", \"furniture/equipment\", \"furniture/equipment\", \"furniture/equipment\", \"furniture/equipment\", \"furniture/equipment\", \"furniture/equipment\", \"furniture/equipment\", \"furniture/equipment\", \"furniture/equipment\", \"furniture/equipment\", \"furniture/equipment\", \"furniture/equipment\", \"furniture/equipment\", \"furniture/equipment\", \"furniture/equipment\"], \"x0\": \" \", \"xaxis\": \"x\", \"y\": [7882, 2835, 2069, 1374, 4020, 1474, 2333, 6229, 3832, 1295, 3617, 1919, 7721, 2132, 4281, 1768, 1924, 2708, 1984, 2462, 2288, 5371, 1282, 2978, 1131, 1577, 3972, 763, 2064, 2577, 3777, 3244, 951, 4297, 1935, 3021, 7865, 3149, 1925, 2251, 4151, 2030, 1657, 1402, 1262, 4611, 1574, 1520, 9960, 2515, 2745, 1543, 1237, 5511, 3749, 2746, 708, 4351, 3643, 2659, 5801, 4110, 3384, 4169, 1521, 3599, 959, 2406, 1766, 2473, 3650, 3446, 3001, 2146, 2212, 7374, 983, 2406, 2578, 2348, 1591, 2762, 1313, 1872, 2136, 1620, 5096, 1424, 2759, 3620, 3017, 3114, 1478, 3622, 960, 2996, 9034, 1585, 7127, 7119, 3612, 3049, 6350, 2864, 3552, 1928, 3234, 2788, 1388, 2039, 1289, 2246, 918, 3349, 1275, 2828, 1808, 3441, 1858, 2116, 4042, 1553, 1980, 4583, 1922, 6361, 2241, 1050, 3496, 5150, 975, 1123, 2969, 2483, 14179, 428, 2124, 3108, 3617, 1221, 2892, 3062, 2301, 1258, 4272, 2712, 3780, 601, 5179, 3422, 3976, 3343, 4526, 2210, 2221, 3331, 652, 7678, 3590, 4057, 1592, 2186, 4153, 4736, 2359, 3345, 1817, 6872, 1049, 1747, 929, 1845, 3349, 1533, 10974, 3069, 8386, 2028, 1433, 3959, 1736], \"y0\": \" \", \"yaxis\": \"y\"}, {\"alignmentgroup\": \"True\", \"hovertemplate\": \"Purpose=%{x}<br>Credit amount=%{y}<extra></extra>\", \"legendgroup\": \"car\", \"marker\": {\"color\": \"#ab63fa\"}, \"name\": \"car\", \"notched\": false, \"offsetgroup\": \"car\", \"orientation\": \"v\", \"quartilemethod\": \"exclusive\", \"showlegend\": true, \"type\": \"box\", \"x\": [\"car\", \"car\", \"car\", \"car\", \"car\", \"car\", \"car\", \"car\", \"car\", \"car\", \"car\", \"car\", \"car\", \"car\", \"car\", \"car\", \"car\", \"car\", \"car\", \"car\", \"car\", \"car\", \"car\", \"car\", \"car\", \"car\", \"car\", \"car\", \"car\", \"car\", \"car\", \"car\", \"car\", \"car\", \"car\", \"car\", \"car\", \"car\", \"car\", \"car\", \"car\", \"car\", \"car\", \"car\", \"car\", \"car\", \"car\", \"car\", \"car\", \"car\", \"car\", \"car\", \"car\", \"car\", \"car\", \"car\", \"car\", \"car\", \"car\", \"car\", \"car\", \"car\", \"car\", \"car\", \"car\", \"car\", \"car\", \"car\", \"car\", \"car\", \"car\", \"car\", \"car\", \"car\", \"car\", \"car\", \"car\", \"car\", \"car\", \"car\", \"car\", \"car\", \"car\", \"car\", \"car\", \"car\", \"car\", \"car\", \"car\", \"car\", \"car\", \"car\", \"car\", \"car\", \"car\", \"car\", \"car\", \"car\", \"car\", \"car\", \"car\", \"car\", \"car\", \"car\", \"car\", \"car\", \"car\", \"car\", \"car\", \"car\", \"car\", \"car\", \"car\", \"car\", \"car\", \"car\", \"car\", \"car\", \"car\", \"car\", \"car\", \"car\", \"car\", \"car\", \"car\", \"car\", \"car\", \"car\", \"car\", \"car\", \"car\", \"car\", \"car\", \"car\", \"car\", \"car\", \"car\", \"car\", \"car\", \"car\", \"car\", \"car\", \"car\", \"car\", \"car\", \"car\", \"car\", \"car\", \"car\", \"car\", \"car\", \"car\", \"car\", \"car\", \"car\", \"car\", \"car\", \"car\", \"car\", \"car\", \"car\", \"car\", \"car\", \"car\", \"car\", \"car\", \"car\", \"car\", \"car\", \"car\", \"car\", \"car\", \"car\", \"car\", \"car\", \"car\", \"car\", \"car\", \"car\", \"car\", \"car\", \"car\", \"car\", \"car\", \"car\", \"car\", \"car\", \"car\", \"car\", \"car\", \"car\", \"car\", \"car\", \"car\", \"car\", \"car\", \"car\", \"car\", \"car\", \"car\", \"car\", \"car\", \"car\", \"car\", \"car\", \"car\", \"car\", \"car\", \"car\", \"car\", \"car\", \"car\", \"car\", \"car\", \"car\", \"car\", \"car\", \"car\", \"car\", \"car\", \"car\", \"car\", \"car\", \"car\", \"car\", \"car\", \"car\", \"car\", \"car\", \"car\", \"car\", \"car\", \"car\", \"car\", \"car\", \"car\", \"car\", \"car\", \"car\", \"car\", \"car\", \"car\", \"car\", \"car\", \"car\", \"car\", \"car\", \"car\", \"car\", \"car\", \"car\", \"car\", \"car\", \"car\", \"car\", \"car\", \"car\", \"car\", \"car\", \"car\", \"car\", \"car\", \"car\", \"car\", \"car\", \"car\", \"car\", \"car\", \"car\", \"car\", \"car\", \"car\", \"car\", \"car\", \"car\", \"car\", \"car\", \"car\", \"car\", \"car\", \"car\", \"car\", \"car\", \"car\", \"car\", \"car\", \"car\", \"car\", \"car\", \"car\", \"car\", \"car\", \"car\", \"car\", \"car\", \"car\", \"car\", \"car\", \"car\", \"car\", \"car\", \"car\", \"car\", \"car\", \"car\", \"car\", \"car\", \"car\", \"car\", \"car\", \"car\", \"car\", \"car\", \"car\", \"car\", \"car\", \"car\", \"car\", \"car\", \"car\", \"car\", \"car\", \"car\", \"car\", \"car\", \"car\", \"car\", \"car\", \"car\", \"car\", \"car\", \"car\", \"car\", \"car\", \"car\", \"car\", \"car\"], \"x0\": \" \", \"xaxis\": \"x\", \"y\": [4870, 6948, 5234, 1295, 1199, 1403, 12579, 2134, 2241, 1804, 5866, 6187, 6143, 1393, 1352, 7228, 5965, 3378, 2225, 783, 1961, 1007, 8133, 1526, 9436, 2249, 1409, 1318, 7057, 1469, 2445, 6458, 6078, 6260, 7855, 2366, 3868, 781, 2121, 1860, 3499, 8487, 8613, 709, 860, 682, 7758, 3512, 1055, 7308, 909, 950, 7485, 571, 1647, 884, 5129, 1175, 2760, 1168, 1495, 10623, 1413, 1364, 4657, 2507, 14555, 915, 4605, 1204, 666, 2150, 3812, 5302, 1231, 8978, 2662, 12169, 3368, 3878, 10722, 4788, 9398, 6419, 4796, 4675, 1287, 672, 1344, 1038, 10127, 4811, 276, 685, 1494, 4249, 2910, 1028, 3398, 1525, 6615, 7408, 11590, 3949, 3229, 1246, 2247, 3850, 3079, 13756, 14318, 362, 12976, 1283, 1330, 1820, 3249, 1223, 802, 2899, 2197, 939, 7253, 1597, 1381, 5842, 2579, 2782, 1042, 3186, 2028, 958, 2779, 1287, 1884, 1842, 11054, 2670, 4817, 2679, 3905, 3386, 1721, 2924, 4679, 654, 2569, 1201, 1163, 1209, 3757, 1418, 3518, 2122, 1323, 3123, 5493, 1207, 1309, 2360, 6850, 8588, 759, 4686, 2255, 609, 1361, 1203, 3488, 7966, 662, 2631, 1503, 1374, 7763, 2032, 1255, 1333, 2022, 8858, 1995, 2278, 5003, 2964, 12389, 1372, 5433, 2820, 1056, 3124, 2133, 2799, 1965, 2718, 931, 1442, 2775, 1300, 1240, 3632, 3676, 640, 1530, 1437, 1355, 1386, 947, 2303, 8086, 2346, 3973, 888, 900, 4843, 10366, 2080, 6527, 2862, 3651, 4716, 1236, 926, 6331, 5324, 6560, 2476, 14027, 7596, 6148, 1228, 2570, 250, 2603, 3380, 11560, 4380, 6761, 2325, 2511, 1274, 5248, 3029, 976, 1285, 1299, 1393, 691, 5045, 12680, 2463, 2901, 2812, 3275, 1480, 1371, 3535, 5711, 1940, 836, 6468, 2751, 6313, 7511, 717, 1549, 7472, 9271, 9283, 1778, 9629, 3931, 7432, 1101, 731, 1602, 3966, 8335, 1216, 1082, 2957, 2993, 6761, 1249, 2235, 4042, 1442, 10875, 1474, 3959, 3577, 5804, 1343, 1322, 1422, 7814, 9277, 2181, 6614, 7824, 2171, 5800, 8947, 2625, 3485, 10477, 3763, 3594, 3195, 2848, 14896, 2002, 697, 10297, 1344, 1224, 6842, 3527, 1546, 1455, 8358, 2859, 4113, 1893, 4006, 2353, 3556, 3939, 7393, 1193, 2538, 1264, 2923, 8229, 6579, 2390, 3857, 4576], \"y0\": \" \", \"yaxis\": \"y\"}, {\"alignmentgroup\": \"True\", \"hovertemplate\": \"Purpose=%{x}<br>Credit amount=%{y}<extra></extra>\", \"legendgroup\": \"business\", \"marker\": {\"color\": \"#FFA15A\"}, \"name\": \"business\", \"notched\": false, \"offsetgroup\": \"business\", \"orientation\": \"v\", \"quartilemethod\": \"exclusive\", \"showlegend\": true, \"type\": \"box\", \"x\": [\"business\", \"business\", \"business\", \"business\", \"business\", \"business\", \"business\", \"business\", \"business\", \"business\", \"business\", \"business\", \"business\", \"business\", \"business\", \"business\", \"business\", \"business\", \"business\", \"business\", \"business\", \"business\", \"business\", \"business\", \"business\", \"business\", \"business\", \"business\", \"business\", \"business\", \"business\", \"business\", \"business\", \"business\", \"business\", \"business\", \"business\", \"business\", \"business\", \"business\", \"business\", \"business\", \"business\", \"business\", \"business\", \"business\", \"business\", \"business\", \"business\", \"business\", \"business\", \"business\", \"business\", \"business\", \"business\", \"business\", \"business\", \"business\", \"business\", \"business\", \"business\", \"business\", \"business\", \"business\", \"business\", \"business\", \"business\", \"business\", \"business\", \"business\", \"business\", \"business\", \"business\", \"business\", \"business\", \"business\", \"business\", \"business\", \"business\", \"business\", \"business\", \"business\", \"business\", \"business\", \"business\", \"business\", \"business\", \"business\", \"business\", \"business\", \"business\", \"business\", \"business\", \"business\", \"business\", \"business\", \"business\"], \"x0\": \" \", \"xaxis\": \"x\", \"y\": [4308, 8072, 6836, 1913, 1264, 1391, 1953, 14421, 5954, 1568, 1412, 15945, 2622, 1410, 1449, 3566, 6967, 1935, 9572, 4455, 4591, 3844, 3915, 5117, 6568, 5293, 1908, 3104, 2978, 2767, 1185, 1258, 6304, 1076, 7629, 4439, 1743, 1542, 7685, 4272, 2326, 1449, 1887, 8648, 2292, 3448, 609, 1950, 2764, 1037, 8318, 2687, 4712, 806, 1572, 4241, 3863, 4526, 12204, 3652, 3914, 7980, 4221, 3609, 4139, 5742, 2580, 9857, 2503, 2528, 6416, 1275, 4280, 1797, 841, 1941, 1188, 907, 4165, 6681, 2375, 11816, 1559, 2169, 7409, 1382, 2825, 15672, 2442, 2142, 3161, 3590, 2145, 7297, 2427, 4844, 6289], \"y0\": \" \", \"yaxis\": \"y\"}, {\"alignmentgroup\": \"True\", \"hovertemplate\": \"Purpose=%{x}<br>Credit amount=%{y}<extra></extra>\", \"legendgroup\": \"domestic appliances\", \"marker\": {\"color\": \"#19d3f3\"}, \"name\": \"domestic appliances\", \"notched\": false, \"offsetgroup\": \"domestic appliances\", \"orientation\": \"v\", \"quartilemethod\": \"exclusive\", \"showlegend\": true, \"type\": \"box\", \"x\": [\"domestic appliances\", \"domestic appliances\", \"domestic appliances\", \"domestic appliances\", \"domestic appliances\", \"domestic appliances\", \"domestic appliances\", \"domestic appliances\", \"domestic appliances\", \"domestic appliances\", \"domestic appliances\", \"domestic appliances\"], \"x0\": \" \", \"xaxis\": \"x\", \"y\": [1225, 1262, 1424, 1275, 1236, 343, 1217, 741, 3990, 3051, 1338, 874], \"y0\": \" \", \"yaxis\": \"y\"}, {\"alignmentgroup\": \"True\", \"hovertemplate\": \"Purpose=%{x}<br>Credit amount=%{y}<extra></extra>\", \"legendgroup\": \"repairs\", \"marker\": {\"color\": \"#FF6692\"}, \"name\": \"repairs\", \"notched\": false, \"offsetgroup\": \"repairs\", \"orientation\": \"v\", \"quartilemethod\": \"exclusive\", \"showlegend\": true, \"type\": \"box\", \"x\": [\"repairs\", \"repairs\", \"repairs\", \"repairs\", \"repairs\", \"repairs\", \"repairs\", \"repairs\", \"repairs\", \"repairs\", \"repairs\", \"repairs\", \"repairs\", \"repairs\", \"repairs\", \"repairs\", \"repairs\", \"repairs\", \"repairs\", \"repairs\", \"repairs\", \"repairs\"], \"x0\": \" \", \"xaxis\": \"x\", \"y\": [6204, 5190, 1108, 639, 1288, 2613, 11998, 1190, 2058, 660, 3394, 1512, 5507, 996, 2384, 1308, 2631, 1555, 3872, 1943, 454, 1514], \"y0\": \" \", \"yaxis\": \"y\"}, {\"alignmentgroup\": \"True\", \"hovertemplate\": \"Purpose=%{x}<br>Credit amount=%{y}<extra></extra>\", \"legendgroup\": \"vacation/others\", \"marker\": {\"color\": \"#B6E880\"}, \"name\": \"vacation/others\", \"notched\": false, \"offsetgroup\": \"vacation/others\", \"orientation\": \"v\", \"quartilemethod\": \"exclusive\", \"showlegend\": true, \"type\": \"box\", \"x\": [\"vacation/others\", \"vacation/others\", \"vacation/others\", \"vacation/others\", \"vacation/others\", \"vacation/others\", \"vacation/others\", \"vacation/others\", \"vacation/others\", \"vacation/others\", \"vacation/others\", \"vacation/others\"], \"x0\": \" \", \"xaxis\": \"x\", \"y\": [1164, 1755, 11938, 7582, 5381, 14782, 11328, 2629, 1358, 6314, 15857, 18424], \"y0\": \" \", \"yaxis\": \"y\"}],                        {\"boxmode\": \"overlay\", \"legend\": {\"title\": {\"text\": \"Purpose\"}, \"tracegroupgap\": 0}, \"margin\": {\"t\": 60}, \"template\": {\"data\": {\"bar\": [{\"error_x\": {\"color\": \"#2a3f5f\"}, \"error_y\": {\"color\": \"#2a3f5f\"}, \"marker\": {\"line\": {\"color\": \"#E5ECF6\", \"width\": 0.5}}, \"type\": \"bar\"}], \"barpolar\": [{\"marker\": {\"line\": {\"color\": \"#E5ECF6\", \"width\": 0.5}}, \"type\": \"barpolar\"}], \"carpet\": [{\"aaxis\": {\"endlinecolor\": \"#2a3f5f\", \"gridcolor\": \"white\", \"linecolor\": \"white\", \"minorgridcolor\": \"white\", \"startlinecolor\": \"#2a3f5f\"}, \"baxis\": {\"endlinecolor\": \"#2a3f5f\", \"gridcolor\": \"white\", \"linecolor\": \"white\", \"minorgridcolor\": \"white\", \"startlinecolor\": \"#2a3f5f\"}, \"type\": \"carpet\"}], \"choropleth\": [{\"colorbar\": {\"outlinewidth\": 0, \"ticks\": \"\"}, \"type\": \"choropleth\"}], \"contour\": [{\"colorbar\": {\"outlinewidth\": 0, \"ticks\": \"\"}, \"colorscale\": [[0.0, \"#0d0887\"], [0.1111111111111111, \"#46039f\"], [0.2222222222222222, \"#7201a8\"], [0.3333333333333333, \"#9c179e\"], [0.4444444444444444, \"#bd3786\"], [0.5555555555555556, \"#d8576b\"], [0.6666666666666666, \"#ed7953\"], [0.7777777777777778, \"#fb9f3a\"], [0.8888888888888888, \"#fdca26\"], [1.0, \"#f0f921\"]], \"type\": \"contour\"}], \"contourcarpet\": [{\"colorbar\": {\"outlinewidth\": 0, \"ticks\": \"\"}, \"type\": \"contourcarpet\"}], \"heatmap\": [{\"colorbar\": {\"outlinewidth\": 0, \"ticks\": \"\"}, \"colorscale\": [[0.0, \"#0d0887\"], [0.1111111111111111, \"#46039f\"], [0.2222222222222222, \"#7201a8\"], [0.3333333333333333, \"#9c179e\"], [0.4444444444444444, \"#bd3786\"], [0.5555555555555556, \"#d8576b\"], [0.6666666666666666, \"#ed7953\"], [0.7777777777777778, \"#fb9f3a\"], [0.8888888888888888, \"#fdca26\"], [1.0, \"#f0f921\"]], \"type\": \"heatmap\"}], \"heatmapgl\": [{\"colorbar\": {\"outlinewidth\": 0, \"ticks\": \"\"}, \"colorscale\": [[0.0, \"#0d0887\"], [0.1111111111111111, \"#46039f\"], [0.2222222222222222, \"#7201a8\"], [0.3333333333333333, \"#9c179e\"], [0.4444444444444444, \"#bd3786\"], [0.5555555555555556, \"#d8576b\"], [0.6666666666666666, \"#ed7953\"], [0.7777777777777778, \"#fb9f3a\"], [0.8888888888888888, \"#fdca26\"], [1.0, \"#f0f921\"]], \"type\": \"heatmapgl\"}], \"histogram\": [{\"marker\": {\"colorbar\": {\"outlinewidth\": 0, \"ticks\": \"\"}}, \"type\": \"histogram\"}], \"histogram2d\": [{\"colorbar\": {\"outlinewidth\": 0, \"ticks\": \"\"}, \"colorscale\": [[0.0, \"#0d0887\"], [0.1111111111111111, \"#46039f\"], [0.2222222222222222, \"#7201a8\"], [0.3333333333333333, \"#9c179e\"], [0.4444444444444444, \"#bd3786\"], [0.5555555555555556, \"#d8576b\"], [0.6666666666666666, \"#ed7953\"], [0.7777777777777778, \"#fb9f3a\"], [0.8888888888888888, \"#fdca26\"], [1.0, \"#f0f921\"]], \"type\": \"histogram2d\"}], \"histogram2dcontour\": [{\"colorbar\": {\"outlinewidth\": 0, \"ticks\": \"\"}, \"colorscale\": [[0.0, \"#0d0887\"], [0.1111111111111111, \"#46039f\"], [0.2222222222222222, \"#7201a8\"], [0.3333333333333333, \"#9c179e\"], [0.4444444444444444, \"#bd3786\"], [0.5555555555555556, \"#d8576b\"], [0.6666666666666666, \"#ed7953\"], [0.7777777777777778, \"#fb9f3a\"], [0.8888888888888888, \"#fdca26\"], [1.0, \"#f0f921\"]], \"type\": \"histogram2dcontour\"}], \"mesh3d\": [{\"colorbar\": {\"outlinewidth\": 0, \"ticks\": \"\"}, \"type\": \"mesh3d\"}], \"parcoords\": [{\"line\": {\"colorbar\": {\"outlinewidth\": 0, \"ticks\": \"\"}}, \"type\": \"parcoords\"}], \"pie\": [{\"automargin\": true, \"type\": \"pie\"}], \"scatter\": [{\"marker\": {\"colorbar\": {\"outlinewidth\": 0, \"ticks\": \"\"}}, \"type\": \"scatter\"}], \"scatter3d\": [{\"line\": {\"colorbar\": {\"outlinewidth\": 0, \"ticks\": \"\"}}, \"marker\": {\"colorbar\": {\"outlinewidth\": 0, \"ticks\": \"\"}}, \"type\": \"scatter3d\"}], \"scattercarpet\": [{\"marker\": {\"colorbar\": {\"outlinewidth\": 0, \"ticks\": \"\"}}, \"type\": \"scattercarpet\"}], \"scattergeo\": [{\"marker\": {\"colorbar\": {\"outlinewidth\": 0, \"ticks\": \"\"}}, \"type\": \"scattergeo\"}], \"scattergl\": [{\"marker\": {\"colorbar\": {\"outlinewidth\": 0, \"ticks\": \"\"}}, \"type\": \"scattergl\"}], \"scattermapbox\": [{\"marker\": {\"colorbar\": {\"outlinewidth\": 0, \"ticks\": \"\"}}, \"type\": \"scattermapbox\"}], \"scatterpolar\": [{\"marker\": {\"colorbar\": {\"outlinewidth\": 0, \"ticks\": \"\"}}, \"type\": \"scatterpolar\"}], \"scatterpolargl\": [{\"marker\": {\"colorbar\": {\"outlinewidth\": 0, \"ticks\": \"\"}}, \"type\": \"scatterpolargl\"}], \"scatterternary\": [{\"marker\": {\"colorbar\": {\"outlinewidth\": 0, \"ticks\": \"\"}}, \"type\": \"scatterternary\"}], \"surface\": [{\"colorbar\": {\"outlinewidth\": 0, \"ticks\": \"\"}, \"colorscale\": [[0.0, \"#0d0887\"], [0.1111111111111111, \"#46039f\"], [0.2222222222222222, \"#7201a8\"], [0.3333333333333333, \"#9c179e\"], [0.4444444444444444, \"#bd3786\"], [0.5555555555555556, \"#d8576b\"], [0.6666666666666666, \"#ed7953\"], [0.7777777777777778, \"#fb9f3a\"], [0.8888888888888888, \"#fdca26\"], [1.0, \"#f0f921\"]], \"type\": \"surface\"}], \"table\": [{\"cells\": {\"fill\": {\"color\": \"#EBF0F8\"}, \"line\": {\"color\": \"white\"}}, \"header\": {\"fill\": {\"color\": \"#C8D4E3\"}, \"line\": {\"color\": \"white\"}}, \"type\": \"table\"}]}, \"layout\": {\"annotationdefaults\": {\"arrowcolor\": \"#2a3f5f\", \"arrowhead\": 0, \"arrowwidth\": 1}, \"autotypenumbers\": \"strict\", \"coloraxis\": {\"colorbar\": {\"outlinewidth\": 0, \"ticks\": \"\"}}, \"colorscale\": {\"diverging\": [[0, \"#8e0152\"], [0.1, \"#c51b7d\"], [0.2, \"#de77ae\"], [0.3, \"#f1b6da\"], [0.4, \"#fde0ef\"], [0.5, \"#f7f7f7\"], [0.6, \"#e6f5d0\"], [0.7, \"#b8e186\"], [0.8, \"#7fbc41\"], [0.9, \"#4d9221\"], [1, \"#276419\"]], \"sequential\": [[0.0, \"#0d0887\"], [0.1111111111111111, \"#46039f\"], [0.2222222222222222, \"#7201a8\"], [0.3333333333333333, \"#9c179e\"], [0.4444444444444444, \"#bd3786\"], [0.5555555555555556, \"#d8576b\"], [0.6666666666666666, \"#ed7953\"], [0.7777777777777778, \"#fb9f3a\"], [0.8888888888888888, \"#fdca26\"], [1.0, \"#f0f921\"]], \"sequentialminus\": [[0.0, \"#0d0887\"], [0.1111111111111111, \"#46039f\"], [0.2222222222222222, \"#7201a8\"], [0.3333333333333333, \"#9c179e\"], [0.4444444444444444, \"#bd3786\"], [0.5555555555555556, \"#d8576b\"], [0.6666666666666666, \"#ed7953\"], [0.7777777777777778, \"#fb9f3a\"], [0.8888888888888888, \"#fdca26\"], [1.0, \"#f0f921\"]]}, \"colorway\": [\"#636efa\", \"#EF553B\", \"#00cc96\", \"#ab63fa\", \"#FFA15A\", \"#19d3f3\", \"#FF6692\", \"#B6E880\", \"#FF97FF\", \"#FECB52\"], \"font\": {\"color\": \"#2a3f5f\"}, \"geo\": {\"bgcolor\": \"white\", \"lakecolor\": \"white\", \"landcolor\": \"#E5ECF6\", \"showlakes\": true, \"showland\": true, \"subunitcolor\": \"white\"}, \"hoverlabel\": {\"align\": \"left\"}, \"hovermode\": \"closest\", \"mapbox\": {\"style\": \"light\"}, \"paper_bgcolor\": \"white\", \"plot_bgcolor\": \"#E5ECF6\", \"polar\": {\"angularaxis\": {\"gridcolor\": \"white\", \"linecolor\": \"white\", \"ticks\": \"\"}, \"bgcolor\": \"#E5ECF6\", \"radialaxis\": {\"gridcolor\": \"white\", \"linecolor\": \"white\", \"ticks\": \"\"}}, \"scene\": {\"xaxis\": {\"backgroundcolor\": \"#E5ECF6\", \"gridcolor\": \"white\", \"gridwidth\": 2, \"linecolor\": \"white\", \"showbackground\": true, \"ticks\": \"\", \"zerolinecolor\": \"white\"}, \"yaxis\": {\"backgroundcolor\": \"#E5ECF6\", \"gridcolor\": \"white\", \"gridwidth\": 2, \"linecolor\": \"white\", \"showbackground\": true, \"ticks\": \"\", \"zerolinecolor\": \"white\"}, \"zaxis\": {\"backgroundcolor\": \"#E5ECF6\", \"gridcolor\": \"white\", \"gridwidth\": 2, \"linecolor\": \"white\", \"showbackground\": true, \"ticks\": \"\", \"zerolinecolor\": \"white\"}}, \"shapedefaults\": {\"line\": {\"color\": \"#2a3f5f\"}}, \"ternary\": {\"aaxis\": {\"gridcolor\": \"white\", \"linecolor\": \"white\", \"ticks\": \"\"}, \"baxis\": {\"gridcolor\": \"white\", \"linecolor\": \"white\", \"ticks\": \"\"}, \"bgcolor\": \"#E5ECF6\", \"caxis\": {\"gridcolor\": \"white\", \"linecolor\": \"white\", \"ticks\": \"\"}}, \"title\": {\"x\": 0.05}, \"xaxis\": {\"automargin\": true, \"gridcolor\": \"white\", \"linecolor\": \"white\", \"ticks\": \"\", \"title\": {\"standoff\": 15}, \"zerolinecolor\": \"white\", \"zerolinewidth\": 2}, \"yaxis\": {\"automargin\": true, \"gridcolor\": \"white\", \"linecolor\": \"white\", \"ticks\": \"\", \"title\": {\"standoff\": 15}, \"zerolinecolor\": \"white\", \"zerolinewidth\": 2}}}, \"title\": {\"text\": \"Purpose Vs Credit Amount Cross tabulation\", \"x\": 0.5, \"xanchor\": \"center\", \"y\": 0.95, \"yanchor\": \"top\"}, \"xaxis\": {\"anchor\": \"y\", \"categoryarray\": [\"radio/TV\", \"education\", \"furniture/equipment\", \"car\", \"business\", \"domestic appliances\", \"repairs\", \"vacation/others\"], \"categoryorder\": \"array\", \"domain\": [0.0, 1.0], \"title\": {\"text\": \"Purpose\"}}, \"yaxis\": {\"anchor\": \"x\", \"domain\": [0.0, 1.0], \"title\": {\"text\": \"Credit amount\"}}},                        {\"responsive\": true}                    ).then(function(){\n",
       "                            \n",
       "var gd = document.getElementById('58216f02-7079-4a6e-951f-2e617ab12412');\n",
       "var x = new MutationObserver(function (mutations, observer) {{\n",
       "        var display = window.getComputedStyle(gd).display;\n",
       "        if (!display || display === 'none') {{\n",
       "            console.log([gd, 'removed!']);\n",
       "            Plotly.purge(gd);\n",
       "            observer.disconnect();\n",
       "        }}\n",
       "}});\n",
       "\n",
       "// Listen for the removal of the full notebook cells\n",
       "var notebookContainer = gd.closest('#notebook-container');\n",
       "if (notebookContainer) {{\n",
       "    x.observe(notebookContainer, {childList: true});\n",
       "}}\n",
       "\n",
       "// Listen for the clearing of the current output cell\n",
       "var outputEl = gd.closest('.output');\n",
       "if (outputEl) {{\n",
       "    x.observe(outputEl, {childList: true});\n",
       "}}\n",
       "\n",
       "                        })                };                });            </script>        </div>"
      ]
     },
     "metadata": {},
     "output_type": "display_data"
    }
   ],
   "source": [
    "import plotly.express as px\n",
    "# purpose vs credit amount\n",
    "\n",
    "SC =data.loc[:,['Purpose','Credit amount']]\n",
    "fig = px.box(SC, x=\"Purpose\", y=\"Credit amount\", color=\"Purpose\")\n",
    "fig.update_traces(quartilemethod=\"exclusive\") # or \"inclusive\", or \"linear\" by default\n",
    "fig.update_layout(\n",
    "    title={\n",
    "          'text':\"Purpose Vs Credit Amount Cross tabulation\",\n",
    "        'y':.95,\n",
    "        'x':.5,\n",
    "        'xanchor': 'center',\n",
    "        'yanchor': 'top'\n",
    "    },\n",
    "    xaxis_title=\"Purpose\",\n",
    "    yaxis_title=\"Credit amount\",\n",
    "   \n",
    ")\n",
    "fig.show()"
   ]
  },
  {
   "cell_type": "code",
   "execution_count": 153,
   "metadata": {},
   "outputs": [],
   "source": [
    "data['Risk_int'] = data['Risk'].map({'bad':0, 'good':1})\n"
   ]
  },
  {
   "cell_type": "code",
   "execution_count": 154,
   "metadata": {},
   "outputs": [
    {
     "data": {
      "text/html": [
       "<div>\n",
       "<style scoped>\n",
       "    .dataframe tbody tr th:only-of-type {\n",
       "        vertical-align: middle;\n",
       "    }\n",
       "\n",
       "    .dataframe tbody tr th {\n",
       "        vertical-align: top;\n",
       "    }\n",
       "\n",
       "    .dataframe thead th {\n",
       "        text-align: right;\n",
       "    }\n",
       "</style>\n",
       "<table border=\"1\" class=\"dataframe\">\n",
       "  <thead>\n",
       "    <tr style=\"text-align: right;\">\n",
       "      <th></th>\n",
       "      <th>Age</th>\n",
       "      <th>Sex</th>\n",
       "      <th>Job</th>\n",
       "      <th>Housing</th>\n",
       "      <th>Saving accounts</th>\n",
       "      <th>Checking account</th>\n",
       "      <th>Credit amount</th>\n",
       "      <th>Duration</th>\n",
       "      <th>Purpose</th>\n",
       "      <th>Risk</th>\n",
       "      <th>Age_Group</th>\n",
       "      <th>Risk_int</th>\n",
       "    </tr>\n",
       "  </thead>\n",
       "  <tbody>\n",
       "    <tr>\n",
       "      <th>0</th>\n",
       "      <td>67</td>\n",
       "      <td>male</td>\n",
       "      <td>2</td>\n",
       "      <td>own</td>\n",
       "      <td>little</td>\n",
       "      <td>little</td>\n",
       "      <td>1169</td>\n",
       "      <td>6</td>\n",
       "      <td>radio/TV</td>\n",
       "      <td>good</td>\n",
       "      <td>Elder</td>\n",
       "      <td>1</td>\n",
       "    </tr>\n",
       "    <tr>\n",
       "      <th>2</th>\n",
       "      <td>49</td>\n",
       "      <td>male</td>\n",
       "      <td>1</td>\n",
       "      <td>own</td>\n",
       "      <td>little</td>\n",
       "      <td>little</td>\n",
       "      <td>2096</td>\n",
       "      <td>12</td>\n",
       "      <td>education</td>\n",
       "      <td>good</td>\n",
       "      <td>Senior</td>\n",
       "      <td>1</td>\n",
       "    </tr>\n",
       "    <tr>\n",
       "      <th>3</th>\n",
       "      <td>45</td>\n",
       "      <td>male</td>\n",
       "      <td>2</td>\n",
       "      <td>free</td>\n",
       "      <td>little</td>\n",
       "      <td>little</td>\n",
       "      <td>7882</td>\n",
       "      <td>42</td>\n",
       "      <td>furniture/equipment</td>\n",
       "      <td>good</td>\n",
       "      <td>Senior</td>\n",
       "      <td>1</td>\n",
       "    </tr>\n",
       "    <tr>\n",
       "      <th>5</th>\n",
       "      <td>35</td>\n",
       "      <td>male</td>\n",
       "      <td>1</td>\n",
       "      <td>free</td>\n",
       "      <td>little</td>\n",
       "      <td>little</td>\n",
       "      <td>9055</td>\n",
       "      <td>36</td>\n",
       "      <td>education</td>\n",
       "      <td>good</td>\n",
       "      <td>Young Adults</td>\n",
       "      <td>1</td>\n",
       "    </tr>\n",
       "    <tr>\n",
       "      <th>6</th>\n",
       "      <td>53</td>\n",
       "      <td>male</td>\n",
       "      <td>2</td>\n",
       "      <td>own</td>\n",
       "      <td>quite rich</td>\n",
       "      <td>little</td>\n",
       "      <td>2835</td>\n",
       "      <td>24</td>\n",
       "      <td>furniture/equipment</td>\n",
       "      <td>good</td>\n",
       "      <td>Senior</td>\n",
       "      <td>1</td>\n",
       "    </tr>\n",
       "  </tbody>\n",
       "</table>\n",
       "</div>"
      ],
      "text/plain": [
       "   Age   Sex  Job Housing Saving accounts Checking account  Credit amount  \\\n",
       "0   67  male    2     own          little           little           1169   \n",
       "2   49  male    1     own          little           little           2096   \n",
       "3   45  male    2    free          little           little           7882   \n",
       "5   35  male    1    free          little           little           9055   \n",
       "6   53  male    2     own      quite rich           little           2835   \n",
       "\n",
       "   Duration              Purpose  Risk     Age_Group  Risk_int  \n",
       "0         6             radio/TV  good         Elder         1  \n",
       "2        12            education  good        Senior         1  \n",
       "3        42  furniture/equipment  good        Senior         1  \n",
       "5        36            education  good  Young Adults         1  \n",
       "6        24  furniture/equipment  good        Senior         1  "
      ]
     },
     "execution_count": 154,
     "metadata": {},
     "output_type": "execute_result"
    }
   ],
   "source": [
    "# risk = [data]\n",
    "# for col in risk:\n",
    "#     col.loc[data['Risk'] == 'bad', 'Risk_int'] = 0 \n",
    "#     col.loc[data['Risk'] == 'good', 'Risk_int'] = 1\n",
    "# df['Risk_int'] = df['Risk_int'].astype(int)\n",
    "\n",
    "# Split the dataset between good and bad credit\n",
    "gc_df = data.loc[data['Risk'] == \"good\"]\n",
    "bc_df = data.loc[data['Risk'] == \"bad\"]\n",
    "\n",
    "gc_df.head()"
   ]
  },
  {
   "cell_type": "code",
   "execution_count": 155,
   "metadata": {
    "scrolled": true
   },
   "outputs": [
    {
     "data": {
      "application/vnd.plotly.v1+json": {
       "config": {
        "linkText": "Export to plot.ly",
        "plotlyServerURL": "https://plot.ly",
        "showLink": false
       },
       "data": [
        {
         "marker": {
          "color": "rgb(111, 235, 146)",
          "line": {
           "color": "rgb(60, 199, 100)",
           "width": 1.5
          }
         },
         "name": "Good Loans",
         "opacity": 0.6,
         "text": [
          "54.71%",
          "73.67%",
          "65.22%",
          "55.2%"
         ],
         "textposition": "auto",
         "type": "bar",
         "x": [
          "Young",
          "Young Adults",
          "Senior",
          "Elder"
         ],
         "y": [
          626955,
          882725,
          445690,
          134450
         ]
        },
        {
         "marker": {
          "color": "rgb(247, 98, 98)",
          "line": {
           "color": "rgb(225, 56, 56)",
           "width": 1.5
          }
         },
         "name": "Bad Loans",
         "opacity": 0.6,
         "text": [
          "45.29%",
          "26.33%",
          "34.78%",
          "44.8%"
         ],
         "textposition": "auto",
         "type": "bar",
         "x": [
          "Young",
          "Young Adults",
          "Senior",
          "Elder"
         ],
         "y": [
          519060,
          315569,
          237698,
          109111
         ]
        }
       ],
       "layout": {
        "template": {
         "data": {
          "bar": [
           {
            "error_x": {
             "color": "#2a3f5f"
            },
            "error_y": {
             "color": "#2a3f5f"
            },
            "marker": {
             "line": {
              "color": "#E5ECF6",
              "width": 0.5
             }
            },
            "type": "bar"
           }
          ],
          "barpolar": [
           {
            "marker": {
             "line": {
              "color": "#E5ECF6",
              "width": 0.5
             }
            },
            "type": "barpolar"
           }
          ],
          "carpet": [
           {
            "aaxis": {
             "endlinecolor": "#2a3f5f",
             "gridcolor": "white",
             "linecolor": "white",
             "minorgridcolor": "white",
             "startlinecolor": "#2a3f5f"
            },
            "baxis": {
             "endlinecolor": "#2a3f5f",
             "gridcolor": "white",
             "linecolor": "white",
             "minorgridcolor": "white",
             "startlinecolor": "#2a3f5f"
            },
            "type": "carpet"
           }
          ],
          "choropleth": [
           {
            "colorbar": {
             "outlinewidth": 0,
             "ticks": ""
            },
            "type": "choropleth"
           }
          ],
          "contour": [
           {
            "colorbar": {
             "outlinewidth": 0,
             "ticks": ""
            },
            "colorscale": [
             [
              0,
              "#0d0887"
             ],
             [
              0.1111111111111111,
              "#46039f"
             ],
             [
              0.2222222222222222,
              "#7201a8"
             ],
             [
              0.3333333333333333,
              "#9c179e"
             ],
             [
              0.4444444444444444,
              "#bd3786"
             ],
             [
              0.5555555555555556,
              "#d8576b"
             ],
             [
              0.6666666666666666,
              "#ed7953"
             ],
             [
              0.7777777777777778,
              "#fb9f3a"
             ],
             [
              0.8888888888888888,
              "#fdca26"
             ],
             [
              1,
              "#f0f921"
             ]
            ],
            "type": "contour"
           }
          ],
          "contourcarpet": [
           {
            "colorbar": {
             "outlinewidth": 0,
             "ticks": ""
            },
            "type": "contourcarpet"
           }
          ],
          "heatmap": [
           {
            "colorbar": {
             "outlinewidth": 0,
             "ticks": ""
            },
            "colorscale": [
             [
              0,
              "#0d0887"
             ],
             [
              0.1111111111111111,
              "#46039f"
             ],
             [
              0.2222222222222222,
              "#7201a8"
             ],
             [
              0.3333333333333333,
              "#9c179e"
             ],
             [
              0.4444444444444444,
              "#bd3786"
             ],
             [
              0.5555555555555556,
              "#d8576b"
             ],
             [
              0.6666666666666666,
              "#ed7953"
             ],
             [
              0.7777777777777778,
              "#fb9f3a"
             ],
             [
              0.8888888888888888,
              "#fdca26"
             ],
             [
              1,
              "#f0f921"
             ]
            ],
            "type": "heatmap"
           }
          ],
          "heatmapgl": [
           {
            "colorbar": {
             "outlinewidth": 0,
             "ticks": ""
            },
            "colorscale": [
             [
              0,
              "#0d0887"
             ],
             [
              0.1111111111111111,
              "#46039f"
             ],
             [
              0.2222222222222222,
              "#7201a8"
             ],
             [
              0.3333333333333333,
              "#9c179e"
             ],
             [
              0.4444444444444444,
              "#bd3786"
             ],
             [
              0.5555555555555556,
              "#d8576b"
             ],
             [
              0.6666666666666666,
              "#ed7953"
             ],
             [
              0.7777777777777778,
              "#fb9f3a"
             ],
             [
              0.8888888888888888,
              "#fdca26"
             ],
             [
              1,
              "#f0f921"
             ]
            ],
            "type": "heatmapgl"
           }
          ],
          "histogram": [
           {
            "marker": {
             "colorbar": {
              "outlinewidth": 0,
              "ticks": ""
             }
            },
            "type": "histogram"
           }
          ],
          "histogram2d": [
           {
            "colorbar": {
             "outlinewidth": 0,
             "ticks": ""
            },
            "colorscale": [
             [
              0,
              "#0d0887"
             ],
             [
              0.1111111111111111,
              "#46039f"
             ],
             [
              0.2222222222222222,
              "#7201a8"
             ],
             [
              0.3333333333333333,
              "#9c179e"
             ],
             [
              0.4444444444444444,
              "#bd3786"
             ],
             [
              0.5555555555555556,
              "#d8576b"
             ],
             [
              0.6666666666666666,
              "#ed7953"
             ],
             [
              0.7777777777777778,
              "#fb9f3a"
             ],
             [
              0.8888888888888888,
              "#fdca26"
             ],
             [
              1,
              "#f0f921"
             ]
            ],
            "type": "histogram2d"
           }
          ],
          "histogram2dcontour": [
           {
            "colorbar": {
             "outlinewidth": 0,
             "ticks": ""
            },
            "colorscale": [
             [
              0,
              "#0d0887"
             ],
             [
              0.1111111111111111,
              "#46039f"
             ],
             [
              0.2222222222222222,
              "#7201a8"
             ],
             [
              0.3333333333333333,
              "#9c179e"
             ],
             [
              0.4444444444444444,
              "#bd3786"
             ],
             [
              0.5555555555555556,
              "#d8576b"
             ],
             [
              0.6666666666666666,
              "#ed7953"
             ],
             [
              0.7777777777777778,
              "#fb9f3a"
             ],
             [
              0.8888888888888888,
              "#fdca26"
             ],
             [
              1,
              "#f0f921"
             ]
            ],
            "type": "histogram2dcontour"
           }
          ],
          "mesh3d": [
           {
            "colorbar": {
             "outlinewidth": 0,
             "ticks": ""
            },
            "type": "mesh3d"
           }
          ],
          "parcoords": [
           {
            "line": {
             "colorbar": {
              "outlinewidth": 0,
              "ticks": ""
             }
            },
            "type": "parcoords"
           }
          ],
          "pie": [
           {
            "automargin": true,
            "type": "pie"
           }
          ],
          "scatter": [
           {
            "marker": {
             "colorbar": {
              "outlinewidth": 0,
              "ticks": ""
             }
            },
            "type": "scatter"
           }
          ],
          "scatter3d": [
           {
            "line": {
             "colorbar": {
              "outlinewidth": 0,
              "ticks": ""
             }
            },
            "marker": {
             "colorbar": {
              "outlinewidth": 0,
              "ticks": ""
             }
            },
            "type": "scatter3d"
           }
          ],
          "scattercarpet": [
           {
            "marker": {
             "colorbar": {
              "outlinewidth": 0,
              "ticks": ""
             }
            },
            "type": "scattercarpet"
           }
          ],
          "scattergeo": [
           {
            "marker": {
             "colorbar": {
              "outlinewidth": 0,
              "ticks": ""
             }
            },
            "type": "scattergeo"
           }
          ],
          "scattergl": [
           {
            "marker": {
             "colorbar": {
              "outlinewidth": 0,
              "ticks": ""
             }
            },
            "type": "scattergl"
           }
          ],
          "scattermapbox": [
           {
            "marker": {
             "colorbar": {
              "outlinewidth": 0,
              "ticks": ""
             }
            },
            "type": "scattermapbox"
           }
          ],
          "scatterpolar": [
           {
            "marker": {
             "colorbar": {
              "outlinewidth": 0,
              "ticks": ""
             }
            },
            "type": "scatterpolar"
           }
          ],
          "scatterpolargl": [
           {
            "marker": {
             "colorbar": {
              "outlinewidth": 0,
              "ticks": ""
             }
            },
            "type": "scatterpolargl"
           }
          ],
          "scatterternary": [
           {
            "marker": {
             "colorbar": {
              "outlinewidth": 0,
              "ticks": ""
             }
            },
            "type": "scatterternary"
           }
          ],
          "surface": [
           {
            "colorbar": {
             "outlinewidth": 0,
             "ticks": ""
            },
            "colorscale": [
             [
              0,
              "#0d0887"
             ],
             [
              0.1111111111111111,
              "#46039f"
             ],
             [
              0.2222222222222222,
              "#7201a8"
             ],
             [
              0.3333333333333333,
              "#9c179e"
             ],
             [
              0.4444444444444444,
              "#bd3786"
             ],
             [
              0.5555555555555556,
              "#d8576b"
             ],
             [
              0.6666666666666666,
              "#ed7953"
             ],
             [
              0.7777777777777778,
              "#fb9f3a"
             ],
             [
              0.8888888888888888,
              "#fdca26"
             ],
             [
              1,
              "#f0f921"
             ]
            ],
            "type": "surface"
           }
          ],
          "table": [
           {
            "cells": {
             "fill": {
              "color": "#EBF0F8"
             },
             "line": {
              "color": "white"
             }
            },
            "header": {
             "fill": {
              "color": "#C8D4E3"
             },
             "line": {
              "color": "white"
             }
            },
            "type": "table"
           }
          ]
         },
         "layout": {
          "annotationdefaults": {
           "arrowcolor": "#2a3f5f",
           "arrowhead": 0,
           "arrowwidth": 1
          },
          "autotypenumbers": "strict",
          "coloraxis": {
           "colorbar": {
            "outlinewidth": 0,
            "ticks": ""
           }
          },
          "colorscale": {
           "diverging": [
            [
             0,
             "#8e0152"
            ],
            [
             0.1,
             "#c51b7d"
            ],
            [
             0.2,
             "#de77ae"
            ],
            [
             0.3,
             "#f1b6da"
            ],
            [
             0.4,
             "#fde0ef"
            ],
            [
             0.5,
             "#f7f7f7"
            ],
            [
             0.6,
             "#e6f5d0"
            ],
            [
             0.7,
             "#b8e186"
            ],
            [
             0.8,
             "#7fbc41"
            ],
            [
             0.9,
             "#4d9221"
            ],
            [
             1,
             "#276419"
            ]
           ],
           "sequential": [
            [
             0,
             "#0d0887"
            ],
            [
             0.1111111111111111,
             "#46039f"
            ],
            [
             0.2222222222222222,
             "#7201a8"
            ],
            [
             0.3333333333333333,
             "#9c179e"
            ],
            [
             0.4444444444444444,
             "#bd3786"
            ],
            [
             0.5555555555555556,
             "#d8576b"
            ],
            [
             0.6666666666666666,
             "#ed7953"
            ],
            [
             0.7777777777777778,
             "#fb9f3a"
            ],
            [
             0.8888888888888888,
             "#fdca26"
            ],
            [
             1,
             "#f0f921"
            ]
           ],
           "sequentialminus": [
            [
             0,
             "#0d0887"
            ],
            [
             0.1111111111111111,
             "#46039f"
            ],
            [
             0.2222222222222222,
             "#7201a8"
            ],
            [
             0.3333333333333333,
             "#9c179e"
            ],
            [
             0.4444444444444444,
             "#bd3786"
            ],
            [
             0.5555555555555556,
             "#d8576b"
            ],
            [
             0.6666666666666666,
             "#ed7953"
            ],
            [
             0.7777777777777778,
             "#fb9f3a"
            ],
            [
             0.8888888888888888,
             "#fdca26"
            ],
            [
             1,
             "#f0f921"
            ]
           ]
          },
          "colorway": [
           "#636efa",
           "#EF553B",
           "#00cc96",
           "#ab63fa",
           "#FFA15A",
           "#19d3f3",
           "#FF6692",
           "#B6E880",
           "#FF97FF",
           "#FECB52"
          ],
          "font": {
           "color": "#2a3f5f"
          },
          "geo": {
           "bgcolor": "white",
           "lakecolor": "white",
           "landcolor": "#E5ECF6",
           "showlakes": true,
           "showland": true,
           "subunitcolor": "white"
          },
          "hoverlabel": {
           "align": "left"
          },
          "hovermode": "closest",
          "mapbox": {
           "style": "light"
          },
          "paper_bgcolor": "white",
          "plot_bgcolor": "#E5ECF6",
          "polar": {
           "angularaxis": {
            "gridcolor": "white",
            "linecolor": "white",
            "ticks": ""
           },
           "bgcolor": "#E5ECF6",
           "radialaxis": {
            "gridcolor": "white",
            "linecolor": "white",
            "ticks": ""
           }
          },
          "scene": {
           "xaxis": {
            "backgroundcolor": "#E5ECF6",
            "gridcolor": "white",
            "gridwidth": 2,
            "linecolor": "white",
            "showbackground": true,
            "ticks": "",
            "zerolinecolor": "white"
           },
           "yaxis": {
            "backgroundcolor": "#E5ECF6",
            "gridcolor": "white",
            "gridwidth": 2,
            "linecolor": "white",
            "showbackground": true,
            "ticks": "",
            "zerolinecolor": "white"
           },
           "zaxis": {
            "backgroundcolor": "#E5ECF6",
            "gridcolor": "white",
            "gridwidth": 2,
            "linecolor": "white",
            "showbackground": true,
            "ticks": "",
            "zerolinecolor": "white"
           }
          },
          "shapedefaults": {
           "line": {
            "color": "#2a3f5f"
           }
          },
          "ternary": {
           "aaxis": {
            "gridcolor": "white",
            "linecolor": "white",
            "ticks": ""
           },
           "baxis": {
            "gridcolor": "white",
            "linecolor": "white",
            "ticks": ""
           },
           "bgcolor": "#E5ECF6",
           "caxis": {
            "gridcolor": "white",
            "linecolor": "white",
            "ticks": ""
           }
          },
          "title": {
           "x": 0.05
          },
          "xaxis": {
           "automargin": true,
           "gridcolor": "white",
           "linecolor": "white",
           "ticks": "",
           "title": {
            "standoff": 15
           },
           "zerolinecolor": "white",
           "zerolinewidth": 2
          },
          "yaxis": {
           "automargin": true,
           "gridcolor": "white",
           "linecolor": "white",
           "ticks": "",
           "title": {
            "standoff": 15
           },
           "zerolinecolor": "white",
           "zerolinewidth": 2
          }
         }
        },
        "title": {
         "text": "Type of Loan by Age Group"
        },
        "xaxis": {
         "title": {
          "text": "Age Group"
         }
        },
        "yaxis": {
         "title": {
          "text": "Credit Amount"
         }
        }
       }
      },
      "text/html": [
       "<div>                            <div id=\"7dfb1621-f3f9-4f4a-b3f0-0182eb3ee098\" class=\"plotly-graph-div\" style=\"height:525px; width:100%;\"></div>            <script type=\"text/javascript\">                require([\"plotly\"], function(Plotly) {                    window.PLOTLYENV=window.PLOTLYENV || {};                                    if (document.getElementById(\"7dfb1621-f3f9-4f4a-b3f0-0182eb3ee098\")) {                    Plotly.newPlot(                        \"7dfb1621-f3f9-4f4a-b3f0-0182eb3ee098\",                        [{\"marker\": {\"color\": \"rgb(111, 235, 146)\", \"line\": {\"color\": \"rgb(60, 199, 100)\", \"width\": 1.5}}, \"name\": \"Good Loans\", \"opacity\": 0.6, \"text\": [\"54.71%\", \"73.67%\", \"65.22%\", \"55.2%\"], \"textposition\": \"auto\", \"type\": \"bar\", \"x\": [\"Young\", \"Young Adults\", \"Senior\", \"Elder\"], \"y\": [626955, 882725, 445690, 134450]}, {\"marker\": {\"color\": \"rgb(247, 98, 98)\", \"line\": {\"color\": \"rgb(225, 56, 56)\", \"width\": 1.5}}, \"name\": \"Bad Loans\", \"opacity\": 0.6, \"text\": [\"45.29%\", \"26.33%\", \"34.78%\", \"44.8%\"], \"textposition\": \"auto\", \"type\": \"bar\", \"x\": [\"Young\", \"Young Adults\", \"Senior\", \"Elder\"], \"y\": [519060, 315569, 237698, 109111]}],                        {\"template\": {\"data\": {\"bar\": [{\"error_x\": {\"color\": \"#2a3f5f\"}, \"error_y\": {\"color\": \"#2a3f5f\"}, \"marker\": {\"line\": {\"color\": \"#E5ECF6\", \"width\": 0.5}}, \"type\": \"bar\"}], \"barpolar\": [{\"marker\": {\"line\": {\"color\": \"#E5ECF6\", \"width\": 0.5}}, \"type\": \"barpolar\"}], \"carpet\": [{\"aaxis\": {\"endlinecolor\": \"#2a3f5f\", \"gridcolor\": \"white\", \"linecolor\": \"white\", \"minorgridcolor\": \"white\", \"startlinecolor\": \"#2a3f5f\"}, \"baxis\": {\"endlinecolor\": \"#2a3f5f\", \"gridcolor\": \"white\", \"linecolor\": \"white\", \"minorgridcolor\": \"white\", \"startlinecolor\": \"#2a3f5f\"}, \"type\": \"carpet\"}], \"choropleth\": [{\"colorbar\": {\"outlinewidth\": 0, \"ticks\": \"\"}, \"type\": \"choropleth\"}], \"contour\": [{\"colorbar\": {\"outlinewidth\": 0, \"ticks\": \"\"}, \"colorscale\": [[0.0, \"#0d0887\"], [0.1111111111111111, \"#46039f\"], [0.2222222222222222, \"#7201a8\"], [0.3333333333333333, \"#9c179e\"], [0.4444444444444444, \"#bd3786\"], [0.5555555555555556, \"#d8576b\"], [0.6666666666666666, \"#ed7953\"], [0.7777777777777778, \"#fb9f3a\"], [0.8888888888888888, \"#fdca26\"], [1.0, \"#f0f921\"]], \"type\": \"contour\"}], \"contourcarpet\": [{\"colorbar\": {\"outlinewidth\": 0, \"ticks\": \"\"}, \"type\": \"contourcarpet\"}], \"heatmap\": [{\"colorbar\": {\"outlinewidth\": 0, \"ticks\": \"\"}, \"colorscale\": [[0.0, \"#0d0887\"], [0.1111111111111111, \"#46039f\"], [0.2222222222222222, \"#7201a8\"], [0.3333333333333333, \"#9c179e\"], [0.4444444444444444, \"#bd3786\"], [0.5555555555555556, \"#d8576b\"], [0.6666666666666666, \"#ed7953\"], [0.7777777777777778, \"#fb9f3a\"], [0.8888888888888888, \"#fdca26\"], [1.0, \"#f0f921\"]], \"type\": \"heatmap\"}], \"heatmapgl\": [{\"colorbar\": {\"outlinewidth\": 0, \"ticks\": \"\"}, \"colorscale\": [[0.0, \"#0d0887\"], [0.1111111111111111, \"#46039f\"], [0.2222222222222222, \"#7201a8\"], [0.3333333333333333, \"#9c179e\"], [0.4444444444444444, \"#bd3786\"], [0.5555555555555556, \"#d8576b\"], [0.6666666666666666, \"#ed7953\"], [0.7777777777777778, \"#fb9f3a\"], [0.8888888888888888, \"#fdca26\"], [1.0, \"#f0f921\"]], \"type\": \"heatmapgl\"}], \"histogram\": [{\"marker\": {\"colorbar\": {\"outlinewidth\": 0, \"ticks\": \"\"}}, \"type\": \"histogram\"}], \"histogram2d\": [{\"colorbar\": {\"outlinewidth\": 0, \"ticks\": \"\"}, \"colorscale\": [[0.0, \"#0d0887\"], [0.1111111111111111, \"#46039f\"], [0.2222222222222222, \"#7201a8\"], [0.3333333333333333, \"#9c179e\"], [0.4444444444444444, \"#bd3786\"], [0.5555555555555556, \"#d8576b\"], [0.6666666666666666, \"#ed7953\"], [0.7777777777777778, \"#fb9f3a\"], [0.8888888888888888, \"#fdca26\"], [1.0, \"#f0f921\"]], \"type\": \"histogram2d\"}], \"histogram2dcontour\": [{\"colorbar\": {\"outlinewidth\": 0, \"ticks\": \"\"}, \"colorscale\": [[0.0, \"#0d0887\"], [0.1111111111111111, \"#46039f\"], [0.2222222222222222, \"#7201a8\"], [0.3333333333333333, \"#9c179e\"], [0.4444444444444444, \"#bd3786\"], [0.5555555555555556, \"#d8576b\"], [0.6666666666666666, \"#ed7953\"], [0.7777777777777778, \"#fb9f3a\"], [0.8888888888888888, \"#fdca26\"], [1.0, \"#f0f921\"]], \"type\": \"histogram2dcontour\"}], \"mesh3d\": [{\"colorbar\": {\"outlinewidth\": 0, \"ticks\": \"\"}, \"type\": \"mesh3d\"}], \"parcoords\": [{\"line\": {\"colorbar\": {\"outlinewidth\": 0, \"ticks\": \"\"}}, \"type\": \"parcoords\"}], \"pie\": [{\"automargin\": true, \"type\": \"pie\"}], \"scatter\": [{\"marker\": {\"colorbar\": {\"outlinewidth\": 0, \"ticks\": \"\"}}, \"type\": \"scatter\"}], \"scatter3d\": [{\"line\": {\"colorbar\": {\"outlinewidth\": 0, \"ticks\": \"\"}}, \"marker\": {\"colorbar\": {\"outlinewidth\": 0, \"ticks\": \"\"}}, \"type\": \"scatter3d\"}], \"scattercarpet\": [{\"marker\": {\"colorbar\": {\"outlinewidth\": 0, \"ticks\": \"\"}}, \"type\": \"scattercarpet\"}], \"scattergeo\": [{\"marker\": {\"colorbar\": {\"outlinewidth\": 0, \"ticks\": \"\"}}, \"type\": \"scattergeo\"}], \"scattergl\": [{\"marker\": {\"colorbar\": {\"outlinewidth\": 0, \"ticks\": \"\"}}, \"type\": \"scattergl\"}], \"scattermapbox\": [{\"marker\": {\"colorbar\": {\"outlinewidth\": 0, \"ticks\": \"\"}}, \"type\": \"scattermapbox\"}], \"scatterpolar\": [{\"marker\": {\"colorbar\": {\"outlinewidth\": 0, \"ticks\": \"\"}}, \"type\": \"scatterpolar\"}], \"scatterpolargl\": [{\"marker\": {\"colorbar\": {\"outlinewidth\": 0, \"ticks\": \"\"}}, \"type\": \"scatterpolargl\"}], \"scatterternary\": [{\"marker\": {\"colorbar\": {\"outlinewidth\": 0, \"ticks\": \"\"}}, \"type\": \"scatterternary\"}], \"surface\": [{\"colorbar\": {\"outlinewidth\": 0, \"ticks\": \"\"}, \"colorscale\": [[0.0, \"#0d0887\"], [0.1111111111111111, \"#46039f\"], [0.2222222222222222, \"#7201a8\"], [0.3333333333333333, \"#9c179e\"], [0.4444444444444444, \"#bd3786\"], [0.5555555555555556, \"#d8576b\"], [0.6666666666666666, \"#ed7953\"], [0.7777777777777778, \"#fb9f3a\"], [0.8888888888888888, \"#fdca26\"], [1.0, \"#f0f921\"]], \"type\": \"surface\"}], \"table\": [{\"cells\": {\"fill\": {\"color\": \"#EBF0F8\"}, \"line\": {\"color\": \"white\"}}, \"header\": {\"fill\": {\"color\": \"#C8D4E3\"}, \"line\": {\"color\": \"white\"}}, \"type\": \"table\"}]}, \"layout\": {\"annotationdefaults\": {\"arrowcolor\": \"#2a3f5f\", \"arrowhead\": 0, \"arrowwidth\": 1}, \"autotypenumbers\": \"strict\", \"coloraxis\": {\"colorbar\": {\"outlinewidth\": 0, \"ticks\": \"\"}}, \"colorscale\": {\"diverging\": [[0, \"#8e0152\"], [0.1, \"#c51b7d\"], [0.2, \"#de77ae\"], [0.3, \"#f1b6da\"], [0.4, \"#fde0ef\"], [0.5, \"#f7f7f7\"], [0.6, \"#e6f5d0\"], [0.7, \"#b8e186\"], [0.8, \"#7fbc41\"], [0.9, \"#4d9221\"], [1, \"#276419\"]], \"sequential\": [[0.0, \"#0d0887\"], [0.1111111111111111, \"#46039f\"], [0.2222222222222222, \"#7201a8\"], [0.3333333333333333, \"#9c179e\"], [0.4444444444444444, \"#bd3786\"], [0.5555555555555556, \"#d8576b\"], [0.6666666666666666, \"#ed7953\"], [0.7777777777777778, \"#fb9f3a\"], [0.8888888888888888, \"#fdca26\"], [1.0, \"#f0f921\"]], \"sequentialminus\": [[0.0, \"#0d0887\"], [0.1111111111111111, \"#46039f\"], [0.2222222222222222, \"#7201a8\"], [0.3333333333333333, \"#9c179e\"], [0.4444444444444444, \"#bd3786\"], [0.5555555555555556, \"#d8576b\"], [0.6666666666666666, \"#ed7953\"], [0.7777777777777778, \"#fb9f3a\"], [0.8888888888888888, \"#fdca26\"], [1.0, \"#f0f921\"]]}, \"colorway\": [\"#636efa\", \"#EF553B\", \"#00cc96\", \"#ab63fa\", \"#FFA15A\", \"#19d3f3\", \"#FF6692\", \"#B6E880\", \"#FF97FF\", \"#FECB52\"], \"font\": {\"color\": \"#2a3f5f\"}, \"geo\": {\"bgcolor\": \"white\", \"lakecolor\": \"white\", \"landcolor\": \"#E5ECF6\", \"showlakes\": true, \"showland\": true, \"subunitcolor\": \"white\"}, \"hoverlabel\": {\"align\": \"left\"}, \"hovermode\": \"closest\", \"mapbox\": {\"style\": \"light\"}, \"paper_bgcolor\": \"white\", \"plot_bgcolor\": \"#E5ECF6\", \"polar\": {\"angularaxis\": {\"gridcolor\": \"white\", \"linecolor\": \"white\", \"ticks\": \"\"}, \"bgcolor\": \"#E5ECF6\", \"radialaxis\": {\"gridcolor\": \"white\", \"linecolor\": \"white\", \"ticks\": \"\"}}, \"scene\": {\"xaxis\": {\"backgroundcolor\": \"#E5ECF6\", \"gridcolor\": \"white\", \"gridwidth\": 2, \"linecolor\": \"white\", \"showbackground\": true, \"ticks\": \"\", \"zerolinecolor\": \"white\"}, \"yaxis\": {\"backgroundcolor\": \"#E5ECF6\", \"gridcolor\": \"white\", \"gridwidth\": 2, \"linecolor\": \"white\", \"showbackground\": true, \"ticks\": \"\", \"zerolinecolor\": \"white\"}, \"zaxis\": {\"backgroundcolor\": \"#E5ECF6\", \"gridcolor\": \"white\", \"gridwidth\": 2, \"linecolor\": \"white\", \"showbackground\": true, \"ticks\": \"\", \"zerolinecolor\": \"white\"}}, \"shapedefaults\": {\"line\": {\"color\": \"#2a3f5f\"}}, \"ternary\": {\"aaxis\": {\"gridcolor\": \"white\", \"linecolor\": \"white\", \"ticks\": \"\"}, \"baxis\": {\"gridcolor\": \"white\", \"linecolor\": \"white\", \"ticks\": \"\"}, \"bgcolor\": \"#E5ECF6\", \"caxis\": {\"gridcolor\": \"white\", \"linecolor\": \"white\", \"ticks\": \"\"}}, \"title\": {\"x\": 0.05}, \"xaxis\": {\"automargin\": true, \"gridcolor\": \"white\", \"linecolor\": \"white\", \"ticks\": \"\", \"title\": {\"standoff\": 15}, \"zerolinecolor\": \"white\", \"zerolinewidth\": 2}, \"yaxis\": {\"automargin\": true, \"gridcolor\": \"white\", \"linecolor\": \"white\", \"ticks\": \"\", \"title\": {\"standoff\": 15}, \"zerolinecolor\": \"white\", \"zerolinewidth\": 2}}}, \"title\": {\"text\": \"Type of Loan by Age Group\"}, \"xaxis\": {\"title\": {\"text\": \"Age Group\"}}, \"yaxis\": {\"title\": {\"text\": \"Credit Amount\"}}},                        {\"responsive\": true}                    ).then(function(){\n",
       "                            \n",
       "var gd = document.getElementById('7dfb1621-f3f9-4f4a-b3f0-0182eb3ee098');\n",
       "var x = new MutationObserver(function (mutations, observer) {{\n",
       "        var display = window.getComputedStyle(gd).display;\n",
       "        if (!display || display === 'none') {{\n",
       "            console.log([gd, 'removed!']);\n",
       "            Plotly.purge(gd);\n",
       "            observer.disconnect();\n",
       "        }}\n",
       "}});\n",
       "\n",
       "// Listen for the removal of the full notebook cells\n",
       "var notebookContainer = gd.closest('#notebook-container');\n",
       "if (notebookContainer) {{\n",
       "    x.observe(notebookContainer, {childList: true});\n",
       "}}\n",
       "\n",
       "// Listen for the clearing of the current output cell\n",
       "var outputEl = gd.closest('.output');\n",
       "if (outputEl) {{\n",
       "    x.observe(outputEl, {childList: true});\n",
       "}}\n",
       "\n",
       "                        })                };                });            </script>        </div>"
      ]
     },
     "metadata": {},
     "output_type": "display_data"
    }
   ],
   "source": [
    "# Lets find loans by age group and by the level of risk and plot them in a bar chart.\n",
    "import plotly.graph_objs as go\n",
    "from plotly.offline import download_plotlyjs, init_notebook_mode, plot, iplot\n",
    "\n",
    "# Age Group Segments\n",
    "young_good = data['Credit amount'].loc[(data['Age_Group'] == 'Young') & (data['Risk'] == 'good')].sum()\n",
    "young_bad = data['Credit amount'].loc[(data['Age_Group'] == 'Young') & (data['Risk'] == 'bad')].sum()\n",
    "young_adult_good = data['Credit amount'].loc[(data['Age_Group'] == 'Young Adults') & (data['Risk'] == 'good')].sum()\n",
    "young_adult_bad = data['Credit amount'].loc[(data['Age_Group'] == 'Young Adults') & (data['Risk'] == 'bad')].sum()\n",
    "senior_good = data['Credit amount'].loc[(data['Age_Group'] == 'Senior') & (data['Risk'] == 'good')].sum()\n",
    "senior_bad = data['Credit amount'].loc[(data['Age_Group'] == 'Senior') & (data['Risk'] == 'bad')].sum()\n",
    "elder_good = data['Credit amount'].loc[(data['Age_Group'] == 'Elder') & (data['Risk'] == 'good')].sum()\n",
    "elder_bad = data['Credit amount'].loc[(data['Age_Group'] == 'Elder') & (data['Risk'] == 'bad')].sum()\n",
    "\n",
    "# Percents\n",
    "young_good_p = young_good/(young_good + young_bad) * 100\n",
    "young_bad_p = young_bad/(young_good + young_bad) * 100\n",
    "young_adult_good_p = young_adult_good/(young_adult_good + young_adult_bad) * 100\n",
    "young_adult_bad_p = young_adult_bad/(young_adult_good + young_adult_bad) * 100\n",
    "senior_good_p = senior_good/(senior_good + senior_bad) * 100\n",
    "senior_bad_p =  senior_bad/(senior_good + senior_bad) * 100\n",
    "elder_good_p = elder_good/(elder_good + elder_bad) * 100\n",
    "elder_bad_p = elder_bad/(elder_good + elder_bad) * 100\n",
    "\n",
    "# Round Percents\n",
    "young_good_p = str(round(young_good_p, 2))\n",
    "young_bad_p = str(round(young_bad_p, 2))\n",
    "young_adult_good_p = str(round(young_adult_good_p, 2))\n",
    "young_adult_bad_p = str(round(young_adult_bad_p, 2))\n",
    "senior_good_p = str(round(senior_good_p, 2))\n",
    "senior_bad_p = str(round(senior_bad_p, 2))\n",
    "elder_good_p = str(round(elder_good_p, 2))\n",
    "elder_bad_p = str(round(elder_bad_p, 2))\n",
    "\n",
    "x = [\"Young\", \"Young Adults\", \"Senior\", \"Elder\"]\n",
    "\n",
    "good_loans = go.Bar(\n",
    "    x=x,\n",
    "    y=[young_good, young_adult_good, senior_good, elder_good],\n",
    "    name=\"Good Loans\",\n",
    "    text=[young_good_p + '%', young_adult_good_p + '%', senior_good_p + '%', elder_good_p + '%'],\n",
    "    textposition = 'auto',\n",
    "    marker=dict(\n",
    "        color='rgb(111, 235, 146)',\n",
    "        line=dict(\n",
    "            color='rgb(60, 199, 100)',\n",
    "            width=1.5),\n",
    "        ),\n",
    "    opacity=0.6\n",
    ")\n",
    "\n",
    "bad_loans =  go.Bar(\n",
    "    x=x,\n",
    "    y=[young_bad, young_adult_bad, senior_bad, elder_bad],\n",
    "    name=\"Bad Loans\",\n",
    "    text=[young_bad_p + '%', young_adult_bad_p + '%', senior_bad_p + '%', elder_bad_p + '%'],\n",
    "    textposition = 'auto',\n",
    "    marker=dict(\n",
    "        color='rgb(247, 98, 98)',\n",
    "        line=dict(\n",
    "            color='rgb(225, 56, 56)',\n",
    "            width=1.5),\n",
    "        ),\n",
    "    opacity=0.6\n",
    ")\n",
    "\n",
    "data1 = [good_loans, bad_loans]\n",
    "\n",
    "layout = dict(\n",
    "    title=\"Type of Loan by Age Group\", \n",
    "    xaxis = dict(title=\"Age Group\"),\n",
    "    yaxis= dict(title=\"Credit Amount\")\n",
    ")\n",
    "\n",
    "fig = dict(data=data1, layout=layout)\n",
    "\n",
    "iplot(fig, filename='grouped-bar-direct-labels')"
   ]
  },
  {
   "cell_type": "code",
   "execution_count": 163,
   "metadata": {},
   "outputs": [
    {
     "data": {
      "application/vnd.plotly.v1+json": {
       "config": {
        "linkText": "Export to plot.ly",
        "plotlyServerURL": "https://plot.ly",
        "showLink": false
       },
       "data": [
        {
         "colorscale": [
          [
           0,
           "rgb(255,245,240)"
          ],
          [
           0.125,
           "rgb(254,224,210)"
          ],
          [
           0.25,
           "rgb(252,187,161)"
          ],
          [
           0.375,
           "rgb(252,146,114)"
          ],
          [
           0.5,
           "rgb(251,106,74)"
          ],
          [
           0.625,
           "rgb(239,59,44)"
          ],
          [
           0.75,
           "rgb(203,24,29)"
          ],
          [
           0.875,
           "rgb(165,15,21)"
          ],
          [
           1,
           "rgb(103,0,13)"
          ]
         ],
         "reversescale": false,
         "showscale": false,
         "type": "heatmap",
         "x": [
          "Age",
          "Job",
          "Credit amount",
          "Duration",
          "Risk_int"
         ],
         "y": [
          "Age",
          "Job",
          "Credit amount",
          "Duration",
          "Risk_int"
         ],
         "z": [
          [
           1,
           0.02,
           0.03,
           -0.04,
           0.09
          ],
          [
           0.02,
           1,
           0.29,
           0.21,
           -0.03
          ],
          [
           0.03,
           0.29,
           1,
           0.62,
           -0.15
          ],
          [
           -0.04,
           0.21,
           0.62,
           1,
           -0.21
          ],
          [
           0.09,
           -0.03,
           -0.15,
           -0.21,
           1
          ]
         ]
        }
       ],
       "layout": {
        "annotations": [
         {
          "font": {
           "color": "#FFFFFF"
          },
          "showarrow": false,
          "text": "1.0",
          "x": "Age",
          "xref": "x",
          "y": "Age",
          "yref": "y"
         },
         {
          "font": {
           "color": "#000000"
          },
          "showarrow": false,
          "text": "0.02",
          "x": "Job",
          "xref": "x",
          "y": "Age",
          "yref": "y"
         },
         {
          "font": {
           "color": "#000000"
          },
          "showarrow": false,
          "text": "0.03",
          "x": "Credit amount",
          "xref": "x",
          "y": "Age",
          "yref": "y"
         },
         {
          "font": {
           "color": "#000000"
          },
          "showarrow": false,
          "text": "-0.04",
          "x": "Duration",
          "xref": "x",
          "y": "Age",
          "yref": "y"
         },
         {
          "font": {
           "color": "#000000"
          },
          "showarrow": false,
          "text": "0.09",
          "x": "Risk_int",
          "xref": "x",
          "y": "Age",
          "yref": "y"
         },
         {
          "font": {
           "color": "#000000"
          },
          "showarrow": false,
          "text": "0.02",
          "x": "Age",
          "xref": "x",
          "y": "Job",
          "yref": "y"
         },
         {
          "font": {
           "color": "#FFFFFF"
          },
          "showarrow": false,
          "text": "1.0",
          "x": "Job",
          "xref": "x",
          "y": "Job",
          "yref": "y"
         },
         {
          "font": {
           "color": "#000000"
          },
          "showarrow": false,
          "text": "0.29",
          "x": "Credit amount",
          "xref": "x",
          "y": "Job",
          "yref": "y"
         },
         {
          "font": {
           "color": "#000000"
          },
          "showarrow": false,
          "text": "0.21",
          "x": "Duration",
          "xref": "x",
          "y": "Job",
          "yref": "y"
         },
         {
          "font": {
           "color": "#000000"
          },
          "showarrow": false,
          "text": "-0.03",
          "x": "Risk_int",
          "xref": "x",
          "y": "Job",
          "yref": "y"
         },
         {
          "font": {
           "color": "#000000"
          },
          "showarrow": false,
          "text": "0.03",
          "x": "Age",
          "xref": "x",
          "y": "Credit amount",
          "yref": "y"
         },
         {
          "font": {
           "color": "#000000"
          },
          "showarrow": false,
          "text": "0.29",
          "x": "Job",
          "xref": "x",
          "y": "Credit amount",
          "yref": "y"
         },
         {
          "font": {
           "color": "#FFFFFF"
          },
          "showarrow": false,
          "text": "1.0",
          "x": "Credit amount",
          "xref": "x",
          "y": "Credit amount",
          "yref": "y"
         },
         {
          "font": {
           "color": "#FFFFFF"
          },
          "showarrow": false,
          "text": "0.62",
          "x": "Duration",
          "xref": "x",
          "y": "Credit amount",
          "yref": "y"
         },
         {
          "font": {
           "color": "#000000"
          },
          "showarrow": false,
          "text": "-0.15",
          "x": "Risk_int",
          "xref": "x",
          "y": "Credit amount",
          "yref": "y"
         },
         {
          "font": {
           "color": "#000000"
          },
          "showarrow": false,
          "text": "-0.04",
          "x": "Age",
          "xref": "x",
          "y": "Duration",
          "yref": "y"
         },
         {
          "font": {
           "color": "#000000"
          },
          "showarrow": false,
          "text": "0.21",
          "x": "Job",
          "xref": "x",
          "y": "Duration",
          "yref": "y"
         },
         {
          "font": {
           "color": "#FFFFFF"
          },
          "showarrow": false,
          "text": "0.62",
          "x": "Credit amount",
          "xref": "x",
          "y": "Duration",
          "yref": "y"
         },
         {
          "font": {
           "color": "#FFFFFF"
          },
          "showarrow": false,
          "text": "1.0",
          "x": "Duration",
          "xref": "x",
          "y": "Duration",
          "yref": "y"
         },
         {
          "font": {
           "color": "#000000"
          },
          "showarrow": false,
          "text": "-0.21",
          "x": "Risk_int",
          "xref": "x",
          "y": "Duration",
          "yref": "y"
         },
         {
          "font": {
           "color": "#000000"
          },
          "showarrow": false,
          "text": "0.09",
          "x": "Age",
          "xref": "x",
          "y": "Risk_int",
          "yref": "y"
         },
         {
          "font": {
           "color": "#000000"
          },
          "showarrow": false,
          "text": "-0.03",
          "x": "Job",
          "xref": "x",
          "y": "Risk_int",
          "yref": "y"
         },
         {
          "font": {
           "color": "#000000"
          },
          "showarrow": false,
          "text": "-0.15",
          "x": "Credit amount",
          "xref": "x",
          "y": "Risk_int",
          "yref": "y"
         },
         {
          "font": {
           "color": "#000000"
          },
          "showarrow": false,
          "text": "-0.21",
          "x": "Duration",
          "xref": "x",
          "y": "Risk_int",
          "yref": "y"
         },
         {
          "font": {
           "color": "#FFFFFF"
          },
          "showarrow": false,
          "text": "1.0",
          "x": "Risk_int",
          "xref": "x",
          "y": "Risk_int",
          "yref": "y"
         }
        ],
        "template": {
         "data": {
          "bar": [
           {
            "error_x": {
             "color": "#2a3f5f"
            },
            "error_y": {
             "color": "#2a3f5f"
            },
            "marker": {
             "line": {
              "color": "#E5ECF6",
              "width": 0.5
             }
            },
            "type": "bar"
           }
          ],
          "barpolar": [
           {
            "marker": {
             "line": {
              "color": "#E5ECF6",
              "width": 0.5
             }
            },
            "type": "barpolar"
           }
          ],
          "carpet": [
           {
            "aaxis": {
             "endlinecolor": "#2a3f5f",
             "gridcolor": "white",
             "linecolor": "white",
             "minorgridcolor": "white",
             "startlinecolor": "#2a3f5f"
            },
            "baxis": {
             "endlinecolor": "#2a3f5f",
             "gridcolor": "white",
             "linecolor": "white",
             "minorgridcolor": "white",
             "startlinecolor": "#2a3f5f"
            },
            "type": "carpet"
           }
          ],
          "choropleth": [
           {
            "colorbar": {
             "outlinewidth": 0,
             "ticks": ""
            },
            "type": "choropleth"
           }
          ],
          "contour": [
           {
            "colorbar": {
             "outlinewidth": 0,
             "ticks": ""
            },
            "colorscale": [
             [
              0,
              "#0d0887"
             ],
             [
              0.1111111111111111,
              "#46039f"
             ],
             [
              0.2222222222222222,
              "#7201a8"
             ],
             [
              0.3333333333333333,
              "#9c179e"
             ],
             [
              0.4444444444444444,
              "#bd3786"
             ],
             [
              0.5555555555555556,
              "#d8576b"
             ],
             [
              0.6666666666666666,
              "#ed7953"
             ],
             [
              0.7777777777777778,
              "#fb9f3a"
             ],
             [
              0.8888888888888888,
              "#fdca26"
             ],
             [
              1,
              "#f0f921"
             ]
            ],
            "type": "contour"
           }
          ],
          "contourcarpet": [
           {
            "colorbar": {
             "outlinewidth": 0,
             "ticks": ""
            },
            "type": "contourcarpet"
           }
          ],
          "heatmap": [
           {
            "colorbar": {
             "outlinewidth": 0,
             "ticks": ""
            },
            "colorscale": [
             [
              0,
              "#0d0887"
             ],
             [
              0.1111111111111111,
              "#46039f"
             ],
             [
              0.2222222222222222,
              "#7201a8"
             ],
             [
              0.3333333333333333,
              "#9c179e"
             ],
             [
              0.4444444444444444,
              "#bd3786"
             ],
             [
              0.5555555555555556,
              "#d8576b"
             ],
             [
              0.6666666666666666,
              "#ed7953"
             ],
             [
              0.7777777777777778,
              "#fb9f3a"
             ],
             [
              0.8888888888888888,
              "#fdca26"
             ],
             [
              1,
              "#f0f921"
             ]
            ],
            "type": "heatmap"
           }
          ],
          "heatmapgl": [
           {
            "colorbar": {
             "outlinewidth": 0,
             "ticks": ""
            },
            "colorscale": [
             [
              0,
              "#0d0887"
             ],
             [
              0.1111111111111111,
              "#46039f"
             ],
             [
              0.2222222222222222,
              "#7201a8"
             ],
             [
              0.3333333333333333,
              "#9c179e"
             ],
             [
              0.4444444444444444,
              "#bd3786"
             ],
             [
              0.5555555555555556,
              "#d8576b"
             ],
             [
              0.6666666666666666,
              "#ed7953"
             ],
             [
              0.7777777777777778,
              "#fb9f3a"
             ],
             [
              0.8888888888888888,
              "#fdca26"
             ],
             [
              1,
              "#f0f921"
             ]
            ],
            "type": "heatmapgl"
           }
          ],
          "histogram": [
           {
            "marker": {
             "colorbar": {
              "outlinewidth": 0,
              "ticks": ""
             }
            },
            "type": "histogram"
           }
          ],
          "histogram2d": [
           {
            "colorbar": {
             "outlinewidth": 0,
             "ticks": ""
            },
            "colorscale": [
             [
              0,
              "#0d0887"
             ],
             [
              0.1111111111111111,
              "#46039f"
             ],
             [
              0.2222222222222222,
              "#7201a8"
             ],
             [
              0.3333333333333333,
              "#9c179e"
             ],
             [
              0.4444444444444444,
              "#bd3786"
             ],
             [
              0.5555555555555556,
              "#d8576b"
             ],
             [
              0.6666666666666666,
              "#ed7953"
             ],
             [
              0.7777777777777778,
              "#fb9f3a"
             ],
             [
              0.8888888888888888,
              "#fdca26"
             ],
             [
              1,
              "#f0f921"
             ]
            ],
            "type": "histogram2d"
           }
          ],
          "histogram2dcontour": [
           {
            "colorbar": {
             "outlinewidth": 0,
             "ticks": ""
            },
            "colorscale": [
             [
              0,
              "#0d0887"
             ],
             [
              0.1111111111111111,
              "#46039f"
             ],
             [
              0.2222222222222222,
              "#7201a8"
             ],
             [
              0.3333333333333333,
              "#9c179e"
             ],
             [
              0.4444444444444444,
              "#bd3786"
             ],
             [
              0.5555555555555556,
              "#d8576b"
             ],
             [
              0.6666666666666666,
              "#ed7953"
             ],
             [
              0.7777777777777778,
              "#fb9f3a"
             ],
             [
              0.8888888888888888,
              "#fdca26"
             ],
             [
              1,
              "#f0f921"
             ]
            ],
            "type": "histogram2dcontour"
           }
          ],
          "mesh3d": [
           {
            "colorbar": {
             "outlinewidth": 0,
             "ticks": ""
            },
            "type": "mesh3d"
           }
          ],
          "parcoords": [
           {
            "line": {
             "colorbar": {
              "outlinewidth": 0,
              "ticks": ""
             }
            },
            "type": "parcoords"
           }
          ],
          "pie": [
           {
            "automargin": true,
            "type": "pie"
           }
          ],
          "scatter": [
           {
            "marker": {
             "colorbar": {
              "outlinewidth": 0,
              "ticks": ""
             }
            },
            "type": "scatter"
           }
          ],
          "scatter3d": [
           {
            "line": {
             "colorbar": {
              "outlinewidth": 0,
              "ticks": ""
             }
            },
            "marker": {
             "colorbar": {
              "outlinewidth": 0,
              "ticks": ""
             }
            },
            "type": "scatter3d"
           }
          ],
          "scattercarpet": [
           {
            "marker": {
             "colorbar": {
              "outlinewidth": 0,
              "ticks": ""
             }
            },
            "type": "scattercarpet"
           }
          ],
          "scattergeo": [
           {
            "marker": {
             "colorbar": {
              "outlinewidth": 0,
              "ticks": ""
             }
            },
            "type": "scattergeo"
           }
          ],
          "scattergl": [
           {
            "marker": {
             "colorbar": {
              "outlinewidth": 0,
              "ticks": ""
             }
            },
            "type": "scattergl"
           }
          ],
          "scattermapbox": [
           {
            "marker": {
             "colorbar": {
              "outlinewidth": 0,
              "ticks": ""
             }
            },
            "type": "scattermapbox"
           }
          ],
          "scatterpolar": [
           {
            "marker": {
             "colorbar": {
              "outlinewidth": 0,
              "ticks": ""
             }
            },
            "type": "scatterpolar"
           }
          ],
          "scatterpolargl": [
           {
            "marker": {
             "colorbar": {
              "outlinewidth": 0,
              "ticks": ""
             }
            },
            "type": "scatterpolargl"
           }
          ],
          "scatterternary": [
           {
            "marker": {
             "colorbar": {
              "outlinewidth": 0,
              "ticks": ""
             }
            },
            "type": "scatterternary"
           }
          ],
          "surface": [
           {
            "colorbar": {
             "outlinewidth": 0,
             "ticks": ""
            },
            "colorscale": [
             [
              0,
              "#0d0887"
             ],
             [
              0.1111111111111111,
              "#46039f"
             ],
             [
              0.2222222222222222,
              "#7201a8"
             ],
             [
              0.3333333333333333,
              "#9c179e"
             ],
             [
              0.4444444444444444,
              "#bd3786"
             ],
             [
              0.5555555555555556,
              "#d8576b"
             ],
             [
              0.6666666666666666,
              "#ed7953"
             ],
             [
              0.7777777777777778,
              "#fb9f3a"
             ],
             [
              0.8888888888888888,
              "#fdca26"
             ],
             [
              1,
              "#f0f921"
             ]
            ],
            "type": "surface"
           }
          ],
          "table": [
           {
            "cells": {
             "fill": {
              "color": "#EBF0F8"
             },
             "line": {
              "color": "white"
             }
            },
            "header": {
             "fill": {
              "color": "#C8D4E3"
             },
             "line": {
              "color": "white"
             }
            },
            "type": "table"
           }
          ]
         },
         "layout": {
          "annotationdefaults": {
           "arrowcolor": "#2a3f5f",
           "arrowhead": 0,
           "arrowwidth": 1
          },
          "autotypenumbers": "strict",
          "coloraxis": {
           "colorbar": {
            "outlinewidth": 0,
            "ticks": ""
           }
          },
          "colorscale": {
           "diverging": [
            [
             0,
             "#8e0152"
            ],
            [
             0.1,
             "#c51b7d"
            ],
            [
             0.2,
             "#de77ae"
            ],
            [
             0.3,
             "#f1b6da"
            ],
            [
             0.4,
             "#fde0ef"
            ],
            [
             0.5,
             "#f7f7f7"
            ],
            [
             0.6,
             "#e6f5d0"
            ],
            [
             0.7,
             "#b8e186"
            ],
            [
             0.8,
             "#7fbc41"
            ],
            [
             0.9,
             "#4d9221"
            ],
            [
             1,
             "#276419"
            ]
           ],
           "sequential": [
            [
             0,
             "#0d0887"
            ],
            [
             0.1111111111111111,
             "#46039f"
            ],
            [
             0.2222222222222222,
             "#7201a8"
            ],
            [
             0.3333333333333333,
             "#9c179e"
            ],
            [
             0.4444444444444444,
             "#bd3786"
            ],
            [
             0.5555555555555556,
             "#d8576b"
            ],
            [
             0.6666666666666666,
             "#ed7953"
            ],
            [
             0.7777777777777778,
             "#fb9f3a"
            ],
            [
             0.8888888888888888,
             "#fdca26"
            ],
            [
             1,
             "#f0f921"
            ]
           ],
           "sequentialminus": [
            [
             0,
             "#0d0887"
            ],
            [
             0.1111111111111111,
             "#46039f"
            ],
            [
             0.2222222222222222,
             "#7201a8"
            ],
            [
             0.3333333333333333,
             "#9c179e"
            ],
            [
             0.4444444444444444,
             "#bd3786"
            ],
            [
             0.5555555555555556,
             "#d8576b"
            ],
            [
             0.6666666666666666,
             "#ed7953"
            ],
            [
             0.7777777777777778,
             "#fb9f3a"
            ],
            [
             0.8888888888888888,
             "#fdca26"
            ],
            [
             1,
             "#f0f921"
            ]
           ]
          },
          "colorway": [
           "#636efa",
           "#EF553B",
           "#00cc96",
           "#ab63fa",
           "#FFA15A",
           "#19d3f3",
           "#FF6692",
           "#B6E880",
           "#FF97FF",
           "#FECB52"
          ],
          "font": {
           "color": "#2a3f5f"
          },
          "geo": {
           "bgcolor": "white",
           "lakecolor": "white",
           "landcolor": "#E5ECF6",
           "showlakes": true,
           "showland": true,
           "subunitcolor": "white"
          },
          "hoverlabel": {
           "align": "left"
          },
          "hovermode": "closest",
          "mapbox": {
           "style": "light"
          },
          "paper_bgcolor": "white",
          "plot_bgcolor": "#E5ECF6",
          "polar": {
           "angularaxis": {
            "gridcolor": "white",
            "linecolor": "white",
            "ticks": ""
           },
           "bgcolor": "#E5ECF6",
           "radialaxis": {
            "gridcolor": "white",
            "linecolor": "white",
            "ticks": ""
           }
          },
          "scene": {
           "xaxis": {
            "backgroundcolor": "#E5ECF6",
            "gridcolor": "white",
            "gridwidth": 2,
            "linecolor": "white",
            "showbackground": true,
            "ticks": "",
            "zerolinecolor": "white"
           },
           "yaxis": {
            "backgroundcolor": "#E5ECF6",
            "gridcolor": "white",
            "gridwidth": 2,
            "linecolor": "white",
            "showbackground": true,
            "ticks": "",
            "zerolinecolor": "white"
           },
           "zaxis": {
            "backgroundcolor": "#E5ECF6",
            "gridcolor": "white",
            "gridwidth": 2,
            "linecolor": "white",
            "showbackground": true,
            "ticks": "",
            "zerolinecolor": "white"
           }
          },
          "shapedefaults": {
           "line": {
            "color": "#2a3f5f"
           }
          },
          "ternary": {
           "aaxis": {
            "gridcolor": "white",
            "linecolor": "white",
            "ticks": ""
           },
           "baxis": {
            "gridcolor": "white",
            "linecolor": "white",
            "ticks": ""
           },
           "bgcolor": "#E5ECF6",
           "caxis": {
            "gridcolor": "white",
            "linecolor": "white",
            "ticks": ""
           }
          },
          "title": {
           "x": 0.05
          },
          "xaxis": {
           "automargin": true,
           "gridcolor": "white",
           "linecolor": "white",
           "ticks": "",
           "title": {
            "standoff": 15
           },
           "zerolinecolor": "white",
           "zerolinewidth": 2
          },
          "yaxis": {
           "automargin": true,
           "gridcolor": "white",
           "linecolor": "white",
           "ticks": "",
           "title": {
            "standoff": 15
           },
           "zerolinecolor": "white",
           "zerolinewidth": 2
          }
         }
        },
        "title": {
         "text": "German Credit Risk"
        },
        "xaxis": {
         "dtick": 1,
         "gridcolor": "rgb(0, 0, 0)",
         "side": "top",
         "ticks": ""
        },
        "yaxis": {
         "dtick": 1,
         "ticks": "",
         "ticksuffix": "  "
        }
       }
      },
      "text/html": [
       "<div>                            <div id=\"bd29253d-2509-475d-8809-6e5cd317c1f1\" class=\"plotly-graph-div\" style=\"height:525px; width:100%;\"></div>            <script type=\"text/javascript\">                require([\"plotly\"], function(Plotly) {                    window.PLOTLYENV=window.PLOTLYENV || {};                                    if (document.getElementById(\"bd29253d-2509-475d-8809-6e5cd317c1f1\")) {                    Plotly.newPlot(                        \"bd29253d-2509-475d-8809-6e5cd317c1f1\",                        [{\"colorscale\": [[0.0, \"rgb(255,245,240)\"], [0.125, \"rgb(254,224,210)\"], [0.25, \"rgb(252,187,161)\"], [0.375, \"rgb(252,146,114)\"], [0.5, \"rgb(251,106,74)\"], [0.625, \"rgb(239,59,44)\"], [0.75, \"rgb(203,24,29)\"], [0.875, \"rgb(165,15,21)\"], [1.0, \"rgb(103,0,13)\"]], \"reversescale\": false, \"showscale\": false, \"type\": \"heatmap\", \"x\": [\"Age\", \"Job\", \"Credit amount\", \"Duration\", \"Risk_int\"], \"y\": [\"Age\", \"Job\", \"Credit amount\", \"Duration\", \"Risk_int\"], \"z\": [[1.0, 0.02, 0.03, -0.04, 0.09], [0.02, 1.0, 0.29, 0.21, -0.03], [0.03, 0.29, 1.0, 0.62, -0.15], [-0.04, 0.21, 0.62, 1.0, -0.21], [0.09, -0.03, -0.15, -0.21, 1.0]]}],                        {\"annotations\": [{\"font\": {\"color\": \"#FFFFFF\"}, \"showarrow\": false, \"text\": \"1.0\", \"x\": \"Age\", \"xref\": \"x\", \"y\": \"Age\", \"yref\": \"y\"}, {\"font\": {\"color\": \"#000000\"}, \"showarrow\": false, \"text\": \"0.02\", \"x\": \"Job\", \"xref\": \"x\", \"y\": \"Age\", \"yref\": \"y\"}, {\"font\": {\"color\": \"#000000\"}, \"showarrow\": false, \"text\": \"0.03\", \"x\": \"Credit amount\", \"xref\": \"x\", \"y\": \"Age\", \"yref\": \"y\"}, {\"font\": {\"color\": \"#000000\"}, \"showarrow\": false, \"text\": \"-0.04\", \"x\": \"Duration\", \"xref\": \"x\", \"y\": \"Age\", \"yref\": \"y\"}, {\"font\": {\"color\": \"#000000\"}, \"showarrow\": false, \"text\": \"0.09\", \"x\": \"Risk_int\", \"xref\": \"x\", \"y\": \"Age\", \"yref\": \"y\"}, {\"font\": {\"color\": \"#000000\"}, \"showarrow\": false, \"text\": \"0.02\", \"x\": \"Age\", \"xref\": \"x\", \"y\": \"Job\", \"yref\": \"y\"}, {\"font\": {\"color\": \"#FFFFFF\"}, \"showarrow\": false, \"text\": \"1.0\", \"x\": \"Job\", \"xref\": \"x\", \"y\": \"Job\", \"yref\": \"y\"}, {\"font\": {\"color\": \"#000000\"}, \"showarrow\": false, \"text\": \"0.29\", \"x\": \"Credit amount\", \"xref\": \"x\", \"y\": \"Job\", \"yref\": \"y\"}, {\"font\": {\"color\": \"#000000\"}, \"showarrow\": false, \"text\": \"0.21\", \"x\": \"Duration\", \"xref\": \"x\", \"y\": \"Job\", \"yref\": \"y\"}, {\"font\": {\"color\": \"#000000\"}, \"showarrow\": false, \"text\": \"-0.03\", \"x\": \"Risk_int\", \"xref\": \"x\", \"y\": \"Job\", \"yref\": \"y\"}, {\"font\": {\"color\": \"#000000\"}, \"showarrow\": false, \"text\": \"0.03\", \"x\": \"Age\", \"xref\": \"x\", \"y\": \"Credit amount\", \"yref\": \"y\"}, {\"font\": {\"color\": \"#000000\"}, \"showarrow\": false, \"text\": \"0.29\", \"x\": \"Job\", \"xref\": \"x\", \"y\": \"Credit amount\", \"yref\": \"y\"}, {\"font\": {\"color\": \"#FFFFFF\"}, \"showarrow\": false, \"text\": \"1.0\", \"x\": \"Credit amount\", \"xref\": \"x\", \"y\": \"Credit amount\", \"yref\": \"y\"}, {\"font\": {\"color\": \"#FFFFFF\"}, \"showarrow\": false, \"text\": \"0.62\", \"x\": \"Duration\", \"xref\": \"x\", \"y\": \"Credit amount\", \"yref\": \"y\"}, {\"font\": {\"color\": \"#000000\"}, \"showarrow\": false, \"text\": \"-0.15\", \"x\": \"Risk_int\", \"xref\": \"x\", \"y\": \"Credit amount\", \"yref\": \"y\"}, {\"font\": {\"color\": \"#000000\"}, \"showarrow\": false, \"text\": \"-0.04\", \"x\": \"Age\", \"xref\": \"x\", \"y\": \"Duration\", \"yref\": \"y\"}, {\"font\": {\"color\": \"#000000\"}, \"showarrow\": false, \"text\": \"0.21\", \"x\": \"Job\", \"xref\": \"x\", \"y\": \"Duration\", \"yref\": \"y\"}, {\"font\": {\"color\": \"#FFFFFF\"}, \"showarrow\": false, \"text\": \"0.62\", \"x\": \"Credit amount\", \"xref\": \"x\", \"y\": \"Duration\", \"yref\": \"y\"}, {\"font\": {\"color\": \"#FFFFFF\"}, \"showarrow\": false, \"text\": \"1.0\", \"x\": \"Duration\", \"xref\": \"x\", \"y\": \"Duration\", \"yref\": \"y\"}, {\"font\": {\"color\": \"#000000\"}, \"showarrow\": false, \"text\": \"-0.21\", \"x\": \"Risk_int\", \"xref\": \"x\", \"y\": \"Duration\", \"yref\": \"y\"}, {\"font\": {\"color\": \"#000000\"}, \"showarrow\": false, \"text\": \"0.09\", \"x\": \"Age\", \"xref\": \"x\", \"y\": \"Risk_int\", \"yref\": \"y\"}, {\"font\": {\"color\": \"#000000\"}, \"showarrow\": false, \"text\": \"-0.03\", \"x\": \"Job\", \"xref\": \"x\", \"y\": \"Risk_int\", \"yref\": \"y\"}, {\"font\": {\"color\": \"#000000\"}, \"showarrow\": false, \"text\": \"-0.15\", \"x\": \"Credit amount\", \"xref\": \"x\", \"y\": \"Risk_int\", \"yref\": \"y\"}, {\"font\": {\"color\": \"#000000\"}, \"showarrow\": false, \"text\": \"-0.21\", \"x\": \"Duration\", \"xref\": \"x\", \"y\": \"Risk_int\", \"yref\": \"y\"}, {\"font\": {\"color\": \"#FFFFFF\"}, \"showarrow\": false, \"text\": \"1.0\", \"x\": \"Risk_int\", \"xref\": \"x\", \"y\": \"Risk_int\", \"yref\": \"y\"}], \"template\": {\"data\": {\"bar\": [{\"error_x\": {\"color\": \"#2a3f5f\"}, \"error_y\": {\"color\": \"#2a3f5f\"}, \"marker\": {\"line\": {\"color\": \"#E5ECF6\", \"width\": 0.5}}, \"type\": \"bar\"}], \"barpolar\": [{\"marker\": {\"line\": {\"color\": \"#E5ECF6\", \"width\": 0.5}}, \"type\": \"barpolar\"}], \"carpet\": [{\"aaxis\": {\"endlinecolor\": \"#2a3f5f\", \"gridcolor\": \"white\", \"linecolor\": \"white\", \"minorgridcolor\": \"white\", \"startlinecolor\": \"#2a3f5f\"}, \"baxis\": {\"endlinecolor\": \"#2a3f5f\", \"gridcolor\": \"white\", \"linecolor\": \"white\", \"minorgridcolor\": \"white\", \"startlinecolor\": \"#2a3f5f\"}, \"type\": \"carpet\"}], \"choropleth\": [{\"colorbar\": {\"outlinewidth\": 0, \"ticks\": \"\"}, \"type\": \"choropleth\"}], \"contour\": [{\"colorbar\": {\"outlinewidth\": 0, \"ticks\": \"\"}, \"colorscale\": [[0.0, \"#0d0887\"], [0.1111111111111111, \"#46039f\"], [0.2222222222222222, \"#7201a8\"], [0.3333333333333333, \"#9c179e\"], [0.4444444444444444, \"#bd3786\"], [0.5555555555555556, \"#d8576b\"], [0.6666666666666666, \"#ed7953\"], [0.7777777777777778, \"#fb9f3a\"], [0.8888888888888888, \"#fdca26\"], [1.0, \"#f0f921\"]], \"type\": \"contour\"}], \"contourcarpet\": [{\"colorbar\": {\"outlinewidth\": 0, \"ticks\": \"\"}, \"type\": \"contourcarpet\"}], \"heatmap\": [{\"colorbar\": {\"outlinewidth\": 0, \"ticks\": \"\"}, \"colorscale\": [[0.0, \"#0d0887\"], [0.1111111111111111, \"#46039f\"], [0.2222222222222222, \"#7201a8\"], [0.3333333333333333, \"#9c179e\"], [0.4444444444444444, \"#bd3786\"], [0.5555555555555556, \"#d8576b\"], [0.6666666666666666, \"#ed7953\"], [0.7777777777777778, \"#fb9f3a\"], [0.8888888888888888, \"#fdca26\"], [1.0, \"#f0f921\"]], \"type\": \"heatmap\"}], \"heatmapgl\": [{\"colorbar\": {\"outlinewidth\": 0, \"ticks\": \"\"}, \"colorscale\": [[0.0, \"#0d0887\"], [0.1111111111111111, \"#46039f\"], [0.2222222222222222, \"#7201a8\"], [0.3333333333333333, \"#9c179e\"], [0.4444444444444444, \"#bd3786\"], [0.5555555555555556, \"#d8576b\"], [0.6666666666666666, \"#ed7953\"], [0.7777777777777778, \"#fb9f3a\"], [0.8888888888888888, \"#fdca26\"], [1.0, \"#f0f921\"]], \"type\": \"heatmapgl\"}], \"histogram\": [{\"marker\": {\"colorbar\": {\"outlinewidth\": 0, \"ticks\": \"\"}}, \"type\": \"histogram\"}], \"histogram2d\": [{\"colorbar\": {\"outlinewidth\": 0, \"ticks\": \"\"}, \"colorscale\": [[0.0, \"#0d0887\"], [0.1111111111111111, \"#46039f\"], [0.2222222222222222, \"#7201a8\"], [0.3333333333333333, \"#9c179e\"], [0.4444444444444444, \"#bd3786\"], [0.5555555555555556, \"#d8576b\"], [0.6666666666666666, \"#ed7953\"], [0.7777777777777778, \"#fb9f3a\"], [0.8888888888888888, \"#fdca26\"], [1.0, \"#f0f921\"]], \"type\": \"histogram2d\"}], \"histogram2dcontour\": [{\"colorbar\": {\"outlinewidth\": 0, \"ticks\": \"\"}, \"colorscale\": [[0.0, \"#0d0887\"], [0.1111111111111111, \"#46039f\"], [0.2222222222222222, \"#7201a8\"], [0.3333333333333333, \"#9c179e\"], [0.4444444444444444, \"#bd3786\"], [0.5555555555555556, \"#d8576b\"], [0.6666666666666666, \"#ed7953\"], [0.7777777777777778, \"#fb9f3a\"], [0.8888888888888888, \"#fdca26\"], [1.0, \"#f0f921\"]], \"type\": \"histogram2dcontour\"}], \"mesh3d\": [{\"colorbar\": {\"outlinewidth\": 0, \"ticks\": \"\"}, \"type\": \"mesh3d\"}], \"parcoords\": [{\"line\": {\"colorbar\": {\"outlinewidth\": 0, \"ticks\": \"\"}}, \"type\": \"parcoords\"}], \"pie\": [{\"automargin\": true, \"type\": \"pie\"}], \"scatter\": [{\"marker\": {\"colorbar\": {\"outlinewidth\": 0, \"ticks\": \"\"}}, \"type\": \"scatter\"}], \"scatter3d\": [{\"line\": {\"colorbar\": {\"outlinewidth\": 0, \"ticks\": \"\"}}, \"marker\": {\"colorbar\": {\"outlinewidth\": 0, \"ticks\": \"\"}}, \"type\": \"scatter3d\"}], \"scattercarpet\": [{\"marker\": {\"colorbar\": {\"outlinewidth\": 0, \"ticks\": \"\"}}, \"type\": \"scattercarpet\"}], \"scattergeo\": [{\"marker\": {\"colorbar\": {\"outlinewidth\": 0, \"ticks\": \"\"}}, \"type\": \"scattergeo\"}], \"scattergl\": [{\"marker\": {\"colorbar\": {\"outlinewidth\": 0, \"ticks\": \"\"}}, \"type\": \"scattergl\"}], \"scattermapbox\": [{\"marker\": {\"colorbar\": {\"outlinewidth\": 0, \"ticks\": \"\"}}, \"type\": \"scattermapbox\"}], \"scatterpolar\": [{\"marker\": {\"colorbar\": {\"outlinewidth\": 0, \"ticks\": \"\"}}, \"type\": \"scatterpolar\"}], \"scatterpolargl\": [{\"marker\": {\"colorbar\": {\"outlinewidth\": 0, \"ticks\": \"\"}}, \"type\": \"scatterpolargl\"}], \"scatterternary\": [{\"marker\": {\"colorbar\": {\"outlinewidth\": 0, \"ticks\": \"\"}}, \"type\": \"scatterternary\"}], \"surface\": [{\"colorbar\": {\"outlinewidth\": 0, \"ticks\": \"\"}, \"colorscale\": [[0.0, \"#0d0887\"], [0.1111111111111111, \"#46039f\"], [0.2222222222222222, \"#7201a8\"], [0.3333333333333333, \"#9c179e\"], [0.4444444444444444, \"#bd3786\"], [0.5555555555555556, \"#d8576b\"], [0.6666666666666666, \"#ed7953\"], [0.7777777777777778, \"#fb9f3a\"], [0.8888888888888888, \"#fdca26\"], [1.0, \"#f0f921\"]], \"type\": \"surface\"}], \"table\": [{\"cells\": {\"fill\": {\"color\": \"#EBF0F8\"}, \"line\": {\"color\": \"white\"}}, \"header\": {\"fill\": {\"color\": \"#C8D4E3\"}, \"line\": {\"color\": \"white\"}}, \"type\": \"table\"}]}, \"layout\": {\"annotationdefaults\": {\"arrowcolor\": \"#2a3f5f\", \"arrowhead\": 0, \"arrowwidth\": 1}, \"autotypenumbers\": \"strict\", \"coloraxis\": {\"colorbar\": {\"outlinewidth\": 0, \"ticks\": \"\"}}, \"colorscale\": {\"diverging\": [[0, \"#8e0152\"], [0.1, \"#c51b7d\"], [0.2, \"#de77ae\"], [0.3, \"#f1b6da\"], [0.4, \"#fde0ef\"], [0.5, \"#f7f7f7\"], [0.6, \"#e6f5d0\"], [0.7, \"#b8e186\"], [0.8, \"#7fbc41\"], [0.9, \"#4d9221\"], [1, \"#276419\"]], \"sequential\": [[0.0, \"#0d0887\"], [0.1111111111111111, \"#46039f\"], [0.2222222222222222, \"#7201a8\"], [0.3333333333333333, \"#9c179e\"], [0.4444444444444444, \"#bd3786\"], [0.5555555555555556, \"#d8576b\"], [0.6666666666666666, \"#ed7953\"], [0.7777777777777778, \"#fb9f3a\"], [0.8888888888888888, \"#fdca26\"], [1.0, \"#f0f921\"]], \"sequentialminus\": [[0.0, \"#0d0887\"], [0.1111111111111111, \"#46039f\"], [0.2222222222222222, \"#7201a8\"], [0.3333333333333333, \"#9c179e\"], [0.4444444444444444, \"#bd3786\"], [0.5555555555555556, \"#d8576b\"], [0.6666666666666666, \"#ed7953\"], [0.7777777777777778, \"#fb9f3a\"], [0.8888888888888888, \"#fdca26\"], [1.0, \"#f0f921\"]]}, \"colorway\": [\"#636efa\", \"#EF553B\", \"#00cc96\", \"#ab63fa\", \"#FFA15A\", \"#19d3f3\", \"#FF6692\", \"#B6E880\", \"#FF97FF\", \"#FECB52\"], \"font\": {\"color\": \"#2a3f5f\"}, \"geo\": {\"bgcolor\": \"white\", \"lakecolor\": \"white\", \"landcolor\": \"#E5ECF6\", \"showlakes\": true, \"showland\": true, \"subunitcolor\": \"white\"}, \"hoverlabel\": {\"align\": \"left\"}, \"hovermode\": \"closest\", \"mapbox\": {\"style\": \"light\"}, \"paper_bgcolor\": \"white\", \"plot_bgcolor\": \"#E5ECF6\", \"polar\": {\"angularaxis\": {\"gridcolor\": \"white\", \"linecolor\": \"white\", \"ticks\": \"\"}, \"bgcolor\": \"#E5ECF6\", \"radialaxis\": {\"gridcolor\": \"white\", \"linecolor\": \"white\", \"ticks\": \"\"}}, \"scene\": {\"xaxis\": {\"backgroundcolor\": \"#E5ECF6\", \"gridcolor\": \"white\", \"gridwidth\": 2, \"linecolor\": \"white\", \"showbackground\": true, \"ticks\": \"\", \"zerolinecolor\": \"white\"}, \"yaxis\": {\"backgroundcolor\": \"#E5ECF6\", \"gridcolor\": \"white\", \"gridwidth\": 2, \"linecolor\": \"white\", \"showbackground\": true, \"ticks\": \"\", \"zerolinecolor\": \"white\"}, \"zaxis\": {\"backgroundcolor\": \"#E5ECF6\", \"gridcolor\": \"white\", \"gridwidth\": 2, \"linecolor\": \"white\", \"showbackground\": true, \"ticks\": \"\", \"zerolinecolor\": \"white\"}}, \"shapedefaults\": {\"line\": {\"color\": \"#2a3f5f\"}}, \"ternary\": {\"aaxis\": {\"gridcolor\": \"white\", \"linecolor\": \"white\", \"ticks\": \"\"}, \"baxis\": {\"gridcolor\": \"white\", \"linecolor\": \"white\", \"ticks\": \"\"}, \"bgcolor\": \"#E5ECF6\", \"caxis\": {\"gridcolor\": \"white\", \"linecolor\": \"white\", \"ticks\": \"\"}}, \"title\": {\"x\": 0.05}, \"xaxis\": {\"automargin\": true, \"gridcolor\": \"white\", \"linecolor\": \"white\", \"ticks\": \"\", \"title\": {\"standoff\": 15}, \"zerolinecolor\": \"white\", \"zerolinewidth\": 2}, \"yaxis\": {\"automargin\": true, \"gridcolor\": \"white\", \"linecolor\": \"white\", \"ticks\": \"\", \"title\": {\"standoff\": 15}, \"zerolinecolor\": \"white\", \"zerolinewidth\": 2}}}, \"title\": {\"text\": \"German Credit Risk\"}, \"xaxis\": {\"dtick\": 1, \"gridcolor\": \"rgb(0, 0, 0)\", \"side\": \"top\", \"ticks\": \"\"}, \"yaxis\": {\"dtick\": 1, \"ticks\": \"\", \"ticksuffix\": \"  \"}},                        {\"responsive\": true}                    ).then(function(){\n",
       "                            \n",
       "var gd = document.getElementById('bd29253d-2509-475d-8809-6e5cd317c1f1');\n",
       "var x = new MutationObserver(function (mutations, observer) {{\n",
       "        var display = window.getComputedStyle(gd).display;\n",
       "        if (!display || display === 'none') {{\n",
       "            console.log([gd, 'removed!']);\n",
       "            Plotly.purge(gd);\n",
       "            observer.disconnect();\n",
       "        }}\n",
       "}});\n",
       "\n",
       "// Listen for the removal of the full notebook cells\n",
       "var notebookContainer = gd.closest('#notebook-container');\n",
       "if (notebookContainer) {{\n",
       "    x.observe(notebookContainer, {childList: true});\n",
       "}}\n",
       "\n",
       "// Listen for the clearing of the current output cell\n",
       "var outputEl = gd.closest('.output');\n",
       "if (outputEl) {{\n",
       "    x.observe(outputEl, {childList: true});\n",
       "}}\n",
       "\n",
       "                        })                };                });            </script>        </div>"
      ]
     },
     "metadata": {},
     "output_type": "display_data"
    }
   ],
   "source": [
    "import plotly.figure_factory as ff\n",
    "\n",
    "\n",
    "corr = data.corr()\n",
    "\n",
    "arr_corr = corr.values\n",
    "arr_corr = np.around(arr_corr, decimals=2)\n",
    "\n",
    "columns = corr.columns.values.tolist()\n",
    "\n",
    "fig = ff.create_annotated_heatmap(arr_corr, x=columns, y=columns, colorscale='Reds')\n",
    "\n",
    "fig.layout.title = 'German Credit Risk'\n",
    "iplot(fig, filename='annotated_heatmap')"
   ]
  },
  {
   "cell_type": "code",
   "execution_count": 157,
   "metadata": {},
   "outputs": [
    {
     "data": {
      "text/html": [
       "<div>\n",
       "<style scoped>\n",
       "    .dataframe tbody tr th:only-of-type {\n",
       "        vertical-align: middle;\n",
       "    }\n",
       "\n",
       "    .dataframe tbody tr th {\n",
       "        vertical-align: top;\n",
       "    }\n",
       "\n",
       "    .dataframe thead th {\n",
       "        text-align: right;\n",
       "    }\n",
       "</style>\n",
       "<table border=\"1\" class=\"dataframe\">\n",
       "  <thead>\n",
       "    <tr style=\"text-align: right;\">\n",
       "      <th></th>\n",
       "      <th>mean</th>\n",
       "      <th>sd</th>\n",
       "      <th>min</th>\n",
       "      <th>max</th>\n",
       "      <th>median</th>\n",
       "      <th>length</th>\n",
       "      <th>miss.val</th>\n",
       "    </tr>\n",
       "  </thead>\n",
       "  <tbody>\n",
       "    <tr>\n",
       "      <th>Age</th>\n",
       "      <td>35.546</td>\n",
       "      <td>11.375469</td>\n",
       "      <td>19</td>\n",
       "      <td>75</td>\n",
       "      <td>33.0</td>\n",
       "      <td>1000</td>\n",
       "      <td>0</td>\n",
       "    </tr>\n",
       "    <tr>\n",
       "      <th>Age_Group</th>\n",
       "      <td>NaN</td>\n",
       "      <td>NaN</td>\n",
       "      <td>Elder</td>\n",
       "      <td>Young Adults</td>\n",
       "      <td>NaN</td>\n",
       "      <td>1000</td>\n",
       "      <td>0</td>\n",
       "    </tr>\n",
       "    <tr>\n",
       "      <th>Checking account</th>\n",
       "      <td>NaN</td>\n",
       "      <td>NaN</td>\n",
       "      <td>little</td>\n",
       "      <td>rich</td>\n",
       "      <td>NaN</td>\n",
       "      <td>1000</td>\n",
       "      <td>0</td>\n",
       "    </tr>\n",
       "    <tr>\n",
       "      <th>Credit amount</th>\n",
       "      <td>3271.258</td>\n",
       "      <td>2822.736876</td>\n",
       "      <td>250</td>\n",
       "      <td>18424</td>\n",
       "      <td>2319.5</td>\n",
       "      <td>1000</td>\n",
       "      <td>0</td>\n",
       "    </tr>\n",
       "    <tr>\n",
       "      <th>Duration</th>\n",
       "      <td>20.903</td>\n",
       "      <td>12.058814</td>\n",
       "      <td>4</td>\n",
       "      <td>72</td>\n",
       "      <td>18.0</td>\n",
       "      <td>1000</td>\n",
       "      <td>0</td>\n",
       "    </tr>\n",
       "  </tbody>\n",
       "</table>\n",
       "</div>"
      ],
      "text/plain": [
       "                      mean           sd     min           max  median  length  \\\n",
       "Age                 35.546    11.375469      19            75    33.0    1000   \n",
       "Age_Group              NaN          NaN   Elder  Young Adults     NaN    1000   \n",
       "Checking account       NaN          NaN  little          rich     NaN    1000   \n",
       "Credit amount     3271.258  2822.736876     250         18424  2319.5    1000   \n",
       "Duration            20.903    12.058814       4            72    18.0    1000   \n",
       "\n",
       "                  miss.val  \n",
       "Age                      0  \n",
       "Age_Group                0  \n",
       "Checking account         0  \n",
       "Credit amount            0  \n",
       "Duration                 0  "
      ]
     },
     "execution_count": 157,
     "metadata": {},
     "output_type": "execute_result"
    }
   ],
   "source": [
    "dimension = pd.DataFrame({'mean': data.mean(),\n",
    "'sd': data.std(),\n",
    "'min': data.min(),\n",
    "'max': data.max(),\n",
    "'median': data.median(),\n",
    "'length': len(data),\n",
    "'miss.val': data.isnull().sum(),\n",
    "})\n",
    "dimension.head()"
   ]
  },
  {
   "cell_type": "code",
   "execution_count": 129,
   "metadata": {},
   "outputs": [
    {
     "data": {
      "text/html": [
       "<div>\n",
       "<style scoped>\n",
       "    .dataframe tbody tr th:only-of-type {\n",
       "        vertical-align: middle;\n",
       "    }\n",
       "\n",
       "    .dataframe tbody tr th {\n",
       "        vertical-align: top;\n",
       "    }\n",
       "\n",
       "    .dataframe thead th {\n",
       "        text-align: right;\n",
       "    }\n",
       "</style>\n",
       "<table border=\"1\" class=\"dataframe\">\n",
       "  <thead>\n",
       "    <tr style=\"text-align: right;\">\n",
       "      <th></th>\n",
       "      <th>Unnamed: 0</th>\n",
       "      <th>Age</th>\n",
       "      <th>Job</th>\n",
       "      <th>Credit amount</th>\n",
       "      <th>Duration</th>\n",
       "    </tr>\n",
       "  </thead>\n",
       "  <tbody>\n",
       "    <tr>\n",
       "      <th>Unnamed: 0</th>\n",
       "      <td>1.00</td>\n",
       "      <td>-0.01</td>\n",
       "      <td>-0.03</td>\n",
       "      <td>0.01</td>\n",
       "      <td>0.03</td>\n",
       "    </tr>\n",
       "    <tr>\n",
       "      <th>Age</th>\n",
       "      <td>-0.01</td>\n",
       "      <td>1.00</td>\n",
       "      <td>0.02</td>\n",
       "      <td>0.03</td>\n",
       "      <td>-0.04</td>\n",
       "    </tr>\n",
       "    <tr>\n",
       "      <th>Job</th>\n",
       "      <td>-0.03</td>\n",
       "      <td>0.02</td>\n",
       "      <td>1.00</td>\n",
       "      <td>0.29</td>\n",
       "      <td>0.21</td>\n",
       "    </tr>\n",
       "    <tr>\n",
       "      <th>Credit amount</th>\n",
       "      <td>0.01</td>\n",
       "      <td>0.03</td>\n",
       "      <td>0.29</td>\n",
       "      <td>1.00</td>\n",
       "      <td>0.62</td>\n",
       "    </tr>\n",
       "    <tr>\n",
       "      <th>Duration</th>\n",
       "      <td>0.03</td>\n",
       "      <td>-0.04</td>\n",
       "      <td>0.21</td>\n",
       "      <td>0.62</td>\n",
       "      <td>1.00</td>\n",
       "    </tr>\n",
       "  </tbody>\n",
       "</table>\n",
       "</div>"
      ],
      "text/plain": [
       "               Unnamed: 0   Age   Job  Credit amount  Duration\n",
       "Unnamed: 0           1.00 -0.01 -0.03           0.01      0.03\n",
       "Age                 -0.01  1.00  0.02           0.03     -0.04\n",
       "Job                 -0.03  0.02  1.00           0.29      0.21\n",
       "Credit amount        0.01  0.03  0.29           1.00      0.62\n",
       "Duration             0.03 -0.04  0.21           0.62      1.00"
      ]
     },
     "execution_count": 129,
     "metadata": {},
     "output_type": "execute_result"
    }
   ],
   "source": [
    "data.corr().round(2)"
   ]
  },
  {
   "cell_type": "code",
   "execution_count": null,
   "metadata": {},
   "outputs": [],
   "source": []
  },
  {
   "cell_type": "code",
   "execution_count": null,
   "metadata": {},
   "outputs": [],
   "source": []
  },
  {
   "cell_type": "code",
   "execution_count": null,
   "metadata": {},
   "outputs": [],
   "source": []
  },
  {
   "cell_type": "code",
   "execution_count": null,
   "metadata": {},
   "outputs": [],
   "source": []
  },
  {
   "cell_type": "code",
   "execution_count": null,
   "metadata": {},
   "outputs": [],
   "source": []
  },
  {
   "cell_type": "code",
   "execution_count": null,
   "metadata": {},
   "outputs": [],
   "source": []
  },
  {
   "cell_type": "code",
   "execution_count": null,
   "metadata": {},
   "outputs": [],
   "source": []
  },
  {
   "cell_type": "code",
   "execution_count": null,
   "metadata": {},
   "outputs": [],
   "source": []
  },
  {
   "cell_type": "code",
   "execution_count": null,
   "metadata": {},
   "outputs": [],
   "source": []
  },
  {
   "cell_type": "code",
   "execution_count": null,
   "metadata": {},
   "outputs": [],
   "source": []
  },
  {
   "cell_type": "code",
   "execution_count": null,
   "metadata": {},
   "outputs": [],
   "source": []
  },
  {
   "cell_type": "code",
   "execution_count": null,
   "metadata": {},
   "outputs": [],
   "source": []
  },
  {
   "cell_type": "code",
   "execution_count": null,
   "metadata": {},
   "outputs": [],
   "source": []
  },
  {
   "cell_type": "code",
   "execution_count": null,
   "metadata": {},
   "outputs": [],
   "source": []
  },
  {
   "cell_type": "code",
   "execution_count": null,
   "metadata": {},
   "outputs": [],
   "source": []
  },
  {
   "cell_type": "code",
   "execution_count": null,
   "metadata": {},
   "outputs": [],
   "source": []
  },
  {
   "cell_type": "code",
   "execution_count": null,
   "metadata": {},
   "outputs": [],
   "source": []
  },
  {
   "cell_type": "code",
   "execution_count": null,
   "metadata": {},
   "outputs": [],
   "source": []
  },
  {
   "cell_type": "code",
   "execution_count": null,
   "metadata": {},
   "outputs": [],
   "source": []
  },
  {
   "cell_type": "code",
   "execution_count": null,
   "metadata": {},
   "outputs": [],
   "source": []
  },
  {
   "cell_type": "code",
   "execution_count": null,
   "metadata": {},
   "outputs": [],
   "source": []
  },
  {
   "cell_type": "code",
   "execution_count": null,
   "metadata": {},
   "outputs": [],
   "source": []
  },
  {
   "cell_type": "code",
   "execution_count": null,
   "metadata": {},
   "outputs": [],
   "source": []
  },
  {
   "cell_type": "code",
   "execution_count": null,
   "metadata": {},
   "outputs": [],
   "source": []
  },
  {
   "cell_type": "code",
   "execution_count": null,
   "metadata": {},
   "outputs": [],
   "source": []
  },
  {
   "cell_type": "code",
   "execution_count": null,
   "metadata": {},
   "outputs": [],
   "source": []
  },
  {
   "cell_type": "code",
   "execution_count": null,
   "metadata": {},
   "outputs": [],
   "source": []
  },
  {
   "cell_type": "code",
   "execution_count": null,
   "metadata": {},
   "outputs": [],
   "source": []
  },
  {
   "cell_type": "code",
   "execution_count": null,
   "metadata": {},
   "outputs": [],
   "source": []
  },
  {
   "cell_type": "code",
   "execution_count": null,
   "metadata": {},
   "outputs": [],
   "source": []
  },
  {
   "cell_type": "code",
   "execution_count": null,
   "metadata": {},
   "outputs": [],
   "source": []
  },
  {
   "cell_type": "code",
   "execution_count": null,
   "metadata": {},
   "outputs": [],
   "source": []
  },
  {
   "cell_type": "code",
   "execution_count": null,
   "metadata": {},
   "outputs": [],
   "source": []
  },
  {
   "cell_type": "code",
   "execution_count": null,
   "metadata": {},
   "outputs": [],
   "source": []
  },
  {
   "cell_type": "code",
   "execution_count": null,
   "metadata": {},
   "outputs": [],
   "source": []
  },
  {
   "cell_type": "code",
   "execution_count": null,
   "metadata": {},
   "outputs": [],
   "source": []
  },
  {
   "cell_type": "code",
   "execution_count": null,
   "metadata": {},
   "outputs": [],
   "source": []
  },
  {
   "cell_type": "code",
   "execution_count": null,
   "metadata": {},
   "outputs": [],
   "source": []
  },
  {
   "cell_type": "code",
   "execution_count": null,
   "metadata": {},
   "outputs": [],
   "source": []
  },
  {
   "cell_type": "code",
   "execution_count": null,
   "metadata": {},
   "outputs": [],
   "source": []
  },
  {
   "cell_type": "code",
   "execution_count": null,
   "metadata": {},
   "outputs": [],
   "source": []
  },
  {
   "cell_type": "code",
   "execution_count": null,
   "metadata": {},
   "outputs": [],
   "source": []
  },
  {
   "cell_type": "code",
   "execution_count": null,
   "metadata": {},
   "outputs": [],
   "source": []
  },
  {
   "cell_type": "code",
   "execution_count": null,
   "metadata": {},
   "outputs": [],
   "source": []
  },
  {
   "cell_type": "code",
   "execution_count": null,
   "metadata": {},
   "outputs": [],
   "source": []
  },
  {
   "cell_type": "code",
   "execution_count": null,
   "metadata": {},
   "outputs": [],
   "source": []
  },
  {
   "cell_type": "code",
   "execution_count": null,
   "metadata": {},
   "outputs": [],
   "source": []
  },
  {
   "cell_type": "code",
   "execution_count": null,
   "metadata": {},
   "outputs": [],
   "source": []
  },
  {
   "cell_type": "code",
   "execution_count": null,
   "metadata": {},
   "outputs": [],
   "source": []
  },
  {
   "cell_type": "code",
   "execution_count": null,
   "metadata": {},
   "outputs": [],
   "source": []
  },
  {
   "cell_type": "code",
   "execution_count": null,
   "metadata": {},
   "outputs": [],
   "source": []
  },
  {
   "cell_type": "code",
   "execution_count": null,
   "metadata": {},
   "outputs": [],
   "source": []
  },
  {
   "cell_type": "code",
   "execution_count": null,
   "metadata": {},
   "outputs": [],
   "source": []
  }
 ],
 "metadata": {
  "kernelspec": {
   "display_name": "Python 3",
   "language": "python",
   "name": "python3"
  },
  "language_info": {
   "codemirror_mode": {
    "name": "ipython",
    "version": 3
   },
   "file_extension": ".py",
   "mimetype": "text/x-python",
   "name": "python",
   "nbconvert_exporter": "python",
   "pygments_lexer": "ipython3",
   "version": "3.8.5"
  }
 },
 "nbformat": 4,
 "nbformat_minor": 5
}
